{
 "metadata": {
  "name": "numpy-tutorial"
 }, 
 "nbformat": 2, 
 "worksheets": [
  {
   "cells": [
    {
     "cell_type": "markdown", 
     "source": [
      "# Introduction to Numpy", 
      "", 
      "__Software Carpentry Bootcamp  ", 
      "Berkeley, CA  ", 
      "October 2012__  ", 
      "", 
      "Prepared by: Justin Kitzes  ", 
      "Ideas from: Katy Huff, Matt Davis, Paul Ivanov, Matthew Terry, and the UC Berkeley Python Bootcamp"
     ]
    }, 
    {
     "cell_type": "markdown", 
     "source": [
      "## 1. Getting Started"
     ]
    }, 
    {
     "cell_type": "markdown", 
     "source": [
      "### 1.1 What is NumPy ?", 
      "", 
      "NumPy is a Python package that allows you to use a powerful data type known as an 'ndarray'", 
      "(for n-dimensional array). Numerical operations on ndarrays are often more efficient than", 
      "those on lists or other native Python data structures. NumPy also includes many helpful", 
      "shortcuts and functions for operating on these arrays.", 
      "", 
      "The official NumPy documentation is at http://docs.scipy.org/doc/numpy/reference/"
     ]
    }, 
    {
     "cell_type": "markdown", 
     "source": [
      "### 1.2 Importing numpy", 
      "", 
      "NumPy must be imported to be used - it's common to import the package 'numpy' with", 
      "the short name 'np' to save typing later on."
     ]
    }, 
    {
     "cell_type": "code", 
     "collapsed": true, 
     "input": [
      "import numpy as np"
     ], 
     "language": "python", 
     "outputs": [], 
     "prompt_number": 2
    }, 
    {
     "cell_type": "markdown", 
     "source": [
      "## 2. Numpy Arrays", 
      "", 
      "Numpy allows you to use a new data type called an ndarray. Arrays mostly act like other", 
      "data collections, like lists or tuples, but with a few key differences described", 
      "below."
     ]
    }, 
    {
     "cell_type": "markdown", 
     "source": [
      "### 2.1 Creating arrays", 
      "", 
      "Arrays are commonly created from existing data collections (like lists), by", 
      "creating an array full of ones or zeros, or by creating a sequence."
     ]
    }, 
    {
     "cell_type": "code", 
     "collapsed": true, 
     "input": [
      "# Array from a list - also works with tuples", 
      "list1 = [2, 3, 4]", 
      "list2 = [5, 6, 7]", 
      ""
     ], 
     "language": "python", 
     "outputs": [], 
     "prompt_number": 79
    }, 
    {
     "cell_type": "code", 
     "collapsed": true, 
     "input": [
      "# Array of ones, zeros, or nothing"
     ], 
     "language": "python", 
     "outputs": [], 
     "prompt_number": 12
    }, 
    {
     "cell_type": "code", 
     "collapsed": true, 
     "input": [
      "# Array of a sequence of numbers"
     ], 
     "language": "python", 
     "outputs": [], 
     "prompt_number": 14
    }, 
    {
     "cell_type": "markdown", 
     "source": [
      "There are many other helpful functions for array creation, including np.random.rand and", 
      "np.identity. Before trying to hack together a particular type of new array, check the docs", 
      "to see if there's a simple function to do it for you."
     ]
    }, 
    {
     "cell_type": "markdown", 
     "source": [
      "### 2.2 Arrays are objects with methods and attributes", 
      "", 
      "While we will not teach object oriented programming in this bootcamp, it is helpful", 
      "to know that arrays are objects in numpy. This means that they have attributes", 
      "(characteristics) and methods (ways of operating on themselves)."
     ]
    }, 
    {
     "cell_type": "code", 
     "collapsed": true, 
     "input": [
      "# A 5x5 array of ones"
     ], 
     "language": "python", 
     "outputs": [], 
     "prompt_number": 46
    }, 
    {
     "cell_type": "code", 
     "collapsed": true, 
     "input": [
      "# Some attributes"
     ], 
     "language": "python", 
     "outputs": [], 
     "prompt_number": 47
    }, 
    {
     "cell_type": "code", 
     "collapsed": true, 
     "input": [
      "# Some methods"
     ], 
     "language": "python", 
     "outputs": [], 
     "prompt_number": 48
    }, 
    {
     "cell_type": "markdown", 
     "source": [
      "### Exercise", 
      "", 
      "* Create a one dimensional array of 16 linearly spaced values ranging from 0 to 2.", 
      "* Print the data type of the array.", 
      "* Reshape this into a two dimensional 4 x 4 array.", 
      "* Print the top half of the array (ie, the first two rows and all columns).", 
      "  Hint: A 2D array is indexed like A[0:4, 0:4].", 
      "", 
      "_Bonus_: Make the one dimensional array full of logarithmically spaced values, and calculate the", 
      "mean of each column of the array. Hint: Look at the arguments for the method A.mean()."
     ]
    }, 
    {
     "cell_type": "code", 
     "collapsed": true, 
     "input": [
      "# Try it here..."
     ], 
     "language": "python", 
     "outputs": [], 
     "prompt_number": 107
    }, 
    {
     "cell_type": "markdown", 
     "source": [
      "### 2.3 Array elements are actually pointers, but can be copied if needed", 
      "", 
      "This is a source of one of the big 'gotchas' in numpy, which can case some of the hardest to find", 
      "bugs. Arrays, and indexes for elements in arrays, actually point to data, they are not themselves a", 
      "unique copy of data. For example..."
     ]
    }, 
    {
     "cell_type": "code", 
     "collapsed": true, 
     "input": [
      "# Be careful with pointers..."
     ], 
     "language": "python", 
     "outputs": [], 
     "prompt_number": 59
    }, 
    {
     "cell_type": "markdown", 
     "source": [
      "### Exercise", 
      "", 
      "Figure out how to make B an independent copy of A, so that when we change a value in B,", 
      "A will stay the same. Hint: Look at the methods of A."
     ]
    }, 
    {
     "cell_type": "code", 
     "collapsed": true, 
     "input": [
      "# Try it here..."
     ], 
     "language": "python", 
     "outputs": [], 
     "prompt_number": 102
    }, 
    {
     "cell_type": "markdown", 
     "source": [
      "## 3. Using Arrays"
     ]
    }, 
    {
     "cell_type": "markdown", 
     "source": [
      "### 3.1 Math on arrays", 
      "", 
      "Unlike Matlab (for example), all operations on arrays in numpy operate 'by default' elementwise."
     ]
    }, 
    {
     "cell_type": "code", 
     "collapsed": true, 
     "input": [
      "# Elementwise math with one array", 
      "a = np.arange(5)"
     ], 
     "language": "python", 
     "outputs": [], 
     "prompt_number": 63
    }, 
    {
     "cell_type": "code", 
     "collapsed": true, 
     "input": [
      "# Elementwise math with two arrays", 
      "a = np.arange(5)", 
      "b = np.arange(5, 10)"
     ], 
     "language": "python", 
     "outputs": [], 
     "prompt_number": 66
    }, 
    {
     "cell_type": "code", 
     "collapsed": true, 
     "input": [
      "# Other array math", 
      "a = np.arange(5)"
     ], 
     "language": "python", 
     "outputs": [], 
     "prompt_number": 70
    }, 
    {
     "cell_type": "markdown", 
     "source": [
      "Many other helpful functions for operating elementwise on arrays are available - see", 
      "http://docs.scipy.org/doc/numpy/reference/ufuncs.html#available-ufuncs"
     ]
    }, 
    {
     "cell_type": "markdown", 
     "source": [
      "For true linear algebra, use the relevant numpy functions."
     ]
    }, 
    {
     "cell_type": "code", 
     "collapsed": true, 
     "input": [
      "# Matrix multiplication with dot", 
      "a = np.array([[1, 2], [3, 4]])", 
      "b = np.array([[2, 3], [4, 5]])"
     ], 
     "language": "python", 
     "outputs": []
    }, 
    {
     "cell_type": "markdown", 
     "source": [
      "### 3.2 Broadcasting and repeating", 
      "", 
      "If you try to perform an array operation on two differently sized arrays, numpy will try to do the", 
      "smart thing by expanding the smaller array (this is called broadcasting)."
     ]
    }, 
    {
     "cell_type": "code", 
     "collapsed": true, 
     "input": [
      "# Broadcasting", 
      "x = np.arange(4)", 
      "z = np.ones((3,4))"
     ], 
     "language": "python", 
     "outputs": [], 
     "prompt_number": 71
    }, 
    {
     "cell_type": "code", 
     "collapsed": true, 
     "input": [
      "# Broadcasting", 
      "x = np.arange(3).reshape(3,1)", 
      "z = np.ones((3,4))"
     ], 
     "language": "python", 
     "outputs": [], 
     "prompt_number": 72
    }, 
    {
     "cell_type": "markdown", 
     "source": [
      "Sometimes for clarity it can be helpful to actually expand the smaller array to 'full size' before", 
      "performing operations. Note, however, that if the arrays are very large, this could use up a lot of", 
      "computer resources."
     ]
    }, 
    {
     "cell_type": "code", 
     "collapsed": true, 
     "input": [
      "# Repeating", 
      "x = np.arange(3).reshape(3,1)", 
      "xbig = np.repeat(x2, 4, axis=1)"
     ], 
     "language": "python", 
     "outputs": [], 
     "prompt_number": 74
    }, 
    {
     "cell_type": "markdown", 
     "source": [
      "### 3.3 Logic and boolean indexing", 
      "", 
      "A common operation is to check which values of an array meet a logical test, and then to use", 
      "the results of that logical test as an index."
     ]
    }, 
    {
     "cell_type": "code", 
     "collapsed": true, 
     "input": [
      "# Make a few arrays", 
      "a = np.arange(5, 15)", 
      "b = np.array([2, 2, 2, 8, 3, 4, 7, 4, 4, 2])", 
      "print a", 
      "print b"
     ], 
     "language": "python", 
     "outputs": [], 
     "prompt_number": 77
    }, 
    {
     "cell_type": "code", 
     "collapsed": true, 
     "input": [
      "# Boolean indexing"
     ], 
     "language": "python", 
     "outputs": [], 
     "prompt_number": 78
    }, 
    {
     "cell_type": "code", 
     "collapsed": true, 
     "input": [
      "# Array equality"
     ], 
     "language": "python", 
     "outputs": []
    }, 
    {
     "cell_type": "markdown", 
     "source": [
      "### Exercise", 
      "", 
      "* Create a one dimensional array 'a' containing the values 3, 5, 7, 9, 11", 
      "* Calculate the cosine of all elements of this array and store these as 'b'.", 
      "* Extract only the cosine values > 0, and store these as 'c'.", 
      "* Convert 'c' into a column array. Hint: Use the reshape method, and you'll need to know the size of c.", 
      "* Repeat this column three times to make a matrix 'd'. Hint: look at the axis argument to np.repeat"
     ]
    }, 
    {
     "cell_type": "code", 
     "collapsed": true, 
     "input": [
      "# Try it here..."
     ], 
     "language": "python", 
     "outputs": [], 
     "prompt_number": 101
    }, 
    {
     "cell_type": "markdown", 
     "source": [
      "### 3.4 Complex data types ", 
      "", 
      "An important attribute of an array is the data type, or dtype. Each array must contain", 
      "elements that are all the same data type, unlike lists. This dtype can be declared", 
      "explicitly when an array is created. Data types may be complex, however, as in the", 
      "case of a record array (recarray)."
     ]
    }, 
    {
     "cell_type": "code", 
     "collapsed": true, 
     "input": [
      "# dtypes can be declared"
     ], 
     "language": "python", 
     "outputs": [], 
     "prompt_number": 49
    }, 
    {
     "cell_type": "code", 
     "collapsed": true, 
     "input": [
      "# Look at stations.csv"
     ], 
     "language": "python", 
     "outputs": [], 
     "prompt_number": 54
    }, 
    {
     "cell_type": "code", 
     "collapsed": true, 
     "input": [
      "# Import and use csv2rec"
     ], 
     "language": "python", 
     "outputs": [], 
     "prompt_number": 81
    }, 
    {
     "cell_type": "code", 
     "collapsed": true, 
     "input": [
      "# Index recarray"
     ], 
     "language": "python", 
     "outputs": [], 
     "prompt_number": 57
    }, 
    {
     "cell_type": "markdown", 
     "source": [
      "### Exercise", 
      "", 
      "Using the recarray A declared above and the principles of boolean indexing,", 
      "", 
      "* Print only the records that have a value > 4.", 
      "* Print the names of stations that have a value > 4.", 
      "", 
      "_Bonus_: Print the names of all stations with a value > 4 and a lat > 29."
     ]
    }, 
    {
     "cell_type": "code", 
     "collapsed": true, 
     "input": [
      "# Try it here..."
     ], 
     "language": "python", 
     "outputs": [], 
     "prompt_number": 87
    }
   ]
  }
 ]
}