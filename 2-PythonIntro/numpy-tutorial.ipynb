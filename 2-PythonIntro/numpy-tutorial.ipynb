{
 "metadata": {
  "name": "numpy-tutorial"
 }, 
 "nbformat": 2, 
 "worksheets": [
  {
   "cells": [
    {
     "cell_type": "markdown", 
     "source": [
      "# Introduction to Numpy", 
      "", 
      "__Software Carpentry Bootcamp  ", 
      "UC Berkeley  ", 
      "October XX, 2012__  ", 
      "", 
      "Prepared by: Justin Kitzes  ", 
      "Materials from: Katy Huff, Matt Davis, Matthew Terry, and the UC Berkeley Python Bootcamp"
     ]
    }, 
    {
     "cell_type": "markdown", 
     "source": [
      "## 1. Getting Started"
     ]
    }, 
    {
     "cell_type": "markdown", 
     "source": [
      "### 1.1 What is NumPy ?", 
      "", 
      "NumPy is a Python package that allows you to use a powerful data type known as an 'ndarray'", 
      "(for n-dimensional array). Numerical operations on ndarrays are often more efficient than", 
      "those on lists or other native Python data structures. NumPy also includes many helpful", 
      "shortcuts and functions for operating on these arrays.", 
      "", 
      "The official NumPy documentation is at http://docs.scipy.org/doc/numpy/reference/"
     ]
    }, 
    {
     "cell_type": "markdown", 
     "source": [
      "### 1.2 Importing numpy", 
      "", 
      "NumPy must be imported to be used - it's common to import the package 'numpy' with", 
      "the short name 'np' to save typing later on."
     ]
    }, 
    {
     "cell_type": "code", 
     "collapsed": true, 
     "input": [
      "import numpy as np"
     ], 
     "language": "python", 
     "outputs": [], 
     "prompt_number": 2
    }, 
    {
     "cell_type": "markdown", 
     "source": [
      "## 2. Creating Arrays", 
      "", 
      "There are four common ways of creating arrays:"
     ]
    }, 
    {
     "cell_type": "markdown", 
     "source": [
      "### 2.1 Using existing variables stored in another form (like a list)", 
      "", 
      "__Syntax__: np.array()"
     ]
    }, 
    {
     "cell_type": "code", 
     "collapsed": false, 
     "input": [
      "# Turn a list into a 1D array", 
      "mylist = [2, 3, 4, 7, 10]", 
      "myarray = np.array(mylist)", 
      "myarray"
     ], 
     "language": "python", 
     "outputs": [], 
     "prompt_number": 5
    }, 
    {
     "cell_type": "code", 
     "collapsed": false, 
     "input": [
      "# Turn 2 lists into a 2D array", 
      "mylist1 = [1, 2, 3]", 
      "mylist2 = [4, 5, 6]", 
      "myarray = np.array([mylist1, mylist2])", 
      "myarray"
     ], 
     "language": "python", 
     "outputs": [
      {
       "output_type": "pyout", 
       "prompt_number": 25, 
       "text": [
        "array([[1, 2, 3],", 
        "       [4, 5, 6]])"
       ]
      }
     ], 
     "prompt_number": 25
    }, 
    {
     "cell_type": "markdown", 
     "source": [
      "### 2.2 Declaring a new array full of ones, zeros, or nothing (an empty array)", 
      "", 
      "__Syntax__: np.ones(), np.zeros(), np.empty()"
     ]
    }, 
    {
     "cell_type": "code", 
     "collapsed": false, 
     "input": [
      "# Array (vector) of ones", 
      "np.ones(5)"
     ], 
     "language": "python", 
     "outputs": [], 
     "prompt_number": 10
    }, 
    {
     "cell_type": "code", 
     "collapsed": false, 
     "input": [
      "# 2D array of ones", 
      "np.ones((3, 3))"
     ], 
     "language": "python", 
     "outputs": [], 
     "prompt_number": 13
    }, 
    {
     "cell_type": "markdown", 
     "source": [
      "__Exercise__: Instead of 'ones' above, try 'zeros' or 'empty'. What do you expect to see", 
      "printed when you inspect an empty array?"
     ]
    }, 
    {
     "cell_type": "markdown", 
     "source": [
      "Why make an empty array? It's faster -"
     ]
    }, 
    {
     "cell_type": "code", 
     "collapsed": false, 
     "input": [
      "print 'Zeros:'", 
      "%timeit np.zeros((200, 200))", 
      "print '\\n'", 
      "print 'Empty:'", 
      "%timeit np.empty((200, 200))"
     ], 
     "language": "python", 
     "outputs": [], 
     "prompt_number": 18
    }, 
    {
     "cell_type": "markdown", 
     "source": [
      "There are many other helpful functions for array creation, including np.random.rand and", 
      "np.identity. Before trying to hack together a particular type of new array, check the docs", 
      "to see if there's a simple function to do it for you."
     ]
    }, 
    {
     "cell_type": "markdown", 
     "source": [
      "### 2.3 Declaring a new array with a sequence of numbers", 
      "", 
      "__Syntax__: np.arange(), np.linspace(), np.logspace()"
     ]
    }, 
    {
     "cell_type": "code", 
     "collapsed": false, 
     "input": [
      "# np.arange takes start, stop, step", 
      "np.arange(10, 20, .5)"
     ], 
     "language": "python", 
     "outputs": [], 
     "prompt_number": 20
    }, 
    {
     "cell_type": "code", 
     "collapsed": false, 
     "input": [
      "# np.linspace takes start, stop, and number of values", 
      "np.linspace(10, 20, 4)"
     ], 
     "language": "python", 
     "outputs": [], 
     "prompt_number": 23
    }, 
    {
     "cell_type": "markdown", 
     "source": [
      "__Exercise__: Create an array with values ranging from 0 to 10, in increments of 2.", 
      "Create an array with 20 values LOGARITHMICALLY spaced between 0 and 10. HINT: Look at ", 
      "np.logspace, which works similarly to np.linspace."
     ]
    }, 
    {
     "cell_type": "markdown", 
     "source": [
      "__Exercise__: How would you make linspace be non-inclusive of the stop value?", 
      "HINT: In the iPython notebook, type the function name, open paren, and tab to see arguments."
     ]
    }, 
    {
     "cell_type": "markdown", 
     "source": [
      "### 2.4 Load array from a text file (and save it again)", 
      "", 
      "__Syntax__: np.loadtxt(), np.savetxt()"
     ]
    }, 
    {
     "cell_type": "markdown", 
     "source": [
      "The loadtxt and savetxt function in numpy are some of the simplest ways of loading and saving", 
      "data. There are other methods that are easier and more flexible - in particular, see the ", 
      "functions csv2rec and rec2csv in the matplotlib package."
     ]
    }, 
    {
     "cell_type": "code", 
     "collapsed": false, 
     "input": [
      "# Check what's in a text file", 
      "!head -5 stations.txt"
     ], 
     "language": "python", 
     "outputs": [
      {
       "output_type": "stream", 
       "stream": "stdout", 
       "text": [
        "BIRA\t26.4840\t87.2670\t0.0120", 
        "BUNG\t27.8771\t85.8909\t1.1910", 
        "GAIG\t26.8380\t86.6318\t0.1660", 
        "HILE\t27.0482\t87.3242\t2.0880", 
        "ILAM\t26.9102\t87.9227\t1.1810"
       ]
      }
     ], 
     "prompt_number": 37
    }, 
    {
     "cell_type": "code", 
     "collapsed": false, 
     "input": [
      "# Load just the last 3 cols, which are numbers", 
      "stations = np.loadtxt('stations.txt', usecols=(1,2,3))", 
      "stations.shape  # Shape can be used to check array dimensions"
     ], 
     "language": "python", 
     "outputs": [
      {
       "output_type": "pyout", 
       "prompt_number": 79, 
       "text": [
        "(29, 3)"
       ]
      }
     ], 
     "prompt_number": 79
    }, 
    {
     "cell_type": "code", 
     "collapsed": false, 
     "input": [
      "# Save the file", 
      "np.savetxt('stations_new.txt', stations)", 
      "!ls -l stations*"
     ], 
     "language": "python", 
     "outputs": [
      {
       "output_type": "stream", 
       "stream": "stdout", 
       "text": [
        "-rwxr-xr-x@ 1 jkitzes  staff   812 Jan 30  2012 \u001b[31mstations.txt\u001b[m\u001b[m", 
        "-rw-r--r--  1 jkitzes  staff  2175 Oct  9 13:47 stations_new.txt"
       ]
      }
     ], 
     "prompt_number": 78
    }, 
    {
     "cell_type": "markdown", 
     "source": [
      "### 2.5 An aside on data types", 
      "", 
      "__Syntax__: myarray.dtype, np.array([], dtype=mydtype)"
     ]
    }, 
    {
     "cell_type": "markdown", 
     "source": [
      "Arrays, or sometimes individual columns in arrays, have datatypes (abbreviated as 'dtype'). If", 
      "you do not explicitly choose a dtype when creating an array, numpy will try to guess for you.", 
      "Often this guess is fine, but you may want to choose a datatype specifically to improve", 
      "performance of if you have an array containing different data types in different columns.", 
      "", 
      "An array in which each column has a different data type is called a recarray (record array) or", 
      "structured array. These are very useful and powerful (they can act like little databases where", 
      "each row is a record), but take a little time to get used to - we encourage you to look up", 
      "how to use them."
     ]
    }, 
    {
     "cell_type": "code", 
     "collapsed": false, 
     "input": [
      "# Numpy presumes that a list of numbers (with no decimals) are integers", 
      "myarray = np.array([1, 2, 3])", 
      "myarray.dtype"
     ], 
     "language": "python", 
     "outputs": [
      {
       "output_type": "pyout", 
       "prompt_number": 28, 
       "text": [
        "dtype('int64')"
       ]
      }
     ], 
     "prompt_number": 28
    }, 
    {
     "cell_type": "code", 
     "collapsed": false, 
     "input": [
      "# I can force a different type by giving it as an argument", 
      "myarray = np.array([1, 2, 3], dtype=float)", 
      "myarray.dtype"
     ], 
     "language": "python", 
     "outputs": [
      {
       "output_type": "pyout", 
       "prompt_number": 34, 
       "text": [
        "dtype('float64')"
       ]
      }
     ], 
     "prompt_number": 34
    }, 
    {
     "cell_type": "code", 
     "collapsed": false, 
     "input": [
      "# Using a decimal suggests that the array should be float", 
      "myarray = np.array([1, 2.1, 3])", 
      "myarray.dtype"
     ], 
     "language": "python", 
     "outputs": [
      {
       "output_type": "pyout", 
       "prompt_number": 36, 
       "text": [
        "dtype('float64')"
       ]
      }
     ], 
     "prompt_number": 36
    }, 
    {
     "cell_type": "code", 
     "collapsed": false, 
     "input": [
      "# When in doubt, a string is usually a safe guess", 
      "myarray = np.array(['one', 2, 3.0])", 
      "myarray.dtype"
     ], 
     "language": "python", 
     "outputs": [
      {
       "output_type": "pyout", 
       "prompt_number": 32, 
       "text": [
        "dtype('|S3')"
       ]
      }
     ], 
     "prompt_number": 32
    }, 
    {
     "cell_type": "markdown", 
     "source": [
      "There are lots of details you can declare in a dtype, but for the most part one of the following", 
      "will probably be sufficient:", 
      "", 
      "    int     # Python-compatible int (usually a C long)  ", 
      "    intc    # C int  ", 
      "    float   # Python-compatible float (usually a C double)  ", 
      "    single  # C float  ", 
      "    double  # C double  ", 
      "    complex # Python-compatible complex  "
     ]
    }, 
    {
     "cell_type": "markdown", 
     "source": [
      "## 3. Things to know about arrays"
     ]
    }, 
    {
     "cell_type": "markdown", 
     "source": [
      "### 3.1 The size of an array is fixed once you create it", 
      "", 
      "Unlike lists, you cannot add elements to arrays after they are created."
     ]
    }, 
    {
     "cell_type": "code", 
     "collapsed": false, 
     "input": [
      "mylist = [1, 2, 3]", 
      "mylist.append(4)", 
      "print mylist"
     ], 
     "language": "python", 
     "outputs": [
      {
       "output_type": "stream", 
       "stream": "stdout", 
       "text": [
        "[1, 2, 3, 4]"
       ]
      }
     ], 
     "prompt_number": 106
    }, 
    {
     "cell_type": "code", 
     "collapsed": false, 
     "input": [
      "myarray = np.array([1, 2, 3])", 
      "myarray = myarray.append(4)"
     ], 
     "language": "python", 
     "outputs": [
      {
       "ename": "AttributeError", 
       "evalue": "'numpy.ndarray' object has no attribute 'append'", 
       "output_type": "pyerr", 
       "traceback": [
        "\u001b[0;31m---------------------------------------------------------------------------\u001b[0m\n\u001b[0;31mAttributeError\u001b[0m                            Traceback (most recent call last)", 
        "\u001b[0;32m/Users/jkitzes/Desktop/numpy/<ipython-input-107-7af5525dd6ac>\u001b[0m in \u001b[0;36m<module>\u001b[0;34m()\u001b[0m\n\u001b[1;32m      1\u001b[0m \u001b[0mmyarray\u001b[0m \u001b[0;34m=\u001b[0m \u001b[0mnp\u001b[0m\u001b[0;34m.\u001b[0m\u001b[0marray\u001b[0m\u001b[0;34m(\u001b[0m\u001b[0;34m[\u001b[0m\u001b[0;36m1\u001b[0m\u001b[0;34m,\u001b[0m \u001b[0;36m2\u001b[0m\u001b[0;34m,\u001b[0m \u001b[0;36m3\u001b[0m\u001b[0;34m]\u001b[0m\u001b[0;34m)\u001b[0m\u001b[0;34m\u001b[0m\u001b[0m\n\u001b[0;32m----> 2\u001b[0;31m \u001b[0mmyarray\u001b[0m \u001b[0;34m=\u001b[0m \u001b[0mmyarray\u001b[0m\u001b[0;34m.\u001b[0m\u001b[0mappend\u001b[0m\u001b[0;34m(\u001b[0m\u001b[0;36m4\u001b[0m\u001b[0;34m)\u001b[0m\u001b[0;34m\u001b[0m\u001b[0m\n\u001b[0m", 
        "\u001b[0;31mAttributeError\u001b[0m: 'numpy.ndarray' object has no attribute 'append'"
       ]
      }
     ], 
     "prompt_number": 107
    }, 
    {
     "cell_type": "markdown", 
     "source": [
      "Be careful about using the + sign to try to add a new element to an array! It does something else..."
     ]
    }, 
    {
     "cell_type": "code", 
     "collapsed": false, 
     "input": [
      "mylist = [1, 2, 3]", 
      "mylist = mylist + [4]  # This adds a new element, 4, to mylist", 
      "print mylist", 
      "", 
      "myarray = np.array([1, 2, 3])", 
      "myarray = myarray + np.array([4])  # This adds the number 4 to all elements of myarray", 
      "print myarray"
     ], 
     "language": "python", 
     "outputs": [
      {
       "output_type": "stream", 
       "stream": "stdout", 
       "text": [
        "[1, 2, 3, 4]", 
        "[5 6 7]"
       ]
      }
     ], 
     "prompt_number": 108
    }, 
    {
     "cell_type": "markdown", 
     "source": [
      "### 3.2 Arrays have useful attributes and methods"
     ]
    }, 
    {
     "cell_type": "code", 
     "collapsed": false, 
     "input": [
      "myarray = np.random.rand(16).reshape(4,4)  # 16 random numbers", 
      "print myarray"
     ], 
     "language": "python", 
     "outputs": [
      {
       "output_type": "stream", 
       "stream": "stdout", 
       "text": [
        "[[ 0.49042821  0.91914092  0.72313285  0.10778421]", 
        " [ 0.32017048  0.41942815  0.12572613  0.27298218]", 
        " [ 0.78793209  0.27783879  0.1280464   0.64877927]", 
        " [ 0.39434722  0.45820237  0.23922562  0.79981162]]"
       ]
      }
     ], 
     "prompt_number": 132
    }, 
    {
     "cell_type": "code", 
     "collapsed": false, 
     "input": [
      "# Three useful attributes", 
      "print 'dtype: ', myarray.dtype", 
      "print 'shape: ', myarray.shape", 
      "print 'size:  ', myarray.size"
     ], 
     "language": "python", 
     "outputs": [
      {
       "output_type": "stream", 
       "stream": "stdout", 
       "text": [
        "dtype:  float64", 
        "shape:  (4, 4)", 
        "size:   16"
       ]
      }
     ], 
     "prompt_number": 129
    }, 
    {
     "cell_type": "code", 
     "collapsed": false, 
     "input": [
      "# Three useful methods", 
      "print 'min: ', myarray.min()", 
      "print 'max: ', myarray.max()", 
      "print 'reshape:\\n', myarray.reshape((2, 8))"
     ], 
     "language": "python", 
     "outputs": [
      {
       "output_type": "stream", 
       "stream": "stdout", 
       "text": [
        "min:  0.0235127558586", 
        "max:  0.935811963253", 
        "reshape:", 
        "[[ 0.45972576  0.87016211  0.54231034  0.86104148  0.14856678  0.93581196", 
        "   0.44343291  0.53274384]", 
        " [ 0.69883456  0.02351276  0.81538352  0.56637691  0.91143055  0.60421594", 
        "   0.49421381  0.02384327]]"
       ]
      }
     ], 
     "prompt_number": 130
    }, 
    {
     "cell_type": "markdown", 
     "source": [
      "__Exercise__: Find a method of myarray that will give you the mean of each column of myarray.", 
      "", 
      "HINT: Type 'myarray.' and hit tab to see all available methods and attributes. When you choose a", 
      "method, type the method name and an open parenthesis after the dot, like 'myarray.mymethod(', then", 
      "press tab to see the arguments for that method."
     ]
    }, 
    {
     "cell_type": "code", 
     "collapsed": false, 
     "input": [
      "# Try answers here..."
     ], 
     "language": "python", 
     "outputs": [], 
     "prompt_number": 134
    }, 
    {
     "cell_type": "markdown", 
     "source": [
      "### 3.3 Array elements are actually pointers, but can be copied if needed", 
      "", 
      "This is a source of one of the big 'gotchas' in numpy, which can case some of the hardest to find", 
      "bugs. Arrays, and indexes for elements in arrays, actually point to data, they are not themselves a", 
      "unique copy of data. For example..."
     ]
    }, 
    {
     "cell_type": "code", 
     "collapsed": false, 
     "input": [
      "A = np.array([1, 2, 3, 4])", 
      "B = A", 
      "B[0] = 777  # This is going to change both B and A", 
      "", 
      "print A", 
      "print B"
     ], 
     "language": "python", 
     "outputs": [
      {
       "output_type": "stream", 
       "stream": "stdout", 
       "text": [
        "[777   2   3   4]", 
        "[777   2   3   4]"
       ]
      }
     ], 
     "prompt_number": 135
    }, 
    {
     "cell_type": "markdown", 
     "source": [
      "__Exercise__: Figure out how to make B an independent copy of A, so that when we change a value in B,", 
      "A will stay the same. HINT: Look at the methods of A."
     ]
    }, 
    {
     "cell_type": "code", 
     "collapsed": true, 
     "input": [
      "# Try answers here..."
     ], 
     "language": "python", 
     "outputs": []
    }, 
    {
     "cell_type": "markdown", 
     "source": [
      "## 4. Doing Things to Arrays"
     ]
    }, 
    {
     "cell_type": "markdown", 
     "source": [
      "### 4.1 Basic indexing", 
      "", 
      "The same basic techniques that you learned for lists will also work for arrays."
     ]
    }, 
    {
     "cell_type": "code", 
     "collapsed": false, 
     "input": [
      "myarray = np.arange(5,15)  # Leaving off the step assumes step = 1", 
      "print myarray"
     ], 
     "language": "python", 
     "outputs": [
      {
       "output_type": "stream", 
       "stream": "stdout", 
       "text": [
        "[ 5  6  7  8  9 10 11 12 13 14]"
       ]
      }
     ], 
     "prompt_number": 50
    }, 
    {
     "cell_type": "code", 
     "collapsed": false, 
     "input": [
      "myarray[2]"
     ], 
     "language": "python", 
     "outputs": [
      {
       "output_type": "pyout", 
       "prompt_number": 52, 
       "text": [
        "7"
       ]
      }
     ], 
     "prompt_number": 52
    }, 
    {
     "cell_type": "code", 
     "collapsed": false, 
     "input": [
      "myarray[0:4]"
     ], 
     "language": "python", 
     "outputs": [
      {
       "output_type": "pyout", 
       "prompt_number": 53, 
       "text": [
        "array([5, 6, 7, 8])"
       ]
      }
     ], 
     "prompt_number": 53
    }, 
    {
     "cell_type": "code", 
     "collapsed": false, 
     "input": [
      "myarray[:-2]"
     ], 
     "language": "python", 
     "outputs": [
      {
       "output_type": "pyout", 
       "prompt_number": 54, 
       "text": [
        "array([ 5,  6,  7,  8,  9, 10, 11, 12])"
       ]
      }
     ], 
     "prompt_number": 54
    }, 
    {
     "cell_type": "code", 
     "collapsed": false, 
     "input": [
      "myarray2D = np.arange(10).reshape((2, 5))", 
      "print myarray2D"
     ], 
     "language": "python", 
     "outputs": [
      {
       "output_type": "stream", 
       "stream": "stdout", 
       "text": [
        "[[0 1 2 3 4]", 
        " [5 6 7 8 9]]"
       ]
      }
     ], 
     "prompt_number": 56
    }, 
    {
     "cell_type": "code", 
     "collapsed": false, 
     "input": [
      "# Giving a single number as the index returns a row (first dimension)", 
      "myarray2D[0]"
     ], 
     "language": "python", 
     "outputs": [
      {
       "output_type": "pyout", 
       "prompt_number": 57, 
       "text": [
        "array([0, 1, 2, 3, 4])"
       ]
      }
     ], 
     "prompt_number": 57
    }, 
    {
     "cell_type": "code", 
     "collapsed": false, 
     "input": [
      "# Use this syntax to get a column (or a slice along any higher dimension)", 
      "myarray2D[:,2]"
     ], 
     "language": "python", 
     "outputs": [
      {
       "output_type": "pyout", 
       "prompt_number": 58, 
       "text": [
        "array([2, 7])"
       ]
      }
     ], 
     "prompt_number": 58
    }, 
    {
     "cell_type": "code", 
     "collapsed": false, 
     "input": [
      "myarray2D[:, 1:3]  # All rows, cols 1-3 (not inclusive at end!)"
     ], 
     "language": "python", 
     "outputs": [
      {
       "output_type": "pyout", 
       "prompt_number": 82, 
       "text": [
        "array([[1, 2],", 
        "       [6, 7]])"
       ]
      }
     ], 
     "prompt_number": 82
    }, 
    {
     "cell_type": "markdown", 
     "source": [
      "__Exercise__: Extract and print the upper left corner of mybigarray declared below."
     ]
    }, 
    {
     "cell_type": "code", 
     "collapsed": false, 
     "input": [
      "mybigarray = np.arange(16).reshape(4, 4)", 
      "# ..."
     ], 
     "language": "python", 
     "outputs": [], 
     "prompt_number": 84
    }, 
    {
     "cell_type": "markdown", 
     "source": [
      "__Exercise__: Extract and print the 2nd, 5th, and 7th values of myarray declared below.", 
      "Hint: Indexes can be lists or other arrays."
     ]
    }, 
    {
     "cell_type": "code", 
     "collapsed": true, 
     "input": [
      "myarray = np.arange(5, 15)", 
      "# ..."
     ], 
     "language": "python", 
     "outputs": [], 
     "prompt_number": 85
    }, 
    {
     "cell_type": "markdown", 
     "source": [
      "### 4.2 Logic and boolean indexing", 
      "", 
      "A common operation is to check which values of an array meet a logical test, and then to use", 
      "the results of that logical test as an index."
     ]
    }, 
    {
     "cell_type": "code", 
     "collapsed": false, 
     "input": [
      "myarray = np.arange(5, 15)", 
      "print myarray"
     ], 
     "language": "python", 
     "outputs": [
      {
       "output_type": "stream", 
       "stream": "stdout", 
       "text": [
        "[ 5  6  7  8  9 10 11 12 13 14]"
       ]
      }
     ], 
     "prompt_number": 62
    }, 
    {
     "cell_type": "code", 
     "collapsed": false, 
     "input": [
      "myarray > 10  # Gives an array of dtype bool"
     ], 
     "language": "python", 
     "outputs": [
      {
       "output_type": "pyout", 
       "prompt_number": 64, 
       "text": [
        "array([False, False, False, False, False, False,  True,  True,  True,  True], dtype=bool)"
       ]
      }
     ], 
     "prompt_number": 64
    }, 
    {
     "cell_type": "code", 
     "collapsed": false, 
     "input": [
      "myarray[myarray > 10]  # Gets values of array > 10"
     ], 
     "language": "python", 
     "outputs": [
      {
       "output_type": "pyout", 
       "prompt_number": 65, 
       "text": [
        "array([11, 12, 13, 14])"
       ]
      }
     ], 
     "prompt_number": 65
    }, 
    {
     "cell_type": "code", 
     "collapsed": false, 
     "input": [
      "myindicator = np.array([2, 2, 2, 8, 3, 4, 7, 4, 4, 2])", 
      "myarray[myindicator == 2]"
     ], 
     "language": "python", 
     "outputs": [
      {
       "output_type": "pyout", 
       "prompt_number": 70, 
       "text": [
        "array([ 5,  6,  7, 14])"
       ]
      }
     ], 
     "prompt_number": 70
    }, 
    {
     "cell_type": "code", 
     "collapsed": false, 
     "input": [
      "myarray == myindicator  # Fourth value is the same"
     ], 
     "language": "python", 
     "outputs": [
      {
       "output_type": "pyout", 
       "prompt_number": 71, 
       "text": [
        "array([False, False, False,  True, False, False, False, False, False, False], dtype=bool)"
       ]
      }
     ], 
     "prompt_number": 71
    }, 
    {
     "cell_type": "code", 
     "collapsed": false, 
     "input": [
      "np.any(myarray == myindicator)  # Check if any elements are equal"
     ], 
     "language": "python", 
     "outputs": [
      {
       "output_type": "pyout", 
       "prompt_number": 72, 
       "text": [
        "True"
       ]
      }
     ], 
     "prompt_number": 72
    }, 
    {
     "cell_type": "code", 
     "collapsed": false, 
     "input": [
      "np.all(myarray == myindicator)  # Check if all elements are equal"
     ], 
     "language": "python", 
     "outputs": [
      {
       "output_type": "pyout", 
       "prompt_number": 73, 
       "text": [
        "False"
       ]
      }
     ], 
     "prompt_number": 73
    }, 
    {
     "cell_type": "markdown", 
     "source": [
      "__Exercise__: Find and extract all values in myarray, declared below, that are > 0.5"
     ]
    }, 
    {
     "cell_type": "code", 
     "collapsed": true, 
     "input": [
      "myarray = np.random.rand(16).reshape(4,4)  # 16 random numbers", 
      "# ..."
     ], 
     "language": "python", 
     "outputs": []
    }, 
    {
     "cell_type": "markdown", 
     "source": [
      "### 4.3 Math on arrays", 
      "", 
      "Unlike Matlab (for example), all operations on arrays in numpy operate 'by default' elementwise."
     ]
    }, 
    {
     "cell_type": "code", 
     "collapsed": false, 
     "input": [
      "myarray = np.arange(5)", 
      "print 'Original: ', myarray , '\\n'", 
      "", 
      "myarray2 = myarray + 2", 
      "print 'Add 2:    ', myarray2", 
      "", 
      "myarray3 = myarray * 2", 
      "print 'Times 2:  ', myarray3", 
      "", 
      "myarray4 = myarray ** 2", 
      "print 'Squared:  ', myarray4"
     ], 
     "language": "python", 
     "outputs": [
      {
       "output_type": "stream", 
       "stream": "stdout", 
       "text": [
        "Original:  [0 1 2 3 4] ", 
        "", 
        "Add 2:     [2 3 4 5 6]", 
        "Times 2:   [0 2 4 6 8]", 
        "Squared:   [ 0  1  4  9 16]"
       ]
      }
     ], 
     "prompt_number": 95
    }, 
    {
     "cell_type": "code", 
     "collapsed": false, 
     "input": [
      "A = np.arange(5)", 
      "B = np.arange(5, 10)", 
      "print A", 
      "print B", 
      "print A * B"
     ], 
     "language": "python", 
     "outputs": [
      {
       "output_type": "stream", 
       "stream": "stdout", 
       "text": [
        "[0 1 2 3 4]", 
        "[5 6 7 8 9]", 
        "[ 0  6 14 24 36]"
       ]
      }
     ], 
     "prompt_number": 97
    }, 
    {
     "cell_type": "markdown", 
     "source": [
      "Many other helpful functions for operating elementwise on arrays are available - see", 
      "http://docs.scipy.org/doc/numpy/reference/ufuncs.html#available-ufuncs"
     ]
    }, 
    {
     "cell_type": "code", 
     "collapsed": false, 
     "input": [
      "myarray = np.arange(1,5)", 
      "print 'Original:'", 
      "print myarray", 
      "", 
      "print 'sin:'", 
      "print np.sin(myarray)", 
      "", 
      "print 'log10:'", 
      "print np.log10(myarray)"
     ], 
     "language": "python", 
     "outputs": [
      {
       "output_type": "stream", 
       "stream": "stdout", 
       "text": [
        "Original:", 
        "[1 2 3 4]", 
        "sin:", 
        "[ 0.84147098  0.90929743  0.14112001 -0.7568025 ]", 
        "log10:", 
        "[ 0.          0.30103     0.47712125  0.60205999]"
       ]
      }
     ], 
     "prompt_number": 137
    }, 
    {
     "cell_type": "markdown", 
     "source": [
      "For true linear algebra, you can either use the appropriate numpy functions (not just the operators)", 
      "or use a numpy 'matrix' instead of 'array', which will do what you would expect. Note that matrices", 
      "in numpy can only have a maximum of two dimensions."
     ]
    }, 
    {
     "cell_type": "code", 
     "collapsed": false, 
     "input": [
      "# Matrix multiplication with dot", 
      "a = np.array([[1, 2], [3, 4]])", 
      "b = np.array([[2, 3], [4, 5]])", 
      "print 'Elementwise:'", 
      "print a * b", 
      "", 
      "print 'Dot product:'", 
      "print np.dot(a, b)"
     ], 
     "language": "python", 
     "outputs": [
      {
       "output_type": "stream", 
       "stream": "stdout", 
       "text": [
        "Elementwise:", 
        "[[ 2  6]", 
        " [12 20]]", 
        "Dot product:", 
        "[[10 13]", 
        " [22 29]]"
       ]
      }
     ], 
     "prompt_number": 115
    }, 
    {
     "cell_type": "code", 
     "collapsed": false, 
     "input": [
      "# Matrix multiplication with matrices", 
      "a = np.matrix([[1, 2], [3, 4]])", 
      "b = np.matrix([[2, 3], [4, 5]])", 
      "print a * b  # A dot product by default"
     ], 
     "language": "python", 
     "outputs": [
      {
       "output_type": "stream", 
       "stream": "stdout", 
       "text": [
        "[[10 13]", 
        " [22 29]]"
       ]
      }
     ], 
     "prompt_number": 116
    }, 
    {
     "cell_type": "markdown", 
     "source": [
      "### 4.4 Broadcasting and repeating", 
      "", 
      "If you try to perform an array operation on two differently sized arrays, numpy will try to do the", 
      "smart thing by expanding the smaller array (this is called broadcasting)."
     ]
    }, 
    {
     "cell_type": "code", 
     "collapsed": false, 
     "input": [
      "x = np.arange(4)", 
      "z = np.ones((3,4))", 
      "", 
      "print x, '\\n'", 
      "print z, '\\n'", 
      "print x + z"
     ], 
     "language": "python", 
     "outputs": [
      {
       "output_type": "stream", 
       "stream": "stdout", 
       "text": [
        "[0 1 2 3] ", 
        "", 
        "[[ 1.  1.  1.  1.]", 
        " [ 1.  1.  1.  1.]", 
        " [ 1.  1.  1.  1.]] ", 
        "", 
        "[[ 1.  2.  3.  4.]", 
        " [ 1.  2.  3.  4.]", 
        " [ 1.  2.  3.  4.]]"
       ]
      }
     ], 
     "prompt_number": 147
    }, 
    {
     "cell_type": "code", 
     "collapsed": false, 
     "input": [
      "x2 = np.arange(3).reshape(3,1)", 
      "z = np.ones((3,4))", 
      "", 
      "print x2, '\\n'", 
      "print z, '\\n'", 
      "print x2 + z"
     ], 
     "language": "python", 
     "outputs": [
      {
       "output_type": "stream", 
       "stream": "stdout", 
       "text": [
        "[[0]", 
        " [1]", 
        " [2]] ", 
        "", 
        "[[ 1.  1.  1.  1.]", 
        " [ 1.  1.  1.  1.]", 
        " [ 1.  1.  1.  1.]] ", 
        "", 
        "[[ 1.  1.  1.  1.]", 
        " [ 2.  2.  2.  2.]", 
        " [ 3.  3.  3.  3.]]"
       ]
      }
     ], 
     "prompt_number": 148
    }, 
    {
     "cell_type": "markdown", 
     "source": [
      "Sometimes for clarity it can be helpful to actually expand the smaller array to 'full size' before", 
      "performing operations. Note, however, that if the arrays are very large, this could use up a lot of", 
      "computer resources."
     ]
    }, 
    {
     "cell_type": "code", 
     "collapsed": false, 
     "input": [
      "x2 = np.arange(3).reshape(3,1)", 
      "x2big = np.repeat(x2, 4, axis=1)", 
      "", 
      "print x2big"
     ], 
     "language": "python", 
     "outputs": [
      {
       "output_type": "stream", 
       "stream": "stdout", 
       "text": [
        "[[0 0 0 0]", 
        " [1 1 1 1]", 
        " [2 2 2 2]]"
       ]
      }
     ], 
     "prompt_number": 152
    }
   ]
  }
 ]
}