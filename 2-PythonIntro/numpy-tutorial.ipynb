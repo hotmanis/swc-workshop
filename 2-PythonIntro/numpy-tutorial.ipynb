{
 "metadata": {
  "name": "numpy-tutorial"
 },
 "nbformat": 3,
 "nbformat_minor": 0,
 "worksheets": [
  {
   "cells": [
    {
     "cell_type": "markdown",
     "metadata": {},
     "source": [
      "# Introduction to Numpy\n",
      "\n",
      "__Software Carpentry Bootcamp  \n",
      "Berkeley, CA  \n",
      "October 2012__  \n",
      "\n",
      "Prepared by: Justin Kitzes  \n",
      "Ideas from: Katy Huff, Matt Davis, Paul Ivanov, Matthew Terry, and the UC Berkeley Python Bootcamp"
     ]
    },
    {
     "cell_type": "markdown",
     "metadata": {},
     "source": [
      "## 1. Getting Started"
     ]
    },
    {
     "cell_type": "markdown",
     "metadata": {},
     "source": [
      "### 1.1 What is NumPy ?\n",
      "\n",
      "NumPy is a Python package that allows you to use a powerful data type known as an 'ndarray'\n",
      "(for n-dimensional array). Numerical operations on ndarrays are often more efficient than\n",
      "those on lists or other native Python data structures. NumPy also includes many helpful\n",
      "shortcuts and functions for operating on these arrays.\n",
      "\n",
      "The official NumPy documentation is at http://docs.scipy.org/doc/numpy/reference/"
     ]
    },
    {
     "cell_type": "markdown",
     "metadata": {},
     "source": [
      "### 1.2 Importing numpy\n",
      "\n",
      "NumPy must be imported to be used - it's common to import the package 'numpy' with\n",
      "the short name 'np' to save typing later on."
     ]
    },
    {
     "cell_type": "code",
     "collapsed": true,
     "input": [
      "import numpy as np"
     ],
     "language": "python",
     "metadata": {},
     "outputs": [],
     "prompt_number": 1
    },
    {
     "cell_type": "markdown",
     "metadata": {},
     "source": [
      "## 2. Numpy Arrays\n",
      "\n",
      "Numpy allows you to use a new data type called an ndarray. Arrays mostly act like other\n",
      "data collections, like lists or tuples, but with a few key differences described\n",
      "below."
     ]
    },
    {
     "cell_type": "markdown",
     "metadata": {},
     "source": [
      "### 2.1 Creating arrays\n",
      "\n",
      "Arrays are commonly created from existing data collections (like lists), by\n",
      "creating an array full of ones or zeros, or by creating a sequence."
     ]
    },
    {
     "cell_type": "code",
     "collapsed": true,
     "input": [
      "# Array from a list - also works with tuples\n",
      "list1 = [2, 3, 4]\n",
      "list2 = [5, 6, 7]\n",
      "a1 = np.array(list1)\n",
      "a2 = np.array(list2)"
     ],
     "language": "python",
     "metadata": {},
     "outputs": [],
     "prompt_number": 2
    },
    {
     "cell_type": "code",
     "collapsed": false,
     "input": [
      "a1"
     ],
     "language": "python",
     "metadata": {},
     "outputs": [
      {
       "output_type": "pyout",
       "prompt_number": 3,
       "text": [
        "array([2, 3, 4])"
       ]
      }
     ],
     "prompt_number": 3
    },
    {
     "cell_type": "code",
     "collapsed": true,
     "input": [
      "# Array of ones, zeros, or nothing\n",
      "o1 = np.ones((5, 5))\n",
      "print o1"
     ],
     "language": "python",
     "metadata": {},
     "outputs": [
      {
       "output_type": "stream",
       "stream": "stdout",
       "text": [
        "[[ 1.  1.  1.  1.  1.]\n",
        " [ 1.  1.  1.  1.  1.]\n",
        " [ 1.  1.  1.  1.  1.]\n",
        " [ 1.  1.  1.  1.  1.]\n",
        " [ 1.  1.  1.  1.  1.]]\n"
       ]
      }
     ],
     "prompt_number": 5
    },
    {
     "cell_type": "code",
     "collapsed": false,
     "input": [
      "z1 = np.zeros(10)\n",
      "print z1"
     ],
     "language": "python",
     "metadata": {},
     "outputs": [
      {
       "output_type": "stream",
       "stream": "stdout",
       "text": [
        "[ 0.  0.  0.  0.  0.  0.  0.  0.  0.  0.]\n"
       ]
      }
     ],
     "prompt_number": 7
    },
    {
     "cell_type": "code",
     "collapsed": false,
     "input": [
      "e1 = np.empty(10)\n",
      "print e1"
     ],
     "language": "python",
     "metadata": {},
     "outputs": [
      {
       "output_type": "stream",
       "stream": "stdout",
       "text": [
        "[  0.00000000e+000  -3.11109505e+231   2.47032823e-323   0.00000000e+000\n",
        "   0.00000000e+000   0.00000000e+000   0.00000000e+000   0.00000000e+000\n",
        "   0.00000000e+000   6.95335581e-309]\n"
       ]
      }
     ],
     "prompt_number": 9
    },
    {
     "cell_type": "code",
     "collapsed": true,
     "input": [
      "# Array of a sequence of numbers\n",
      "print np.arange(1, 2, 0.1)"
     ],
     "language": "python",
     "metadata": {},
     "outputs": [
      {
       "output_type": "stream",
       "stream": "stdout",
       "text": [
        "[ 1.   1.1  1.2  1.3  1.4  1.5  1.6  1.7  1.8  1.9]\n"
       ]
      }
     ],
     "prompt_number": 12
    },
    {
     "cell_type": "code",
     "collapsed": false,
     "input": [
      "print np.linspace(1, 2, 11)"
     ],
     "language": "python",
     "metadata": {},
     "outputs": [
      {
       "output_type": "stream",
       "stream": "stdout",
       "text": [
        "[ 1.   1.1  1.2  1.3  1.4  1.5  1.6  1.7  1.8  1.9  2. ]\n"
       ]
      }
     ],
     "prompt_number": 16
    },
    {
     "cell_type": "code",
     "collapsed": false,
     "input": [
      "print np.logspace(num=10, base=2, start=1, stop=2)"
     ],
     "language": "python",
     "metadata": {},
     "outputs": [
      {
       "output_type": "stream",
       "stream": "stdout",
       "text": [
        "[ 2.          2.16011948  2.33305808  2.5198421   2.72158     2.93946898\n",
        "  3.1748021   3.42897593  3.70349885  4.        ]\n"
       ]
      }
     ],
     "prompt_number": 21
    },
    {
     "cell_type": "markdown",
     "metadata": {},
     "source": [
      "There are many other helpful functions for array creation, including np.random.rand and\n",
      "np.identity. Before trying to hack together a particular type of new array, check the docs\n",
      "to see if there's a simple function to do it for you."
     ]
    },
    {
     "cell_type": "code",
     "collapsed": false,
     "input": [
      "np.random.normal(size=(4, 4))"
     ],
     "language": "python",
     "metadata": {},
     "outputs": [
      {
       "output_type": "pyout",
       "prompt_number": 24,
       "text": [
        "array([[-0.04018189,  1.44025161, -2.12271497,  1.43100592],\n",
        "       [ 0.23217007,  0.60511151,  0.08598053,  0.70727835],\n",
        "       [ 0.27966835,  0.5993662 ,  0.57707496,  0.23508904],\n",
        "       [ 0.98424849, -0.02363074,  0.61999795, -2.21293808]])"
       ]
      }
     ],
     "prompt_number": 24
    },
    {
     "cell_type": "markdown",
     "metadata": {},
     "source": [
      "### 2.2 Arrays are objects with methods and attributes\n",
      "\n",
      "While we will not teach object oriented programming in this bootcamp, it is helpful\n",
      "to know that arrays are objects in numpy. This means that they have attributes\n",
      "(characteristics) and methods (ways of operating on themselves)."
     ]
    },
    {
     "cell_type": "code",
     "collapsed": true,
     "input": [
      "# A 5x5 array of ones\n",
      "a = np.ones((5, 5))"
     ],
     "language": "python",
     "metadata": {},
     "outputs": [],
     "prompt_number": 25
    },
    {
     "cell_type": "code",
     "collapsed": true,
     "input": [
      "# Some attributes\n",
      "print a.shape\n",
      "print a.size\n",
      "print a.ndim"
     ],
     "language": "python",
     "metadata": {},
     "outputs": [
      {
       "output_type": "stream",
       "stream": "stdout",
       "text": [
        "(5, 5)\n",
        "25\n",
        "2\n"
       ]
      }
     ],
     "prompt_number": 27
    },
    {
     "cell_type": "code",
     "collapsed": true,
     "input": [
      "# Some methods\n",
      "print a.mean()\n",
      "print a.std()"
     ],
     "language": "python",
     "metadata": {},
     "outputs": [
      {
       "output_type": "stream",
       "stream": "stdout",
       "text": [
        "1.0\n",
        "0.0\n"
       ]
      }
     ],
     "prompt_number": 29
    },
    {
     "cell_type": "code",
     "collapsed": false,
     "input": [
      "print a.dtype"
     ],
     "language": "python",
     "metadata": {},
     "outputs": [
      {
       "output_type": "stream",
       "stream": "stdout",
       "text": [
        "float64\n"
       ]
      }
     ],
     "prompt_number": 30
    },
    {
     "cell_type": "code",
     "collapsed": false,
     "input": [
      "a = np.ones(10, dtype=np.int16)"
     ],
     "language": "python",
     "metadata": {},
     "outputs": [],
     "prompt_number": 31
    },
    {
     "cell_type": "code",
     "collapsed": false,
     "input": [
      "print a"
     ],
     "language": "python",
     "metadata": {},
     "outputs": [
      {
       "output_type": "stream",
       "stream": "stdout",
       "text": [
        "[1 1 1 1 1 1 1 1 1 1]\n"
       ]
      }
     ],
     "prompt_number": 32
    },
    {
     "cell_type": "markdown",
     "metadata": {},
     "source": [
      "### Exercise\n",
      "\n",
      "* Create a one dimensional array of 16 linearly spaced values ranging from 0 to 2.\n",
      "* Print the data type of the array.\n",
      "* Reshape this into a two dimensional 4 x 4 array.\n",
      "* Print the top half of the array (ie, the first two rows and all columns).\n",
      "  Hint: A 2D array is indexed like A[0:4, 0:4].\n",
      "\n",
      "_Bonus_: Make the one dimensional array full of logarithmically spaced values, and calculate the\n",
      "mean of each column of the array. Hint: Look at the arguments for the method A.mean()."
     ]
    },
    {
     "cell_type": "code",
     "collapsed": true,
     "input": [
      "a = np.linspace(0, 2, 16)\n",
      "print a.dtype\n",
      "a2 = a.reshape((4, 4))\n",
      "print a2[2, 2]"
     ],
     "language": "python",
     "metadata": {},
     "outputs": [
      {
       "output_type": "stream",
       "stream": "stdout",
       "text": [
        "float64\n",
        "1.33333333333\n"
       ]
      }
     ],
     "prompt_number": 35
    },
    {
     "cell_type": "code",
     "collapsed": false,
     "input": [
      "print a\n",
      "print a2"
     ],
     "language": "python",
     "metadata": {},
     "outputs": [
      {
       "output_type": "stream",
       "stream": "stdout",
       "text": [
        "[ 0.          0.13333333  0.26666667  0.4         0.53333333  0.66666667\n",
        "  0.8         0.93333333  1.06666667  1.2         1.33333333  1.46666667\n",
        "  1.6         1.73333333  1.86666667  2.        ]\n",
        "[[ 0.          0.13333333  0.26666667  0.4       ]\n",
        " [ 0.53333333  0.66666667  0.8         0.93333333]\n",
        " [ 1.06666667  1.2         1.33333333  1.46666667]\n",
        " [ 1.6         1.73333333  1.86666667  2.        ]]\n"
       ]
      }
     ],
     "prompt_number": 36
    },
    {
     "cell_type": "code",
     "collapsed": false,
     "input": [
      "a2[2, 2] = 9999"
     ],
     "language": "python",
     "metadata": {},
     "outputs": [],
     "prompt_number": 37
    },
    {
     "cell_type": "code",
     "collapsed": false,
     "input": [
      "print a"
     ],
     "language": "python",
     "metadata": {},
     "outputs": [
      {
       "output_type": "stream",
       "stream": "stdout",
       "text": [
        "[  0.00000000e+00   1.33333333e-01   2.66666667e-01   4.00000000e-01\n",
        "   5.33333333e-01   6.66666667e-01   8.00000000e-01   9.33333333e-01\n",
        "   1.06666667e+00   1.20000000e+00   9.99900000e+03   1.46666667e+00\n",
        "   1.60000000e+00   1.73333333e+00   1.86666667e+00   2.00000000e+00]\n"
       ]
      }
     ],
     "prompt_number": 38
    },
    {
     "cell_type": "code",
     "collapsed": false,
     "input": [
      "a3 = a2.copy()\n",
      "a3[2, 2] = -9999\n",
      "print a2"
     ],
     "language": "python",
     "metadata": {},
     "outputs": [
      {
       "output_type": "stream",
       "stream": "stdout",
       "text": [
        "[[  0.00000000e+00   1.33333333e-01   2.66666667e-01   4.00000000e-01]\n",
        " [  5.33333333e-01   6.66666667e-01   8.00000000e-01   9.33333333e-01]\n",
        " [  1.06666667e+00   1.20000000e+00   9.99900000e+03   1.46666667e+00]\n",
        " [  1.60000000e+00   1.73333333e+00   1.86666667e+00   2.00000000e+00]]\n"
       ]
      }
     ],
     "prompt_number": 41
    },
    {
     "cell_type": "code",
     "collapsed": false,
     "input": [
      "a_slice = a2[:2, :].copy()"
     ],
     "language": "python",
     "metadata": {},
     "outputs": [
      {
       "output_type": "pyout",
       "prompt_number": 42,
       "text": [
        "array([[ 0.        ,  0.13333333,  0.26666667,  0.4       ],\n",
        "       [ 0.53333333,  0.66666667,  0.8       ,  0.93333333]])"
       ]
      }
     ],
     "prompt_number": 42
    },
    {
     "cell_type": "markdown",
     "metadata": {},
     "source": [
      "### 2.3 Array elements are actually pointers, but can be copied if needed\n",
      "\n",
      "This is a source of one of the big 'gotchas' in numpy, which can case some of the hardest to find\n",
      "bugs. Arrays, and indexes for elements in arrays, actually point to data, they are not themselves a\n",
      "unique copy of data. For example..."
     ]
    },
    {
     "cell_type": "code",
     "collapsed": true,
     "input": [
      "# Be careful with pointers..."
     ],
     "language": "python",
     "metadata": {},
     "outputs": [],
     "prompt_number": 59
    },
    {
     "cell_type": "markdown",
     "metadata": {},
     "source": [
      "### Exercise\n",
      "\n",
      "Figure out how to make B an independent copy of A, so that when we change a value in B,\n",
      "A will stay the same. Hint: Look at the methods of A."
     ]
    },
    {
     "cell_type": "code",
     "collapsed": true,
     "input": [
      "# Try it here..."
     ],
     "language": "python",
     "metadata": {},
     "outputs": [],
     "prompt_number": 102
    },
    {
     "cell_type": "markdown",
     "metadata": {},
     "source": [
      "## 3. Using Arrays"
     ]
    },
    {
     "cell_type": "markdown",
     "metadata": {},
     "source": [
      "### 3.1 Math on arrays\n",
      "\n",
      "Unlike Matlab (for example), all operations on arrays in numpy operate 'by default' elementwise."
     ]
    },
    {
     "cell_type": "code",
     "collapsed": true,
     "input": [
      "# Elementwise math with one array\n",
      "a = np.arange(5)\n",
      "b = a ** 2\n",
      "print a, b"
     ],
     "language": "python",
     "metadata": {},
     "outputs": [
      {
       "output_type": "stream",
       "stream": "stdout",
       "text": [
        "[0 1 2 3 4] [ 0  1  4  9 16]\n"
       ]
      }
     ],
     "prompt_number": 46
    },
    {
     "cell_type": "code",
     "collapsed": false,
     "input": [
      "%timeit a * 1"
     ],
     "language": "python",
     "metadata": {},
     "outputs": [
      {
       "output_type": "stream",
       "stream": "stdout",
       "text": [
        "100000 loops, best of 3: 2.47 us per loop\n"
       ]
      }
     ],
     "prompt_number": 47
    },
    {
     "cell_type": "code",
     "collapsed": false,
     "input": [
      "%timeit a.copy()"
     ],
     "language": "python",
     "metadata": {},
     "outputs": [
      {
       "output_type": "stream",
       "stream": "stdout",
       "text": [
        "1000000 loops, best of 3: 744 ns per loop\n"
       ]
      }
     ],
     "prompt_number": 48
    },
    {
     "cell_type": "code",
     "collapsed": true,
     "input": [
      "# Elementwise math with two arrays\n",
      "a = np.arange(5)\n",
      "b = np.arange(5, 10)\n",
      "b ** a"
     ],
     "language": "python",
     "metadata": {},
     "outputs": [
      {
       "output_type": "pyout",
       "prompt_number": 51,
       "text": [
        "array([   1,    6,   49,  512, 6561])"
       ]
      }
     ],
     "prompt_number": 51
    },
    {
     "cell_type": "code",
     "collapsed": true,
     "input": [
      "# Other array math\n",
      "a = np.arange(5)\n",
      "print np.sin(a)\n",
      "print np.exp(a)"
     ],
     "language": "python",
     "metadata": {},
     "outputs": [
      {
       "output_type": "stream",
       "stream": "stdout",
       "text": [
        "[ 0.          0.84147098  0.90929743  0.14112001 -0.7568025 ]\n",
        "[  1.           2.71828183   7.3890561   20.08553692  54.59815003]\n"
       ]
      }
     ],
     "prompt_number": 52
    },
    {
     "cell_type": "markdown",
     "metadata": {},
     "source": [
      "Many other helpful functions for operating elementwise on arrays are available - see\n",
      "http://docs.scipy.org/doc/numpy/reference/ufuncs.html#available-ufuncs"
     ]
    },
    {
     "cell_type": "markdown",
     "metadata": {},
     "source": [
      "For true linear algebra, use the relevant numpy functions."
     ]
    },
    {
     "cell_type": "code",
     "collapsed": true,
     "input": [
      "# Matrix multiplication with dot\n",
      "a = np.array([[1, 2], [3, 4]])\n",
      "b = np.array([[2, 3], [4, 5]])\n",
      "a * b"
     ],
     "language": "python",
     "metadata": {},
     "outputs": [
      {
       "output_type": "pyout",
       "prompt_number": 53,
       "text": [
        "array([[ 2,  6],\n",
        "       [12, 20]])"
       ]
      }
     ],
     "prompt_number": 53
    },
    {
     "cell_type": "code",
     "collapsed": false,
     "input": [
      "np.matrix(a) * np.matrix(b)"
     ],
     "language": "python",
     "metadata": {},
     "outputs": [
      {
       "output_type": "pyout",
       "prompt_number": 54,
       "text": [
        "matrix([[10, 13],\n",
        "        [22, 29]])"
       ]
      }
     ],
     "prompt_number": 54
    },
    {
     "cell_type": "code",
     "collapsed": false,
     "input": [
      "a.dot(b)"
     ],
     "language": "python",
     "metadata": {},
     "outputs": [
      {
       "output_type": "pyout",
       "prompt_number": 55,
       "text": [
        "array([[10, 13],\n",
        "       [22, 29]])"
       ]
      }
     ],
     "prompt_number": 55
    },
    {
     "cell_type": "code",
     "collapsed": false,
     "input": [],
     "language": "python",
     "metadata": {},
     "outputs": []
    },
    {
     "cell_type": "markdown",
     "metadata": {},
     "source": [
      "### 3.2 Broadcasting and repeating\n",
      "\n",
      "If you try to perform an array operation on two differently sized arrays, numpy will try to do the\n",
      "smart thing by expanding the smaller array (this is called broadcasting)."
     ]
    },
    {
     "cell_type": "code",
     "collapsed": true,
     "input": [
      "# Broadcasting\n",
      "x = np.arange(4)\n",
      "z = np.ones((3,4))\n",
      "x + z"
     ],
     "language": "python",
     "metadata": {},
     "outputs": [
      {
       "output_type": "pyout",
       "prompt_number": 58,
       "text": [
        "array([[ 1.,  2.,  3.,  4.],\n",
        "       [ 1.,  2.,  3.,  4.],\n",
        "       [ 1.,  2.,  3.,  4.]])"
       ]
      }
     ],
     "prompt_number": 58
    },
    {
     "cell_type": "code",
     "collapsed": true,
     "input": [
      "# Broadcasting\n",
      "x = np.arange(3).reshape(3,1)\n",
      "z = np.ones((3,4))\n",
      "print x * z"
     ],
     "language": "python",
     "metadata": {},
     "outputs": [
      {
       "output_type": "stream",
       "stream": "stdout",
       "text": [
        "[[ 0.  0.  0.  0.]\n",
        " [ 1.  1.  1.  1.]\n",
        " [ 2.  2.  2.  2.]]\n"
       ]
      }
     ],
     "prompt_number": 59
    },
    {
     "cell_type": "markdown",
     "metadata": {},
     "source": [
      "Sometimes for clarity it can be helpful to actually expand the smaller array to 'full size' before\n",
      "performing operations. Note, however, that if the arrays are very large, this could use up a lot of\n",
      "computer resources."
     ]
    },
    {
     "cell_type": "code",
     "collapsed": true,
     "input": [
      "# Repeating\n",
      "x = np.arange(3).reshape(3,1)\n",
      "xbig = np.repeat(x2, 4, axis=1)"
     ],
     "language": "python",
     "metadata": {},
     "outputs": [],
     "prompt_number": 74
    },
    {
     "cell_type": "markdown",
     "metadata": {},
     "source": [
      "### 3.3 Logic and boolean indexing\n",
      "\n",
      "A common operation is to check which values of an array meet a logical test, and then to use\n",
      "the results of that logical test as an index."
     ]
    },
    {
     "cell_type": "code",
     "collapsed": true,
     "input": [
      "# Make a few arrays\n",
      "a = np.arange(5, 15)\n",
      "b = np.array([2, 2, 2, 8, 3, 4, 7, 4, 4, 2])\n",
      "print a\n",
      "print b"
     ],
     "language": "python",
     "metadata": {},
     "outputs": [
      {
       "output_type": "stream",
       "stream": "stdout",
       "text": [
        "[ 5  6  7  8  9 10 11 12 13 14]\n",
        "[2 2 2 8 3 4 7 4 4 2]\n"
       ]
      }
     ],
     "prompt_number": 60
    },
    {
     "cell_type": "code",
     "collapsed": true,
     "input": [
      "a[a > 10]"
     ],
     "language": "python",
     "metadata": {},
     "outputs": [
      {
       "output_type": "pyout",
       "prompt_number": 64,
       "text": [
        "array([11, 12, 13, 14])"
       ]
      }
     ],
     "prompt_number": 64
    },
    {
     "cell_type": "code",
     "collapsed": false,
     "input": [
      "a > 10"
     ],
     "language": "python",
     "metadata": {},
     "outputs": [
      {
       "output_type": "pyout",
       "prompt_number": 65,
       "text": [
        "array([False, False, False, False, False, False,  True,  True,  True,  True], dtype=bool)"
       ]
      }
     ],
     "prompt_number": 65
    },
    {
     "cell_type": "code",
     "collapsed": false,
     "input": [
      "a[(a > 10) & (b == 2)]"
     ],
     "language": "python",
     "metadata": {},
     "outputs": [
      {
       "output_type": "pyout",
       "prompt_number": 69,
       "text": [
        "array([14])"
       ]
      }
     ],
     "prompt_number": 69
    },
    {
     "cell_type": "code",
     "collapsed": true,
     "input": [
      "# Array equality\n",
      "(a == b).any()"
     ],
     "language": "python",
     "metadata": {},
     "outputs": [
      {
       "output_type": "pyout",
       "prompt_number": 71,
       "text": [
        "True"
       ]
      }
     ],
     "prompt_number": 71
    },
    {
     "cell_type": "code",
     "collapsed": false,
     "input": [
      "(a == b).all()"
     ],
     "language": "python",
     "metadata": {},
     "outputs": [
      {
       "output_type": "pyout",
       "prompt_number": 72,
       "text": [
        "False"
       ]
      }
     ],
     "prompt_number": 72
    },
    {
     "cell_type": "code",
     "collapsed": false,
     "input": [
      "np.allclose(a, b)"
     ],
     "language": "python",
     "metadata": {},
     "outputs": [
      {
       "output_type": "pyout",
       "prompt_number": 73,
       "text": [
        "False"
       ]
      }
     ],
     "prompt_number": 73
    },
    {
     "cell_type": "markdown",
     "metadata": {},
     "source": [
      "### Exercise\n",
      "\n",
      "* Create a one dimensional array 'a' containing the values 3, 5, 7, 9, 11\n",
      "* Calculate the cosine of all elements of this array and store these as 'b'.\n",
      "* Extract only the cosine values > 0, and store these as 'c'.\n",
      "* Convert 'c' into a column array. Hint: Use the reshape method, and you'll need to know the size of c.\n",
      "* Repeat this column three times to make a matrix 'd'. Hint: look at the axis argument to np.repeat"
     ]
    },
    {
     "cell_type": "code",
     "collapsed": true,
     "input": [
      "# Try it here..."
     ],
     "language": "python",
     "metadata": {},
     "outputs": [],
     "prompt_number": 101
    },
    {
     "cell_type": "markdown",
     "metadata": {},
     "source": [
      "### 3.4 Complex data types \n",
      "\n",
      "An important attribute of an array is the data type, or dtype. Each array must contain\n",
      "elements that are all the same data type, unlike lists. This dtype can be declared\n",
      "explicitly when an array is created. Data types may be complex, however, as in the\n",
      "case of a record array (recarray)."
     ]
    },
    {
     "cell_type": "code",
     "collapsed": true,
     "input": [
      "# dtypes can be declared"
     ],
     "language": "python",
     "metadata": {},
     "outputs": [],
     "prompt_number": 49
    },
    {
     "cell_type": "code",
     "collapsed": true,
     "input": [
      "# Look at stations.csv"
     ],
     "language": "python",
     "metadata": {},
     "outputs": [],
     "prompt_number": 54
    },
    {
     "cell_type": "code",
     "collapsed": true,
     "input": [
      "# Import and use csv2rec"
     ],
     "language": "python",
     "metadata": {},
     "outputs": [],
     "prompt_number": 81
    },
    {
     "cell_type": "code",
     "collapsed": true,
     "input": [
      "# Index recarray"
     ],
     "language": "python",
     "metadata": {},
     "outputs": [],
     "prompt_number": 57
    },
    {
     "cell_type": "markdown",
     "metadata": {},
     "source": [
      "### Exercise\n",
      "\n",
      "Using the recarray A declared above and the principles of boolean indexing,\n",
      "\n",
      "* Print only the records that have a value > 4.\n",
      "* Print the names of stations that have a value > 4.\n",
      "\n",
      "_Bonus_: Print the names of all stations with a value > 4 and a lat > 29."
     ]
    },
    {
     "cell_type": "code",
     "collapsed": true,
     "input": [
      "# Try it here..."
     ],
     "language": "python",
     "metadata": {},
     "outputs": [],
     "prompt_number": 87
    }
   ],
   "metadata": {}
  }
 ]
}