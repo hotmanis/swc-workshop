{
 "metadata": {
  "name": "matplotlib-interactive"
 }, 
 "nbformat": 2, 
 "worksheets": [
  {
   "cells": [
    {
     "cell_type": "code", 
     "collapsed": false, 
     "input": [
      "# Load pylab without inline, so we get pop up images", 
      "%pylab"
     ], 
     "language": "python", 
     "outputs": [], 
     "prompt_number": 1
    }, 
    {
     "cell_type": "code", 
     "collapsed": false, 
     "input": [
      "# Make some data to plot", 
      "x = np.linspace(0, 2*np.pi)", 
      "y1 = np.sin(x)", 
      "", 
      "# Figure with one subplot", 
      "fig, ax = plt.subplots(1, 1)", 
      "", 
      "# Add a line", 
      "ax.plot(x, y1)"
     ], 
     "language": "python", 
     "outputs": [], 
     "prompt_number": 2
    }, 
    {
     "cell_type": "markdown", 
     "source": [
      "Check out http://matplotlib.org/users/navigation_toolbar.html"
     ]
    }
   ]
  }
 ]
}