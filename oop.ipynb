{
 "metadata": {
  "name": ""
 },
 "nbformat": 3,
 "nbformat_minor": 0,
 "worksheets": [
  {
   "cells": [
    {
     "cell_type": "code",
     "collapsed": false,
     "input": [
      "def add1(x):\n",
      "    return x + 1\n",
      "\n",
      "print add1(5)"
     ],
     "language": "python",
     "metadata": {},
     "outputs": [
      {
       "output_type": "stream",
       "stream": "stdout",
       "text": [
        "6\n"
       ]
      }
     ],
     "prompt_number": 2
    },
    {
     "cell_type": "code",
     "collapsed": false,
     "input": [
      "def double(x):\n",
      "    return 2 * x\n",
      "\n",
      "print double(3)"
     ],
     "language": "python",
     "metadata": {},
     "outputs": [
      {
       "output_type": "stream",
       "stream": "stdout",
       "text": [
        "6\n"
       ]
      }
     ],
     "prompt_number": 3
    },
    {
     "cell_type": "code",
     "collapsed": false,
     "input": [
      "def do_it(verb, noun):\n",
      "    return verb(noun)\n",
      "\n",
      "print do_it(add1, 20)"
     ],
     "language": "python",
     "metadata": {},
     "outputs": [
      {
       "output_type": "stream",
       "stream": "stdout",
       "text": [
        "21\n"
       ]
      }
     ],
     "prompt_number": 4
    },
    {
     "cell_type": "code",
     "collapsed": false,
     "input": [
      "heather = add1\n",
      "print heather(26)"
     ],
     "language": "python",
     "metadata": {},
     "outputs": [
      {
       "output_type": "stream",
       "stream": "stdout",
       "text": [
        "27\n"
       ]
      }
     ],
     "prompt_number": 5
    },
    {
     "cell_type": "code",
     "collapsed": false,
     "input": [
      "age = 50\n",
      "other_age = age"
     ],
     "language": "python",
     "metadata": {},
     "outputs": [],
     "prompt_number": 6
    },
    {
     "cell_type": "code",
     "collapsed": false,
     "input": [
      "def do_all(verb, values):\n",
      "    result = []\n",
      "    for v in values:\n",
      "        temp = verb(v)\n",
      "        result.append(temp)\n",
      "    return result\n",
      "\n",
      "print do_all(add1, [3, 5, 7])\n",
      "print do_all(double, [3, 5, 7])"
     ],
     "language": "python",
     "metadata": {},
     "outputs": [
      {
       "output_type": "stream",
       "stream": "stdout",
       "text": [
        "[4, 6, 8]\n",
        "[6, 10, 14]\n"
       ]
      }
     ],
     "prompt_number": 8
    },
    {
     "cell_type": "code",
     "collapsed": false,
     "input": [
      "import math\n",
      "def charles(x):\n",
      "    return math.cos(x)\n",
      "\n",
      "do_all(charles, [0, 0.1, 0.2, 0.3])"
     ],
     "language": "python",
     "metadata": {},
     "outputs": [
      {
       "metadata": {},
       "output_type": "pyout",
       "prompt_number": 9,
       "text": [
        "[1.0, 0.9950041652780257, 0.9800665778412416, 0.955336489125606]"
       ]
      }
     ],
     "prompt_number": 9
    },
    {
     "cell_type": "code",
     "collapsed": false,
     "input": [
      "def keep(test, values):\n",
      "    result = []\n",
      "    for v in values:\n",
      "        if test(v):\n",
      "            result.append(v)\n",
      "    return result"
     ],
     "language": "python",
     "metadata": {},
     "outputs": [],
     "prompt_number": 10
    },
    {
     "cell_type": "code",
     "collapsed": false,
     "input": [
      "def positive(x):\n",
      "    return x >= 0\n",
      "\n",
      "def negative(x):\n",
      "    return x < 0\n",
      "\n",
      "print keep(positive, [-2, -1, 0, 1, 2])\n",
      "print keep(negative, [-2, -1, 0, 1, 2])"
     ],
     "language": "python",
     "metadata": {},
     "outputs": [
      {
       "output_type": "stream",
       "stream": "stdout",
       "text": [
        "[0, 1, 2]\n",
        "[-2, -1]\n"
       ]
      }
     ],
     "prompt_number": 11
    },
    {
     "cell_type": "code",
     "collapsed": false,
     "input": [
      "print do_all(double, keep(negative, [-2, -1, 0, 1, 2]))"
     ],
     "language": "python",
     "metadata": {},
     "outputs": [
      {
       "output_type": "stream",
       "stream": "stdout",
       "text": [
        "[-4, -2]\n"
       ]
      }
     ],
     "prompt_number": 12
    },
    {
     "cell_type": "code",
     "collapsed": false,
     "input": [
      "values = [-2, -1, 0, 1, 2]\n",
      "result = []\n",
      "for v in values:\n",
      "    if negative(v):\n",
      "        temp = double(v)\n",
      "        result.append(temp)\n",
      "print result"
     ],
     "language": "python",
     "metadata": {},
     "outputs": [
      {
       "output_type": "stream",
       "stream": "stdout",
       "text": [
        "[-4, -2]\n"
       ]
      }
     ],
     "prompt_number": 13
    },
    {
     "cell_type": "code",
     "collapsed": false,
     "input": [
      "print keep(positive, do_all(double, [-7, 5, -2, 1]))"
     ],
     "language": "python",
     "metadata": {},
     "outputs": [
      {
       "output_type": "stream",
       "stream": "stdout",
       "text": [
        "[10, 2]\n"
       ]
      }
     ],
     "prompt_number": 14
    },
    {
     "cell_type": "code",
     "collapsed": false,
     "input": [
      "help(map)"
     ],
     "language": "python",
     "metadata": {},
     "outputs": [
      {
       "output_type": "stream",
       "stream": "stdout",
       "text": [
        "Help on built-in function map in module __builtin__:\n",
        "\n",
        "map(...)\n",
        "    map(function, sequence[, sequence, ...]) -> list\n",
        "    \n",
        "    Return a list of the results of applying the function to the items of\n",
        "    the argument sequence(s).  If more than one sequence is given, the\n",
        "    function is called with an argument list consisting of the corresponding\n",
        "    item of each sequence, substituting None for missing values when not all\n",
        "    sequences have the same length.  If the function is None, return a list of\n",
        "    the items of the sequence (or a list of tuples if more than one sequence).\n",
        "\n"
       ]
      }
     ],
     "prompt_number": 15
    },
    {
     "cell_type": "code",
     "collapsed": false,
     "input": [
      "help(apply)"
     ],
     "language": "python",
     "metadata": {},
     "outputs": [
      {
       "output_type": "stream",
       "stream": "stdout",
       "text": [
        "Help on built-in function apply in module __builtin__:\n",
        "\n",
        "apply(...)\n",
        "    apply(object[, args[, kwargs]]) -> value\n",
        "    \n",
        "    Call a callable object with positional arguments taken from the tuple args,\n",
        "    and keyword arguments taken from the optional dictionary kwargs.\n",
        "    Note that classes are callable, as are instances with a __call__() method.\n",
        "    \n",
        "    Deprecated since release 2.3. Instead, use the extended call syntax:\n",
        "        function(*args, **keywords).\n",
        "\n"
       ]
      }
     ],
     "prompt_number": 16
    },
    {
     "cell_type": "code",
     "collapsed": false,
     "input": [
      "class Planet(object):\n",
      "    def __init__(self, m, v):\n",
      "        self.mass = m\n",
      "        self.volume = v\n",
      "    \n",
      "    def density(self):\n",
      "        return self.mass / self.volume\n",
      "\n",
      "p = Planet(1e9, 1e7)\n",
      "print 'density of Pluto is', p.density()\n",
      "\n",
      "v = Planet(1e11, 1e11)\n",
      "print 'density of Venus is', v.density()"
     ],
     "language": "python",
     "metadata": {},
     "outputs": [
      {
       "output_type": "stream",
       "stream": "stdout",
       "text": [
        "density of Pluto is 100.0\n",
        "density of Venus is 1.0\n"
       ]
      }
     ],
     "prompt_number": 23
    },
    {
     "cell_type": "code",
     "collapsed": false,
     "input": [
      "class Cube(object):\n",
      "    def __init__(self, size, mass):\n",
      "        self.size = size\n",
      "        self.mass = mass\n",
      "    \n",
      "    def density(self):\n",
      "        return self.mass / (self.size ** 3)\n",
      "\n",
      "c = Cube(2.0, 50)\n",
      "print c.density()"
     ],
     "language": "python",
     "metadata": {},
     "outputs": [
      {
       "output_type": "stream",
       "stream": "stdout",
       "text": [
        "6.25\n"
       ]
      }
     ],
     "prompt_number": 25
    },
    {
     "cell_type": "code",
     "collapsed": false,
     "input": [
      "things = [Planet(1e12, 2e10), Cube(3.0, 45)]"
     ],
     "language": "python",
     "metadata": {},
     "outputs": [],
     "prompt_number": 26
    },
    {
     "cell_type": "code",
     "collapsed": false,
     "input": [
      "for whatever in things:\n",
      "    print whatever.density()"
     ],
     "language": "python",
     "metadata": {},
     "outputs": [
      {
       "output_type": "stream",
       "stream": "stdout",
       "text": [
        "50.0\n",
        "1.66666666667\n"
       ]
      }
     ],
     "prompt_number": 28
    },
    {
     "cell_type": "code",
     "collapsed": false,
     "input": [
      "class Person(object):\n",
      "    def __init__(self, name, age, mass):\n",
      "        self.name = name\n",
      "        self.age = age\n",
      "        self.mass = mass\n",
      "    \n",
      "    def slope(self):\n",
      "        return self.mass / self.age\n",
      "    \n",
      "    def eligible(self):\n",
      "        return self.age > 50\n",
      "\n",
      "greg = Person(\"Greg\", 50.0, 88.0)\n",
      "justin = Person(\"Justin\", 19.0, 50.0)\n",
      "print \"Greg's slope is\", greg.slope(), \"and eligibility\", greg.eligible()\n",
      "print \"Justin's slope is\", justin.slope(), \"and eligibility\", justin.eligible()"
     ],
     "language": "python",
     "metadata": {},
     "outputs": [
      {
       "output_type": "stream",
       "stream": "stdout",
       "text": [
        "Greg's slope is 1.76 and eligibility False\n",
        "Justin's slope is 2.63157894737 and eligibility False\n"
       ]
      }
     ],
     "prompt_number": 31
    },
    {
     "cell_type": "code",
     "collapsed": false,
     "input": [
      "class Intern(Person):\n",
      "    def eligible(self):\n",
      "        return True\n",
      "\n",
      "azalee = Intern(\"Azalee\", 19.0, 35.0)\n",
      "print \"Azalee's eligibility:\", azalee.eligible()\n",
      "print \"Azalee's slope:\", azalee.slope()"
     ],
     "language": "python",
     "metadata": {},
     "outputs": [
      {
       "output_type": "stream",
       "stream": "stdout",
       "text": [
        "Azalee's eligibility: True\n",
        "Azalee's slope: 1.84210526316\n"
       ]
      }
     ],
     "prompt_number": 33
    },
    {
     "cell_type": "code",
     "collapsed": false,
     "input": [
      "class Manager(Person):\n",
      "    def eligible(self):\n",
      "        return self.mass > 100.0\n",
      "\n",
      "perry = Manager(\"Perry\", 120.0, 120.0)\n",
      "print \"Perry's eligibility:\", perry.eligible()"
     ],
     "language": "python",
     "metadata": {},
     "outputs": [
      {
       "output_type": "stream",
       "stream": "stdout",
       "text": [
        "Perry's eligibility: True\n"
       ]
      }
     ],
     "prompt_number": 34
    },
    {
     "cell_type": "code",
     "collapsed": false,
     "input": [],
     "language": "python",
     "metadata": {},
     "outputs": []
    }
   ],
   "metadata": {}
  }
 ]
}