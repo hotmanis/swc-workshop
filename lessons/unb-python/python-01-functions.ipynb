{
 "metadata": {
  "name": ""
 },
 "nbformat": 3,
 "nbformat_minor": 0,
 "worksheets": [
  {
   "cells": [
    {
     "cell_type": "heading",
     "level": 1,
     "metadata": {},
     "source": [
      "Basic Programming Using Python: Creating Functions"
     ]
    },
    {
     "cell_type": "heading",
     "level": 2,
     "metadata": {},
     "source": [
      "Objectives"
     ]
    },
    {
     "cell_type": "markdown",
     "metadata": {},
     "source": [
      "- Explain the benefits of breaking a program up into functions.\n",
      "- Define a function of a single parameter.\n",
      "- Explain what a call stack is, what a variable's scope is, and how the two concepts are related.\n",
      "- Trace values as they are passed into and returned by functions.\n",
      "- Compose function calls."
     ]
    },
    {
     "cell_type": "heading",
     "level": 2,
     "metadata": {},
     "source": [
      "Base functions"
     ]
    },
    {
     "cell_type": "markdown",
     "metadata": {},
     "source": [
      "functions are related to mathematical functions, e.g. f(x), and it is helpful to think of them as abstract operators that produce output given some input. Let's look at some examples to solidify this concept. Built-in string methods"
     ]
    },
    {
     "cell_type": "markdown",
     "metadata": {},
     "source": [
      "he base distribution comes with many useful functions. When a function is a property of, or owned by, on a specific type (ints, floats, lists, strings, dictionaries, etc.) it is called a method. First let's look at some basic string methods since they are very useful for reading data into Python."
     ]
    },
    {
     "cell_type": "code",
     "collapsed": false,
     "input": [
      "# Find the start codon of a gene\n",
      "\n",
      " \n",
      "\n",
      "dna = 'CTGTTGACATGCATTCACGCTACGCTAGCT'\n",
      "\n",
      " \n",
      "\n",
      "dna.find('ATG')"
     ],
     "language": "python",
     "metadata": {},
     "outputs": []
    },
    {
     "cell_type": "code",
     "collapsed": false,
     "input": [
      "# parsing a line from a comma-delimited file\n",
      "\n",
      " \n",
      "\n",
      "lotto_numbers = '4,8,15,16,23,42\\n'\n",
      "\n",
      " \n",
      "\n",
      "lotto_numbers = lotto_numbers.strip()\n",
      "\n",
      " \n",
      "\n",
      "print lotto_numbers.split(',')\n"
     ],
     "language": "python",
     "metadata": {},
     "outputs": []
    },
    {
     "cell_type": "code",
     "collapsed": false,
     "input": [
      "question = '%H%ow%z%d%@d%z%th%ez$%@p%ste%rzb%ur%nz%$%@szt%on%gue%?%'\n",
      "\n",
      " \n",
      "\n",
      "question = question.replace('%', '')\n",
      "\n",
      " \n",
      "\n",
      "question = question.replace('@', 'i')\n",
      "\n",
      " \n",
      "\n",
      "question = question.replace('$', 'h')\n",
      "\n",
      " \n",
      "\n",
      "question = question.replace('z', ' ')\n",
      "\n",
      " \n",
      "\n",
      "print question\n"
     ],
     "language": "python",
     "metadata": {},
     "outputs": []
    },
    {
     "cell_type": "code",
     "collapsed": false,
     "input": [
      "answer = '=H=&!dr=a=nk!c=~ff&&!be=f~r&=!i=t!w=as!c=~~l.='\n",
      "\n",
      " \n",
      "\n",
      "print answer.replace('=', '').replace('&', 'e').replace('~', 'o').replace('!', ' ')"
     ],
     "language": "python",
     "metadata": {},
     "outputs": []
    },
	{
     "cell_type": "heading",
     "level": 1,
     "metadata": {},
     "source": [
      "Creating your own functions!"
     ]
    },
    {
     "cell_type": "markdown",
     "metadata": {},
     "source": [
      "When there is not an available function to perform a task, you can write your own functions. The simplest functions have the following format in Python:\n"
     ]
    },
    {
     "cell_type": "code",
     "collapsed": false,
     "input": [
      "def <function name>():\n",
      "    <function body>"
     ],
     "language": "python",
     "metadata": {},
     "outputs": []
    },
    {
     "cell_type": "code",
     "collapsed": false,
     "input": [
      "def do_nothing():\n",
      "\n",
      "    s = \"I don't do much\""
     ],
     "language": "python",
     "metadata": {},
     "outputs": []
    },
    {
     "cell_type": "markdown",
     "metadata": {},
     "source": [
      "However, this often isn't very useful since we haven't returned any values from this function. Note: that if you don't return anything from a function in Python, you implicitly have returned the special None singleton. To return values that you computed locally in the function body, use the return keyword."
     ]
    },
    {
     "cell_type": "code",
     "collapsed": false,
     "input": [
      "def <function name>():\n",
      "    <function body>\n",
      "    return <local variable 1> "
     ],
     "language": "python",
     "metadata": {},
     "outputs": []
    },
    {
     "cell_type": "markdown",
     "metadata": {},
     "source": [
      "Functions, may be defined to take parameters or arguments."
     ]
    },
    {
     "cell_type": "code",
     "collapsed": false,
     "input": [
      "def <function name>(<argument>):\n",
      "    <function body>\n",
      "    return <local variable 1> "
     ],
     "language": "python",
     "metadata": {},
     "outputs": []
    },
    {
     "cell_type": "markdown",
     "metadata": {},
     "source": [
      "The function name, arguments, and return are jointly known as the function signature since the uniquely define the function's interface"
     ]
    },
    {
     "cell_type": "code",
     "collapsed": false,
     "input": [
      "def square(x):\n",
      "\n",
      "    sqr = x * x\n",
      "\n",
      "    return sqr"
     ],
     "language": "python",
     "metadata": {},
     "outputs": []
    },
    {
     "cell_type": "markdown",
     "metadata": {},
     "source": [
      "Using a function is done by placing parentheses () after the function name after you have defined it. This is known as calling the function. If the function requires arguments, the values for these arguments are inside of the parentheses."
     ]
    },
    {
     "cell_type": "code",
     "collapsed": false,
     "input": [
      "square(2)"
     ],
     "language": "python",
     "metadata": {},
     "outputs": []
    },
    {
     "cell_type": "markdown",
     "metadata": {},
     "source": [
      "Like mathematical functions, you can compose a function with other functions or with itself!"
     ]
    },
    {
     "cell_type": "code",
     "collapsed": false,
     "input": [
      "square(square(2))"
     ],
     "language": "python",
     "metadata": {},
     "outputs": []
    },
    {
     "cell_type": "markdown",
     "metadata": {},
     "source": [
      "Functions may be defined such that they have multiple arguments or multiple return values:"
     ]
    },
    {
     "cell_type": "code",
     "collapsed": false,
     "input": [
      "def <function name>(<arg1>, <arg2>, ...):\n",
      "    <function body>\n",
      "    return <var1> , <var2>, ..."
     ],
     "language": "python",
     "metadata": {},
     "outputs": []
    },
    {
     "cell_type": "code",
     "collapsed": false,
     "input": [
      "def hello(time, name):\n",
      "\n",
      "    print 'Good ' + time + ', ' + name + '!'"
     ],
     "language": "python",
     "metadata": {},
     "outputs": []
    },
    {
     "cell_type": "code",
     "collapsed": false,
     "input": [
      "hello('afternoon', 'Software Carpentry')"
     ],
     "language": "python",
     "metadata": {},
     "outputs": []
    },
    {
     "cell_type": "code",
     "collapsed": false,
     "input": [
      "# return both the quotient and remainder\n",
      "\n",
      "def quorem(a, b):\n",
      "\n",
      "    quo = a / b\n",
      "\n",
      "    rem = a % b\n",
      "\n",
      "    return quo, rem"
     ],
     "language": "python",
     "metadata": {},
     "outputs": []
    },
    {
     "cell_type": "code",
     "collapsed": false,
     "input": [
      "quorem(42, 16)"
     ],
     "language": "python",
     "metadata": {},
     "outputs": []
    },
    {
     "cell_type": "markdown",
     "metadata": {},
     "source": [
      "Note that when you return multiple values you may unpack these into individual variables or into a single variable which is a tuple of both values:"
     ]
    },
    {
     "cell_type": "code",
     "collapsed": false,
     "input": [
      "q, r = quorem(42, 16)\n",
      "\n",
      "print q\n",
      "\n",
      "print r"
     ],
     "language": "python",
     "metadata": {},
     "outputs": []
    },
    {
     "cell_type": "code",
     "collapsed": false,
     "input": [
      "\n",
      "both = quorem(42, 16)\n",
      "\n",
      "print both"
     ],
     "language": "python",
     "metadata": {},
     "outputs": []
    },
    {
     "cell_type": "markdown",
     "metadata": {},
     "source": [
      "Keyword Arguments\n",
      "\n",
      "In Python, functions also support default values for arguments. Arguments with an associated default are called keyword arguments. If this function is then called without one of these arguments being present the default value is used. All keyword arguments must come after normal arguments in the function definition:"
     ]
    },
    {
     "cell_type": "code",
     "collapsed": false,
     "input": [
      "def <function name>(<arg1>, <arg2>, <arg3>=<arg3 default>, <arg4>=<arg4 default>, ...):\n",
      "    <function body>\n",
      "    return <rtn>"
     ],
     "language": "python",
     "metadata": {},
     "outputs": []
    },
    {
     "cell_type": "code",
     "collapsed": false,
     "input": [
      "def add_space(s, t=\"Mom\"):\n",
      "\n",
      "    return s + \" \" + t"
     ],
     "language": "python",
     "metadata": {},
     "outputs": [],
     "prompt_number": 1
    },
    {
     "cell_type": "code",
     "collapsed": false,
     "input": [
      "print add_space(\"Hello\")"
     ],
     "language": "python",
     "metadata": {},
     "outputs": [
      {
       "output_type": "stream",
       "stream": "stdout",
       "text": [
        "Hello Mom\n"
       ]
      }
     ],
     "prompt_number": 2
    },
    {
     "cell_type": "code",
     "collapsed": false,
     "input": [
      "print add_space(\"Morning\", \"Dad\")"
     ],
     "language": "python",
     "metadata": {},
     "outputs": [
      {
       "output_type": "stream",
       "stream": "stdout",
       "text": [
        "Morning Dad\n"
       ]
      }
     ],
     "prompt_number": 3
    },
    {
     "cell_type": "markdown",
     "metadata": {},
     "source": [
      "\n",
      "You can also call any functions with their arguments, regular and keyword, with their argument names explicitly in the call. This uses equal signs in the same way that keyword arguments are defined."
     ]
    },
    {
     "cell_type": "code",
     "collapsed": false,
     "input": [
      "print add_space(s=\"Hello\")"
     ],
     "language": "python",
     "metadata": {},
     "outputs": [
      {
       "output_type": "stream",
       "stream": "stdout",
       "text": [
        "Hello Mom\n"
       ]
      }
     ],
     "prompt_number": 4
    },
    {
     "cell_type": "code",
     "collapsed": false,
     "input": [
      "print add_space(s=\"Morning\", t=\"Dad\")"
     ],
     "language": "python",
     "metadata": {},
     "outputs": [
      {
       "output_type": "stream",
       "stream": "stdout",
       "text": [
        "Morning Dad\n"
       ]
      }
     ],
     "prompt_number": 5
    },
    {
     "cell_type": "markdown",
     "metadata": {},
     "source": [
      "If you have many keyword arguments, then they may be out of order in the function call as long as they are explicit.\n"
     ]
    },
    {
     "cell_type": "code",
     "collapsed": false,
     "input": [
      "def f(x=1, y=2, z=3):\n",
      "\n",
      "    return 2*x**3 + 42*y - z"
     ],
     "language": "python",
     "metadata": {},
     "outputs": [],
     "prompt_number": 6
    },
    {
     "cell_type": "code",
     "collapsed": false,
     "input": [
      "f(y=17, z=15, x=2)"
     ],
     "language": "python",
     "metadata": {},
     "outputs": [
      {
       "metadata": {},
       "output_type": "pyout",
       "prompt_number": 7,
       "text": [
        "715"
       ]
      }
     ],
     "prompt_number": 7
    },
    {
     "cell_type": "markdown",
     "metadata": {},
     "source": [
      "Warning: be careful with mutable containers as default values. The container will remember its value from previous function calls.\n"
     ]
    },
    {
     "cell_type": "code",
     "collapsed": false,
     "input": [
      "def add_to_list(val, seq=[]):\n",
      "\n",
      "    seq.append(val)\n",
      "\n",
      "    return seq"
     ],
     "language": "python",
     "metadata": {},
     "outputs": [],
     "prompt_number": 8
    },
    {
     "cell_type": "code",
     "collapsed": false,
     "input": [
      "\n",
      "add_to_list(42)\n",
      "\n",
      "\n",
      "add_to_list(16)\n",
      "\n",
      "\n",
      "add_to_list(65)"
     ],
     "language": "python",
     "metadata": {},
     "outputs": [
      {
       "metadata": {},
       "output_type": "pyout",
       "prompt_number": 9,
       "text": [
        "[42, 16, 65]"
       ]
      }
     ],
     "prompt_number": 9
    },
    {
     "cell_type": "markdown",
     "metadata": {},
     "source": [
      "Recursion\n",
      "\n",
      "One of the greatest features of functions is that they may call themselves from within their own bodies! This is known as recursion."
     ]
    },
    {
     "cell_type": "code",
     "collapsed": false,
     "input": [
      "def count_backwards(x):\n",
      "\n",
      "    print x\n",
      "\n",
      "    count_backwards(x-1)"
     ],
     "language": "python",
     "metadata": {},
     "outputs": [],
     "prompt_number": 1
    },
    {
     "cell_type": "code",
     "collapsed": true,
     "input": [
      "count_backwards(10)"
     ],
     "language": "python",
     "metadata": {},
     "outputs": [
      {
       "output_type": "stream",
       "stream": "stdout",
       "text": [
        "10\n",
        "9\n",
        "8\n",
        "7\n",
        "6\n",
        "5\n",
        "4\n",
        "3\n",
        "2\n",
        "1\n",
        "0\n",
        "-1\n",
        "-2\n",
        "-3\n",
        "-4\n",
        "-5\n",
        "-6\n",
        "-7\n",
        "-8\n",
        "-9\n",
        "-10\n",
        "-11\n",
        "-12\n",
        "-13\n",
        "-14\n",
        "-15\n",
        "-16\n",
        "-17\n",
        "-18\n",
        "-19\n",
        "-20\n",
        "-21\n",
        "-22\n",
        "-23\n",
        "-24\n",
        "-25\n",
        "-26\n",
        "-27\n",
        "-28\n",
        "-29\n",
        "-30\n",
        "-31\n",
        "-32\n",
        "-33\n",
        "-34\n",
        "-35\n",
        "-36\n",
        "-37\n",
        "-38\n",
        "-39\n",
        "-40\n",
        "-41\n",
        "-42\n",
        "-43\n",
        "-44\n",
        "-45\n",
        "-46\n",
        "-47\n",
        "-48\n",
        "-49\n",
        "-50\n",
        "-51\n",
        "-52\n",
        "-53\n",
        "-54\n",
        "-55\n",
        "-56\n",
        "-57\n",
        "-58\n",
        "-59\n",
        "-60\n",
        "-61\n",
        "-62\n",
        "-63\n",
        "-64\n",
        "-65\n",
        "-66\n",
        "-67\n",
        "-68\n",
        "-69\n",
        "-70\n",
        "-71\n",
        "-72\n",
        "-73\n",
        "-74\n",
        "-75\n",
        "-76\n",
        "-77\n",
        "-78\n",
        "-79\n",
        "-80\n",
        "-81\n",
        "-82\n",
        "-83\n",
        "-84\n",
        "-85\n",
        "-86\n",
        "-87\n",
        "-88\n",
        "-89\n",
        "-90\n",
        "-91\n",
        "-92\n",
        "-93\n",
        "-94\n",
        "-95\n",
        "-96\n",
        "-97\n",
        "-98\n",
        "-99\n",
        "-100\n",
        "-101\n",
        "-102\n",
        "-103\n",
        "-104\n",
        "-105\n",
        "-106\n",
        "-107\n",
        "-108\n",
        "-109\n",
        "-110\n",
        "-111\n",
        "-112\n",
        "-113\n",
        "-114\n",
        "-115\n",
        "-116\n",
        "-117\n",
        "-118\n",
        "-119\n",
        "-120\n",
        "-121\n",
        "-122\n",
        "-123\n",
        "-124\n",
        "-125\n",
        "-126\n",
        "-127\n",
        "-128\n",
        "-129\n",
        "-130\n",
        "-131\n",
        "-132\n",
        "-133\n",
        "-134\n",
        "-135\n",
        "-136\n",
        "-137\n",
        "-138\n",
        "-139\n",
        "-140\n",
        "-141\n",
        "-142\n",
        "-143\n",
        "-144\n",
        "-145\n",
        "-146\n",
        "-147\n",
        "-148\n",
        "-149\n",
        "-150\n",
        "-151\n",
        "-152\n",
        "-153\n",
        "-154\n",
        "-155\n",
        "-156\n",
        "-157\n",
        "-158\n",
        "-159\n",
        "-160\n",
        "-161\n",
        "-162\n",
        "-163\n",
        "-164\n",
        "-165\n",
        "-166\n",
        "-167\n",
        "-168\n",
        "-169\n",
        "-170\n",
        "-171\n",
        "-172\n",
        "-173\n",
        "-174\n",
        "-175\n",
        "-176\n",
        "-177\n",
        "-178\n",
        "-179\n",
        "-180\n",
        "-181\n",
        "-182\n",
        "-183\n",
        "-184\n",
        "-185\n",
        "-186\n",
        "-187\n",
        "-188\n",
        "-189\n",
        "-190\n",
        "-191\n",
        "-192\n",
        "-193\n",
        "-194\n",
        "-195\n",
        "-196\n",
        "-197\n",
        "-198\n",
        "-199\n",
        "-200\n",
        "-201\n",
        "-202\n",
        "-203\n",
        "-204\n",
        "-205\n",
        "-206\n",
        "-207\n",
        "-208\n",
        "-209\n",
        "-210\n",
        "-211\n",
        "-212\n",
        "-213\n",
        "-214\n",
        "-215\n",
        "-216\n",
        "-217\n",
        "-218\n",
        "-219\n",
        "-220\n",
        "-221\n",
        "-222\n",
        "-223\n",
        "-224\n",
        "-225\n",
        "-226\n",
        "-227\n",
        "-228\n",
        "-229\n",
        "-230\n",
        "-231\n",
        "-232\n",
        "-233\n",
        "-234\n",
        "-235\n",
        "-236\n",
        "-237\n",
        "-238\n",
        "-239\n",
        "-240\n",
        "-241\n",
        "-242\n",
        "-243\n",
        "-244\n",
        "-245\n",
        "-246\n",
        "-247\n",
        "-248\n",
        "-249\n",
        "-250\n",
        "-251\n",
        "-252\n",
        "-253\n",
        "-254\n",
        "-255\n",
        "-256\n",
        "-257\n",
        "-258\n",
        "-259\n",
        "-260\n",
        "-261\n",
        "-262\n",
        "-263\n",
        "-264\n",
        "-265\n",
        "-266\n",
        "-267\n",
        "-268\n",
        "-269\n",
        "-270\n",
        "-271\n",
        "-272\n",
        "-273\n",
        "-274\n",
        "-275\n",
        "-276\n",
        "-277\n",
        "-278\n",
        "-279\n",
        "-280\n",
        "-281\n",
        "-282\n",
        "-283\n",
        "-284\n",
        "-285\n",
        "-286\n",
        "-287\n",
        "-288\n",
        "-289\n",
        "-290\n",
        "-291\n",
        "-292\n",
        "-293\n",
        "-294\n",
        "-295\n",
        "-296\n",
        "-297\n",
        "-298\n",
        "-299\n",
        "-300\n",
        "-301\n",
        "-302\n",
        "-303\n",
        "-304\n",
        "-305\n",
        "-306\n",
        "-307\n",
        "-308\n",
        "-309\n",
        "-310\n",
        "-311\n",
        "-312\n",
        "-313\n",
        "-314\n",
        "-315\n",
        "-316\n",
        "-317\n",
        "-318\n",
        "-319\n",
        "-320\n",
        "-321\n",
        "-322\n",
        "-323\n",
        "-324\n",
        "-325\n",
        "-326\n",
        "-327\n",
        "-328\n",
        "-329\n",
        "-330\n",
        "-331\n",
        "-332\n",
        "-333\n",
        "-334\n",
        "-335\n",
        "-336\n",
        "-337\n",
        "-338\n",
        "-339\n",
        "-340\n",
        "-341\n",
        "-342\n",
        "-343\n",
        "-344\n",
        "-345\n",
        "-346\n",
        "-347\n",
        "-348\n",
        "-349\n",
        "-350\n",
        "-351\n",
        "-352\n",
        "-353\n",
        "-354\n",
        "-355\n",
        "-356\n",
        "-357\n",
        "-358\n",
        "-359\n",
        "-360\n",
        "-361\n",
        "-362\n",
        "-363\n",
        "-364\n",
        "-365\n",
        "-366\n",
        "-367\n",
        "-368\n",
        "-369\n",
        "-370\n",
        "-371\n",
        "-372\n",
        "-373\n",
        "-374\n",
        "-375\n",
        "-376\n",
        "-377\n",
        "-378\n",
        "-379\n",
        "-380\n",
        "-381\n",
        "-382\n",
        "-383\n",
        "-384\n",
        "-385\n",
        "-386\n",
        "-387\n",
        "-388\n",
        "-389\n",
        "-390\n",
        "-391\n",
        "-392\n",
        "-393\n",
        "-394\n",
        "-395\n",
        "-396\n",
        "-397\n",
        "-398\n",
        "-399\n",
        "-400\n",
        "-401\n",
        "-402\n",
        "-403\n",
        "-404\n",
        "-405\n",
        "-406\n",
        "-407\n",
        "-408\n",
        "-409\n",
        "-410\n",
        "-411\n",
        "-412\n",
        "-413\n",
        "-414\n",
        "-415\n",
        "-416\n",
        "-417\n",
        "-418\n",
        "-419\n",
        "-420\n",
        "-421\n",
        "-422\n",
        "-423\n",
        "-424\n",
        "-425\n",
        "-426\n",
        "-427\n",
        "-428\n",
        "-429\n",
        "-430\n",
        "-431\n",
        "-432\n",
        "-433\n",
        "-434\n",
        "-435\n",
        "-436\n",
        "-437\n",
        "-438\n",
        "-439\n",
        "-440\n",
        "-441\n",
        "-442\n",
        "-443\n",
        "-444\n",
        "-445\n",
        "-446\n",
        "-447\n",
        "-448\n",
        "-449\n",
        "-450\n",
        "-451\n",
        "-452\n",
        "-453\n",
        "-454\n",
        "-455\n",
        "-456\n",
        "-457\n",
        "-458\n",
        "-459\n",
        "-460\n",
        "-461\n",
        "-462\n",
        "-463\n",
        "-464\n",
        "-465\n",
        "-466\n",
        "-467\n",
        "-468\n",
        "-469\n",
        "-470\n",
        "-471\n",
        "-472\n",
        "-473\n",
        "-474\n",
        "-475\n",
        "-476\n",
        "-477\n",
        "-478\n",
        "-479\n",
        "-480\n",
        "-481\n",
        "-482\n",
        "-483\n",
        "-484\n",
        "-485\n",
        "-486\n",
        "-487\n",
        "-488\n",
        "-489\n",
        "-490\n",
        "-491\n",
        "-492\n",
        "-493\n",
        "-494\n",
        "-495\n",
        "-496\n",
        "-497\n",
        "-498\n",
        "-499\n",
        "-500\n",
        "-501\n",
        "-502\n",
        "-503\n",
        "-504\n",
        "-505\n",
        "-506\n",
        "-507\n",
        "-508\n",
        "-509\n",
        "-510\n",
        "-511\n",
        "-512\n",
        "-513\n",
        "-514\n",
        "-515\n",
        "-516\n",
        "-517\n",
        "-518\n",
        "-519\n",
        "-520\n",
        "-521\n",
        "-522\n",
        "-523\n",
        "-524\n",
        "-525\n",
        "-526\n",
        "-527\n",
        "-528\n",
        "-529\n",
        "-530\n",
        "-531\n",
        "-532\n",
        "-533\n",
        "-534\n",
        "-535\n",
        "-536\n",
        "-537\n",
        "-538\n",
        "-539\n",
        "-540\n",
        "-541\n",
        "-542\n",
        "-543\n",
        "-544\n",
        "-545\n",
        "-546\n",
        "-547\n",
        "-548\n",
        "-549\n",
        "-550\n",
        "-551\n",
        "-552\n",
        "-553\n",
        "-554\n",
        "-555\n",
        "-556\n",
        "-557\n",
        "-558\n",
        "-559\n",
        "-560\n",
        "-561\n",
        "-562\n",
        "-563\n",
        "-564\n",
        "-565\n",
        "-566\n",
        "-567\n",
        "-568\n",
        "-569\n",
        "-570\n",
        "-571\n",
        "-572\n",
        "-573\n",
        "-574\n",
        "-575\n",
        "-576\n",
        "-577\n",
        "-578\n",
        "-579\n",
        "-580\n",
        "-581\n",
        "-582\n",
        "-583\n",
        "-584\n",
        "-585\n",
        "-586\n",
        "-587\n",
        "-588\n",
        "-589\n",
        "-590\n",
        "-591\n",
        "-592\n",
        "-593\n",
        "-594\n",
        "-595\n",
        "-596\n",
        "-597\n",
        "-598\n",
        "-599\n",
        "-600\n",
        "-601\n",
        "-602\n",
        "-603\n",
        "-604\n",
        "-605\n",
        "-606\n",
        "-607\n",
        "-608\n",
        "-609\n",
        "-610\n",
        "-611\n",
        "-612\n",
        "-613\n",
        "-614\n",
        "-615\n",
        "-616\n",
        "-617\n",
        "-618\n",
        "-619\n",
        "-620\n",
        "-621\n",
        "-622\n",
        "-623\n",
        "-624\n",
        "-625\n",
        "-626\n",
        "-627\n",
        "-628\n",
        "-629\n",
        "-630\n",
        "-631\n",
        "-632\n",
        "-633\n",
        "-634\n",
        "-635\n",
        "-636\n",
        "-637\n",
        "-638\n",
        "-639\n",
        "-640\n",
        "-641\n",
        "-642\n",
        "-643\n",
        "-644\n",
        "-645\n",
        "-646\n",
        "-647\n",
        "-648\n",
        "-649\n",
        "-650\n",
        "-651\n",
        "-652\n",
        "-653\n",
        "-654\n",
        "-655\n",
        "-656\n",
        "-657\n",
        "-658\n",
        "-659\n",
        "-660\n",
        "-661\n",
        "-662\n",
        "-663\n",
        "-664\n",
        "-665\n",
        "-666\n",
        "-667\n",
        "-668\n",
        "-669\n",
        "-670\n",
        "-671\n",
        "-672\n",
        "-673\n",
        "-674\n",
        "-675\n",
        "-676\n",
        "-677\n",
        "-678\n",
        "-679\n",
        "-680\n",
        "-681\n",
        "-682\n",
        "-683\n",
        "-684\n",
        "-685\n",
        "-686\n",
        "-687\n",
        "-688\n",
        "-689\n",
        "-690\n",
        "-691\n",
        "-692\n",
        "-693\n",
        "-694\n",
        "-695\n",
        "-696\n",
        "-697\n",
        "-698\n",
        "-699\n",
        "-700\n",
        "-701\n",
        "-702\n",
        "-703\n",
        "-704\n",
        "-705\n",
        "-706\n",
        "-707\n",
        "-708\n",
        "-709\n",
        "-710\n",
        "-711\n",
        "-712\n",
        "-713\n",
        "-714\n",
        "-715\n",
        "-716\n",
        "-717\n",
        "-718\n",
        "-719\n",
        "-720\n",
        "-721\n",
        "-722\n",
        "-723\n",
        "-724\n",
        "-725\n",
        "-726\n",
        "-727\n",
        "-728\n",
        "-729\n",
        "-730\n",
        "-731\n",
        "-732\n",
        "-733\n",
        "-734\n",
        "-735\n",
        "-736\n",
        "-737\n",
        "-738\n",
        "-739\n",
        "-740\n",
        "-741\n",
        "-742\n",
        "-743\n",
        "-744\n",
        "-745\n",
        "-746\n",
        "-747\n",
        "-748\n",
        "-749\n",
        "-750\n",
        "-751\n",
        "-752\n",
        "-753\n",
        "-754\n",
        "-755\n",
        "-756\n",
        "-757\n",
        "-758\n",
        "-759\n",
        "-760\n",
        "-761\n",
        "-762\n",
        "-763\n",
        "-764\n",
        "-765\n",
        "-766\n",
        "-767\n",
        "-768\n",
        "-769\n",
        "-770\n",
        "-771\n",
        "-772\n",
        "-773\n",
        "-774\n",
        "-775\n",
        "-776\n",
        "-777\n",
        "-778\n",
        "-779\n",
        "-780\n",
        "-781\n",
        "-782\n",
        "-783\n",
        "-784\n",
        "-785\n",
        "-786\n",
        "-787\n",
        "-788\n",
        "-789\n",
        "-790\n",
        "-791\n",
        "-792\n",
        "-793\n",
        "-794\n",
        "-795\n",
        "-796\n",
        "-797\n",
        "-798\n",
        "-799\n",
        "-800\n",
        "-801\n",
        "-802\n",
        "-803\n",
        "-804\n",
        "-805\n",
        "-806\n",
        "-807\n",
        "-808\n",
        "-809\n",
        "-810\n",
        "-811\n",
        "-812\n",
        "-813\n",
        "-814\n",
        "-815\n",
        "-816\n",
        "-817\n",
        "-818\n",
        "-819\n",
        "-820\n",
        "-821\n",
        "-822\n",
        "-823\n",
        "-824\n",
        "-825\n",
        "-826\n",
        "-827\n",
        "-828\n",
        "-829\n",
        "-830\n",
        "-831\n",
        "-832\n",
        "-833\n",
        "-834\n",
        "-835\n",
        "-836\n",
        "-837\n",
        "-838\n",
        "-839\n",
        "-840\n",
        "-841\n",
        "-842\n",
        "-843\n",
        "-844\n",
        "-845\n",
        "-846\n",
        "-847\n",
        "-848\n",
        "-849\n",
        "-850\n",
        "-851\n",
        "-852\n",
        "-853\n",
        "-854\n",
        "-855\n",
        "-856\n",
        "-857\n",
        "-858\n",
        "-859\n",
        "-860\n",
        "-861\n",
        "-862\n",
        "-863\n",
        "-864\n",
        "-865\n",
        "-866\n",
        "-867\n",
        "-868\n",
        "-869\n",
        "-870\n",
        "-871\n",
        "-872\n",
        "-873\n",
        "-874\n",
        "-875\n",
        "-876\n",
        "-877\n",
        "-878\n",
        "-879\n",
        "-880\n",
        "-881\n",
        "-882\n",
        "-883\n",
        "-884\n",
        "-885\n",
        "-886\n",
        "-887\n",
        "-888\n",
        "-889\n",
        "-890\n",
        "-891\n",
        "-892\n",
        "-893\n",
        "-894\n",
        "-895\n",
        "-896\n",
        "-897\n",
        "-898\n",
        "-899\n",
        "-900\n",
        "-901\n",
        "-902\n",
        "-903\n",
        "-904\n",
        "-905\n",
        "-906\n",
        "-907\n",
        "-908\n",
        "-909\n",
        "-910\n",
        "-911\n",
        "-912\n",
        "-913\n",
        "-914\n",
        "-915\n",
        "-916\n",
        "-917\n",
        "-918\n",
        "-919\n",
        "-920\n",
        "-921\n",
        "-922\n",
        "-923\n",
        "-924\n",
        "-925\n",
        "-926\n",
        "-927\n",
        "-928\n",
        "-929\n",
        "-930\n",
        "-931\n",
        "-932\n",
        "-933\n",
        "-934\n",
        "-935\n",
        "-936\n",
        "-937\n",
        "-938\n",
        "-939\n",
        "-940\n",
        "-941\n",
        "-942\n",
        "-943\n",
        "-944\n",
        "-945\n",
        "-946\n",
        "-947\n",
        "-948\n",
        "-949\n",
        "-950\n",
        "-951\n",
        "-952\n",
        "-953\n",
        "-954\n",
        "-955\n",
        "-956\n",
        "-957\n",
        "-958\n",
        "-959\n",
        "-960\n",
        "-961\n",
        "-962\n",
        "-963\n",
        "-964\n",
        "-965\n"
       ]
      }
     ],
     "prompt_number": 2
    },
    {
     "cell_type": "markdown",
     "metadata": {},
     "source": [
      "Well, that was too much. Thus it is important to ensure that recursive functions have some case which does not call itself. This will terminate the recursion.\n"
     ]
    },
    {
     "cell_type": "code",
     "collapsed": false,
     "input": [
      "def count_backwards(x):\n",
      "\n",
      "    print x\n",
      "\n",
      "    if 0 < x:\n",
      "\n",
      "        count_backwards(x-1)"
     ],
     "language": "python",
     "metadata": {},
     "outputs": [],
     "prompt_number": 3
    },
    {
     "cell_type": "code",
     "collapsed": false,
     "input": [
      "count_backwards(10)"
     ],
     "language": "python",
     "metadata": {},
     "outputs": [
      {
       "output_type": "stream",
       "stream": "stdout",
       "text": [
        "10\n",
        "9\n",
        "8\n",
        "7\n",
        "6\n",
        "5\n",
        "4\n",
        "3\n",
        "2\n",
        "1\n",
        "0\n"
       ]
      }
     ],
     "prompt_number": 4
    },
    {
     "cell_type": "code",
     "collapsed": false,
     "input": [
      "print round(calculate_gc('ATGC'), ndigits = 2) == 0.50\n",
      "print round(calculate_gc('AGCGTCGTCAGTCGT'), ndigits = 2) == 0.60\n",
      "print round(calculate_gc('ATaGtTCaAGcTCgATtGaATaGgTAaCt'), ndigits = 2) == 0.34"
     ],
     "language": "python",
     "metadata": {},
     "outputs": []
    },
    {
     "cell_type": "heading",
     "level": 2,
     "metadata": {},
     "source": [
      "Declaring a Function"
     ]
    },
    {
     "cell_type": "markdown",
     "metadata": {},
     "source": [
      "We used functions several times in the [previous lesson](./python-0-resize-image.ipynb).\n",
      "It is now time to learn how to create new ones ourselves\n",
      "so that we don't have to type in the same lines of code repeatedly.\n",
      "\n",
      "A function's job is to bundle several steps together\n",
      "so that they can be used as if they were a single command&mdash;in other words,\n",
      "to create a new verb in our programming language.\n",
      "The simplest possible function is one that produces the same value each time it is called:"
     ]
    },
    {
     "cell_type": "code",
     "collapsed": false,
     "input": [
      "def zero():\n",
      "    return 0"
     ],
     "language": "python",
     "metadata": {},
     "outputs": [],
     "prompt_number": 1
    },
    {
     "cell_type": "markdown",
     "metadata": {},
     "source": [
      "We define a new function in Python using the keyword `def`,\n",
      "followed by the function's name.\n",
      "The empty parentheses signal that the function doesn't take any inputs&mdash;we'll\n",
      "see functions that do in a moment.\n",
      "The colon signals the start of a new [block](glossary.html#block) of code,\n",
      "called the [body](glossary.html#function_body) of the function,\n",
      "which is indented.\n",
      "The keyword `return` then specifies the value the function produces\n",
      "when it is called.\n",
      "\n",
      "Defining a function tells the computer how to do something.\n",
      "To actually *do* that \"something\",\n",
      "we need to call the function:"
     ]
    },
    {
     "cell_type": "code",
     "collapsed": false,
     "input": [
      "result = zero()\n",
      "print 'function produced:', result"
     ],
     "language": "python",
     "metadata": {},
     "outputs": [
      {
       "output_type": "stream",
       "stream": "stdout",
       "text": [
        "function produced: 0\n"
       ]
      }
     ],
     "prompt_number": 2
    },
    {
     "cell_type": "markdown",
     "metadata": {},
     "source": [
      "When Python sees the call `zero()` it sets aside whatever it was doing,\n",
      "does whatever the function `zero` tells it to do,\n",
      "and then continues with its original calculation using the function's result.\n",
      "In this case the overall effect is to assign 0 to `result`,\n",
      "which is then printed.\n",
      "We can achieve the same effect without the assignment:"
     ]
    },
    {
     "cell_type": "code",
     "collapsed": false,
     "input": [
      "print 'function produced:', zero()"
     ],
     "language": "python",
     "metadata": {},
     "outputs": [
      {
       "output_type": "stream",
       "stream": "stdout",
       "text": [
        "function produced: 0\n"
       ]
      }
     ],
     "prompt_number": 3
    },
    {
     "cell_type": "markdown",
     "metadata": {},
     "source": [
      "Functions that always produce the same value aren't particularly useful,\n",
      "so most functions take input values\n",
      "called [parameters](glossary.html#parameter) or [arguments](glossary.html#argument).\n",
      "A parameter is a variable that is assigned a value each time the function is called.\n",
      "For example,\n",
      "this function that converts a temperature from Fahrenheit to Kelvin\n",
      "has one parameter called `temp`:"
     ]
    },
    {
     "cell_type": "code",
     "collapsed": false,
     "input": [
      "def fahr_to_kelvin(temp):\n",
      "    return ((temp - 32.0) * 5.0/9.0) + 273.15\n",
      "\n",
      "print 'water freezes at', fahr_to_kelvin(32)\n",
      "print 'water boils at', fahr_to_kelvin(212)"
     ],
     "language": "python",
     "metadata": {},
     "outputs": [
      {
       "output_type": "stream",
       "stream": "stdout",
       "text": [
        "water freezes at 273.15\n",
        "water boils at 373.15\n"
       ]
      }
     ],
     "prompt_number": 4
    },
    {
     "cell_type": "markdown",
     "metadata": {},
     "source": [
      "Functions can have any number of parameters.\n",
      "When we call a function,\n",
      "we must provide as many values as there are parameters;\n",
      "values are assigned to parameters from left to right.\n",
      "For example,\n",
      "here's a function that calculates the average of three values:"
     ]
    },
    {
     "cell_type": "code",
     "collapsed": false,
     "input": [
      "def average3(left, middle, right):\n",
      "    return (left + middle + right) / 3\n",
      "\n",
      "x = 3\n",
      "y = 5\n",
      "z = 4\n",
      "print 'average is:', average3(x, y, z)"
     ],
     "language": "python",
     "metadata": {},
     "outputs": [
      {
       "output_type": "stream",
       "stream": "stdout",
       "text": [
        "average is: 4\n"
       ]
      }
     ],
     "prompt_number": 8
    },
    {
     "cell_type": "heading",
     "level": 2,
     "metadata": {},
     "source": [
      "The Stack"
     ]
    },
    {
     "cell_type": "markdown",
     "metadata": {},
     "source": [
      "The key to understanding how functions work,\n",
      "and to debugging them when they don't,\n",
      "is to understand exactly what happens when a function is called.\n",
      "After Python has executed the first six lines of the program above,\n",
      "the variables `x`, `y`, and `z` are stored like this in memory:"
     ]
    },
    {
     "cell_type": "markdown",
     "metadata": {},
     "source": [
      "![Python stack frame](files/stack_frame.png)"
     ]
    },
    {
     "cell_type": "markdown",
     "metadata": {},
     "source": [
      "The box containing those three variables is called a [stack frame](glossary.html#stack_frame).\n",
      "When `average3` is called on line 7,\n",
      "Python creates a new stack frame **on top** of the first one,\n",
      "then creates the variables `left`, `middle`, and `right` in it:"
     ]
    },
    {
     "cell_type": "markdown",
     "metadata": {},
     "source": [
      "![average3 stack](files/stack_average3.png)"
     ]
    },
    {
     "cell_type": "markdown",
     "metadata": {},
     "source": [
      "This pile of one set of variables on top of another is called the [function call stack](glossary.html#call_stack),\n",
      "or just \"stack\".\n",
      "When the function call is finished,\n",
      "Python discards the topmost stack frame\n",
      "and starts using the one beneath it again.\n",
      "The temporary variables `left`, `middle`, and `right` vanish,\n",
      "which is why trying to print one of their values fails:"
     ]
    },
    {
     "cell_type": "markdown",
     "metadata": {},
     "source": [
      "The program displays the string `'middle after call:'`,\n",
      "but when Python tries to get the value of `middle`,\n",
      "it discovers that it doesn't exist any longer\n",
      "and reports an error.\n",
      "(The error appears first because the Python interpreter gives higher priority to error messages than \"normal\" output.)"
     ]
    },
    {
     "cell_type": "code",
     "collapsed": false,
     "input": [
      "print 'middle after call:', middle"
     ],
     "language": "python",
     "metadata": {},
     "outputs": [
      {
       "ename": "NameError",
       "evalue": "name 'middle' is not defined",
       "output_type": "pyerr",
       "traceback": [
        "\u001b[0;31m---------------------------------------------------------------------------\u001b[0m\n\u001b[0;31mNameError\u001b[0m                                 Traceback (most recent call last)",
        "\u001b[0;32m<ipython-input-10-8ff7c0159b4f>\u001b[0m in \u001b[0;36m<module>\u001b[0;34m()\u001b[0m\n\u001b[0;32m----> 1\u001b[0;31m \u001b[0;32mprint\u001b[0m \u001b[0;34m'middle after call:'\u001b[0m\u001b[0;34m,\u001b[0m \u001b[0mmiddle\u001b[0m\u001b[0;34m\u001b[0m\u001b[0m\n\u001b[0m",
        "\u001b[0;31mNameError\u001b[0m: name 'middle' is not defined"
       ]
      },
      {
       "output_type": "stream",
       "stream": "stdout",
       "text": [
        " middle after call:"
       ]
      }
     ],
     "prompt_number": 10
    },
    {
     "cell_type": "markdown",
     "metadata": {},
     "source": [
      "Let us create a new function `kelvin_to_celsius` to convert temperatures from, well,  Kelvin to Celsius."
     ]
    },
    {
     "cell_type": "code",
     "collapsed": false,
     "input": [
      "def kelvin_to_celsius(temp):\n",
      "    return temp - 273.15\n",
      "\n",
      "print 'absolute zero is', kelvin_to_celsius(0.0), 'degrees Celsius'"
     ],
     "language": "python",
     "metadata": {},
     "outputs": [
      {
       "output_type": "stream",
       "stream": "stdout",
       "text": [
        "absolute zero is -273.15 degrees Celsius\n"
       ]
      }
     ],
     "prompt_number": 17
    },
    {
     "cell_type": "markdown",
     "metadata": {},
     "source": [
      "\n",
      "Now that we have it,\n",
      "we don't have to do any calculations to convert Fahrenheit to Celsius.\n",
      "Instead,\n",
      "we can combine the two functions we already have. This idea of **composing function calls** is very powerful and is at the core of what makes functions so useful."
     ]
    },
    {
     "cell_type": "code",
     "collapsed": false,
     "input": [
      "def fahr_to_celsius(temp):\n",
      "    degrees_k = fahr_to_kelvin(temp)\n",
      "    degrees_c = kelvin_to_celsius(degrees_k)\n",
      "    return degrees_c\n",
      "\n",
      "body_temp_f = 98.6\n",
      "print 'body temperature in Celsius:', fahr_to_celsius(body_temp_f)"
     ],
     "language": "python",
     "metadata": {},
     "outputs": [
      {
       "output_type": "stream",
       "stream": "stdout",
       "text": [
        "body temperature in Celsius: 37.0\n"
       ]
      }
     ],
     "prompt_number": 19
    },
    {
     "cell_type": "markdown",
     "metadata": {},
     "source": [
      "Why does Python go to all the trouble of creating and discarding stack frames?\n",
      "To understand the answer let's trace what happens when we calculate human body temperature in &deg;C.\n",
      "Just before Python executes line 7 of our program,\n",
      "the stack consists of a single frame\n",
      "that contains the variable `body_temp_f`:"
     ]
    },
    {
     "cell_type": "markdown",
     "metadata": {},
     "source": [
      "![body temperature stack frame](files/stack_frame_body_temp.png)"
     ]
    },
    {
     "cell_type": "markdown",
     "metadata": {},
     "source": [
      "When `fahr_to_celsius` is called,\n",
      "Python puts a new frame on the stack\n",
      "containing a variable `temp`\n",
      "(the parameter of `fahr_to_celsius`):"
     ]
    },
    {
     "cell_type": "markdown",
     "metadata": {},
     "source": [
      "![fahr_to_celcius stack](files/stack_fahr_celcius.png)"
     ]
    },
    {
     "cell_type": "markdown",
     "metadata": {},
     "source": [
      "The first thing `fahr_to_celsius` does is call `fahr_to_kelvin`.\n",
      "Python creates yet another stack frame to keep track of this call,\n",
      "and this frame also contains a variable called `temp`:"
     ]
    },
    {
     "cell_type": "markdown",
     "metadata": {},
     "source": [
      "![fahr_to_kelvin stack](files/stack_fahr_kelvin.png)"
     ]
    },
    {
     "cell_type": "markdown",
     "metadata": {},
     "source": [
      "`fahr_to_kelvin`'s `temp` is **not** the same variable as `fahr_to_celsius`'s `temp`.\n",
      "The two variables have the same names, but because they're in different\n",
      "stack frames, they're different variables. In this case, they happen to\n",
      "reference the same object, but that is not because their names are the\n",
      "same."
     ]
    },
    {
     "cell_type": "markdown",
     "metadata": {},
     "source": [
      "When `fahr_to_kelvin` finishes running,\n",
      "its stack frame is thrown away:"
     ]
    },
    {
     "cell_type": "markdown",
     "metadata": {},
     "source": [
      "![fahr_to_kelvin result stack](files/stack_fahr_kelvin_result.png)"
     ]
    },
    {
     "cell_type": "markdown",
     "metadata": {},
     "source": [
      "and the value `fahr_to_kelvin` produced is assigned to a new variable called `degrees_k`.\n",
      "This variable is created in `fahr_to_celsius`'s stack frame;\n",
      "like the parameter `temp`,\n",
      "it only exists as long as the function is being executed.\n",
      "`fahr_to_celsius` then passes this value to `kelvin_to_celsius`,\n",
      "and once again,\n",
      "Python creates a new stack frame to keep track of the call:"
     ]
    },
    {
     "cell_type": "markdown",
     "metadata": {},
     "source": [
      "![kelvin_to_celcius stack](files/stack_kelvin_celcius.png)"
     ]
    },
    {
     "cell_type": "markdown",
     "metadata": {},
     "source": [
      "When `kelvin_to_celsius` is finished running,\n",
      "its result is assigned to `degrees_c`\n",
      "and its stack frame is discarded:"
     ]
    },
    {
     "cell_type": "markdown",
     "metadata": {},
     "source": [
      "![kelvin_to_celcius result stack](files/stack_kelvin_celcius_result.png)"
     ]
    },
    {
     "cell_type": "markdown",
     "metadata": {},
     "source": [
      "Since `fahr_to_celsius` is now finished,\n",
      "Python discards *its* stack frame\n",
      "and prints the final result."
     ]
    },
    {
     "cell_type": "markdown",
     "metadata": {},
     "source": [
      "![fahr_to_celcius result stack frame](files/stack_frame_fahr_celcius_result.png)"
     ]
    },
    {
     "cell_type": "markdown",
     "metadata": {},
     "source": [
      "You can see an interactive visualization of the frames in our temperature conversion program <a href=http://www.pythontutor.com/visualize.html#code=def+kelvin_to_celsius(temp)%3A%0A++++return+temp+-+273.15%0A%0Adef+fahr_to_kelvin(temp)%3A%0A++++return+((temp+-+32.0)+*+5.0/9.0)+%2B+273.15%0A%0Adef+fahr_to_celsius(temp)%3A%0A++++degrees_k+%3D+fahr_to_kelvin(temp)%0A++++degrees_c+%3D+kelvin_to_celsius(degrees_k)%0A++++return+degrees_c%0A%0Abody_temp_f+%3D+98.6%0Aprint+'body+temperature+in+Celsius%3A',+fahr_to_celsius(body_temp_f)&mode=display&cumulative=true&heapPrimitives=false&drawParentPointers=false&textReferences=false&showOnlyOutputs=false&py=2&curInstr=0>at the Online Python Tutor</a>. Here we can get an idea of how frames are created and discarded as you go through the program."
     ]
    },
    {
     "cell_type": "markdown",
     "metadata": {},
     "source": [
      "Students use the concept of function stacks intuitively in a lot of situations. Imagine you're sitting in an exam where you have to solve math problems like `((1.02\\*4.96)+8.7\\*2.3\\*1.1)/3` only with pen and paper. But you're not supposed to write anything but the final solution on the solution sheet but you can use small pieces of draft paper. So you're computing intermediate results on draft paper, having one piece of paper for the first multiplication and one for the second, then copying their results on a different piece of paper for the addition and finally the division. All the intermediate computations and results are the different stack levels, where the local variables (the intermediate results) are discarded and only the final result is kept."
     ]
    },
    {
     "cell_type": "markdown",
     "metadata": {},
     "source": [
      "Short Exercise: Calculate GC content of DNA\n",
      "\n",
      "Because the binding strength of guanine (G) to cytosine (C) is different from the binding strength of adenine (A) to thymine (T) (and many other differences), it is often useful to know the fraction of a DNA sequence that is G's or C's. Go to the string method section of the Python documentation and find the string method that will allow you to calculate this fraction."
     ]
    },
    {
     "cell_type": "code",
     "collapsed": false,
     "input": [
      "# Calculate the fraction of G's and C's in this DNA sequence\n",
      "\n",
      "seq1 = 'ACGTACGTAGCTAGTAGCTACGTAGCTACGTA'\n",
      "\n",
      "gc = "
     ],
     "language": "python",
     "metadata": {},
     "outputs": []
    },
    {
     "cell_type": "markdown",
     "metadata": {},
     "source": [
      "Check your work:"
     ]
    },
    {
     "cell_type": "code",
     "collapsed": false,
     "input": [
      "\n",
      "round(gc, ndigits = 2) == .47"
     ],
     "language": "python",
     "metadata": {},
     "outputs": []
    },
    {
     "cell_type": "markdown",
     "metadata": {},
     "source": [
      "<hr/>\n",
      "\n",
      "### *Seven Plus Or Minus Two*\n",
      "\n",
      "<em>\n",
      "We set out to write a thumbnailing function\n",
      "so that we wouldn't have to type in the same calculations over and over.\n",
      "Now that we have it,\n",
      "we can see another reason for building programs out of functions.\n",
      "Human short-term memory can only hold a few items at a time;\n",
      "the value is sometimes given as \"seven plus or minus two\",\n",
      "and while that is an over-simplification,\n",
      "it's a good guideline.\n",
      "If we need to remember more unrelated bits of information than that for more than a few seconds,\n",
      "they become jumbled and we start making mistakes.\n",
      "If we have to keep more than half a dozen things straight in our mind\n",
      "in order to understand or change a piece of code,\n",
      "we will therefore start making mistakes.\n",
      "Since most calculations involve more than half a dozen steps,\n",
      "we have to group those steps together and give them names\n",
      "if we're to have any hope at all of getting them right.\n",
      "</em>\n",
      "\n",
      "<em>\n",
      "Using functions also makes the code easier to maintain. For example, we have a set of data we are working on and we want to visualize the data after each processing step. If we write the visualization code after each processing step and later want to change something in the visualization, we have to change it several times. This makes the code prone to inconsistencies because we overlooked one visualization or made a typo. If we write a function which does the visualization and just call the function after each processing, we only have to make changes in the function.\n",
      "</em>\n",
      "<hr/>"
     ]
    },
    {
     "cell_type": "heading",
     "level": 2,
     "metadata": {},
     "source": [
      "Key Points"
     ]
    },
    {
     "cell_type": "markdown",
     "metadata": {},
     "source": [
      "- Define a function using `def name(...)`\n",
      "- The body of a function must be indented.\n",
      "- Use `name(...)` to call a function.\n",
      "- Use `return` to return a value from a function.\n",
      "- The values passed into a function are assigned to its parameters in left-to-right order.\n",
      "- Function calls are recorded on a call stack.\n",
      "- Every function call creates a new stack frame.\n",
      "- The variables in a stack frame are discarded when the function call completes.\n",
      "- Grouping operations in functions makes code easier to understand and re-use."
     ]
    }
   ],
   "metadata": {}
  }
 ]
}