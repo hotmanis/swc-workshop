{
 "metadata": {
  "name": "python-00-resize-image"
 },
 "nbformat": 3,
 "nbformat_minor": 0,
 "worksheets": [
  {
   "cells": [
    {
     "cell_type": "heading",
     "level": 1,
     "metadata": {},
     "source": [
      "Basic Programming Using Python: Resizing an Image..change"
     ]
    },
    {
     "cell_type": "heading",
     "level": 2,
     "metadata": {},
     "source": [
      "Objectives"
     ]
    },
    {
     "cell_type": "markdown",
     "metadata": {},
     "source": [
      "- Be able to import libraries using three forms of `import` and refer to their components using dotted notation.\n",
      "- Call simple functions and methods with numeric and string arguments.\n",
      "- Assign values to variables.\n",
      "- Add comments to programs.\n",
      "- Identify integer and floating-point numbers, and explain the differences between them."
     ]
    },
    {
     "cell_type": "heading",
     "level": 1,
     "metadata": {},
     "source": [
      "Modules -Importing libraries (what is the difference between module and library?)\n"
     ]
    },
    {
     "cell_type": "markdown",
     "metadata": {},
     "source": [
      "\n",
      "Python has a lot of useful data type and functions built into the language, some of which you have already seen.  Most programs start this way, because most of the power of a programming language isn't actually in the language, but in the libraries written for that language. (By analogy, most of the power of a language like English is not in the individual words, but in the books written in it.) For a full list, you can type dir(__builtins__). However, there are even more functions stored in modules. An example is the sine function, which is stored in the math module. In order to access mathematical functions, like sin, we need to import the math module. Lets take a look at a simple example:\n"
     ]
    },
    {
     "cell_type": "code",
     "collapsed": false,
     "input": [
      "print sin(3) # Error! Python doesn't know what sin is...yet"
     ],
     "language": "python",
     "metadata": {},
     "outputs": []
    },
    {
     "cell_type": "code",
     "collapsed": false,
     "input": [
      "import math # Import the math module\n",
      "\n",
      "math.sin(3)"
     ],
     "language": "python",
     "metadata": {},
     "outputs": []
    },
    {
     "cell_type": "markdown",
     "metadata": {},
     "source": [
      "The first line imports the standard math library,\n",
      "which contains things like the value of sine;.\n",
      "The second line is a [print statement](glossary.html#print_statement):\n",
      "it tells Python to print the [character string](glossary.html#character_string)\n",
      "(or \"string\" for short) `'sine is:'`\n",
      "and the value of sine;."
     ]
    },
    {
     "cell_type": "code",
     "collapsed": false,
     "input": [
      "dir(math) # See a list of everything in the math module"
     ],
     "language": "python",
     "metadata": {},
     "outputs": []
    },
    {
     "cell_type": "code",
     "collapsed": false,
     "input": [
      "help(math) # Get help information for the math module"
     ],
     "language": "python",
     "metadata": {},
     "outputs": []
    },
    {
     "cell_type": "code",
     "collapsed": false,
     "input": [
      "DATA\n",
      "    e = 2.718281828459045\n",
      "    pi = 3.141592653589793\n",
      "It is not very difficult to use modules - you just have to know the module name and import it. There are a few variations on the import statement that can be used to make your life easier. Lets take a look at an example:"
     ],
     "language": "python",
     "metadata": {},
     "outputs": []
    },
    {
     "cell_type": "code",
     "collapsed": false,
     "input": [
      "from math import *  # import everything from math into the global namespace (A BAD IDEA IN GENERAL)\n",
      "\n",
      "print sin(3)        # notice that we don't need to type math.sin anymore\n",
      "\n",
      "print tan(3)        # the tangent function was also in math, so we can use that too"
     ],
     "language": "python",
     "metadata": {},
     "outputs": []
    },
    {
     "cell_type": "code",
     "collapsed": false,
     "input": [
      "reset # Clear everything from IPython"
     ],
     "language": "python",
     "metadata": {},
     "outputs": []
    },
    {
     "cell_type": "code",
     "collapsed": false,
     "input": [
      "from math import sin  # Import just sin from the math module. This is a good idea.\n",
      "\n",
      "print sin(3)          # We can use sin because we just imported it\n",
      "\n",
      "print tan(3)          # Error: We only imported sin - not tan"
     ],
     "language": "python",
     "metadata": {},
     "outputs": []
    },
    {
     "cell_type": "code",
     "collapsed": false,
     "input": [
      "reset                 # Clear everything"
     ],
     "language": "python",
     "metadata": {},
     "outputs": []
    },
    {
     "cell_type": "code",
     "collapsed": false,
     "input": [
      "import math as m      # Same as import math, except we are renaming the module m"
     ],
     "language": "python",
     "metadata": {},
     "outputs": []
    },
    {
     "cell_type": "code",
     "collapsed": false,
     "input": [
      "print m.sin(3)        # This is really handy if you have module names that are long"
     ],
     "language": "python",
     "metadata": {},
     "outputs": []
    },
    {
     "cell_type": "markdown",
     "metadata": {},
     "source": [
      "<hr/>\n",
      "### *Printing, Spaces, and Newlines*\n",
      "\n",
      "<em>\n",
      "    `print` automatically puts a single space between the things we ask it to print,\n",
      "    and then starts a new line.\n",
      "    If we just want to print a blank line,\n",
      "    we use `print` on its own.\n",
      "    if we don't want to start a new line,\n",
      "    we put a comma at the end of the list of things we've asked it to print:\n",
      "</em>"
     ]
    },
    {
     "cell_type": "code",
     "collapsed": false,
     "input": [
      "print 'first', # print the word 'first', but don't start a new line\n",
      "print 'second', # print the word 'second', but don't start a new line\n",
      "print # just start a new line"
     ],
     "language": "python",
     "metadata": {},
     "outputs": [
      {
       "output_type": "stream",
       "stream": "stdout",
       "text": [
        "first second\n"
       ]
      }
     ],
     "prompt_number": 33
    },
    {
     "cell_type": "markdown",
     "metadata": {},
     "source": [
      "<em>\n",
      "    As the example above shows,\n",
      "    we can put [comments](glossary.html#comment) in our programs\n",
      "    to explain what they're doing.\n",
      "    A comment starts with a '#' character and runs to the end of the line;\n",
      "    Python ignores everything in comments when it's executing code.\n",
      "</em>\n",
      "<hr/>"
     ]
    },
    {
     "cell_type": "markdown",
     "metadata": {},
     "source": [
      "Along with useful constants (like &pi;),\n",
      "libraries can contain [functions](glossary.html#function).\n",
      "A function is a piece of code that has been given a name\n",
      "so that we can use it in other programs.\n",
      "The `math` library contains many useful functions,\n",
      "two of which are shown below:"
     ]
    },
    {
     "cell_type": "code",
     "collapsed": false,
     "input": [
      "print 'square root of 5:', math.sqrt(5)"
     ],
     "language": "python",
     "metadata": {},
     "outputs": [
      {
       "output_type": "stream",
       "stream": "stdout",
       "text": [
        "square root of 5: 2.2360679775\n"
       ]
      }
     ],
     "prompt_number": 34
    },
    {
     "cell_type": "code",
     "collapsed": false,
     "input": [
      "print 'cosine of pi/2:', math.cos(math.pi / 2)"
     ],
     "language": "python",
     "metadata": {},
     "outputs": [
      {
       "output_type": "stream",
       "stream": "stdout",
       "text": [
        "cosine of pi/2: 6.12323399574e-17\n"
       ]
      }
     ],
     "prompt_number": 35
    },
    {
     "cell_type": "markdown",
     "metadata": {},
     "source": [
      "Just as we we referred to &pi; as `math.pi`,\n",
      "we refer to the functions in the `math` library using [dotted notation](glossary.html#dotted_notation)\n",
      "as `math.sqrt` (for square root),\n",
      "`math.cos` (for cosine),\n",
      "and so on.\n",
      "This helps us keep track of things,\n",
      "just like calling something \"Darwin's notebook\" or \"Gould's wallet\".\n",
      "If we want to do a little less typing,\n",
      "we can give the library a nickname (or [alias](glossary.html#alias)) as we import it:"
     ]
    },
    {
     "cell_type": "code",
     "collapsed": false,
     "input": [
      "import math as m\n",
      "print 'square root of 7:', m.sqrt(7) # instead of math.sqrt"
     ],
     "language": "python",
     "metadata": {},
     "outputs": [
      {
       "output_type": "stream",
       "stream": "stdout",
       "text": [
        "square root of 7: 2.64575131106\n"
       ]
      }
     ],
     "prompt_number": 36
    },
    {
     "cell_type": "markdown",
     "metadata": {},
     "source": [
      "We can even import the things we want for direct use:"
     ]
    },
    {
     "cell_type": "code",
     "collapsed": false,
     "input": [
      "from math import sqrt\n",
      "print 'square root of 9:', sqrt(9) # doesn't use the dot"
     ],
     "language": "python",
     "metadata": {},
     "outputs": [
      {
       "output_type": "stream",
       "stream": "stdout",
       "text": [
        "square root of 9: 3.0\n"
       ]
      }
     ],
     "prompt_number": 37
    },
    {
     "cell_type": "markdown",
     "metadata": {},
     "source": [
      "<hr/>\n",
      "### *Why Isn't the Cosine of &pi;/2 Zero?*\n",
      "\n",
      "<em>\n",
      "    When we printed the cosine of &pi;/2, we got 6.12323399574e-17 (i.e., roughly 6&times;10<sup>-17</sup>) rather than 0.\n",
      "    The reason is that the computer can't represent the value of &pi; exactly in a finite number of digits,\n",
      "    just as 0.333333333333&hellip; doest't capture 1/3 precisely.\n",
      "    When we take the cosine of this approximation,\n",
      "    we get something that is almost zero, but not quite.\n",
      "    Small errors like this crop up in most scientific calculations;\n",
      "    we'll look later at ways to handle them.\n",
      "</em>\n",
      "<hr/>"
     ]
    },
    {
     "cell_type": "heading",
     "level": 2,
     "metadata": {},
     "source": [
      "Values and Variables"
     ]
    },
    {
     "cell_type": "code",
     "collapsed": false,
     "input": [
      "# Find the start codon of a gene\n",
      "dna = 'CTGTTGACATGCATTCACGCTACGCTAGCT'\n",
      "dna.find('ATG')"
     ],
     "language": "python",
     "metadata": {},
     "outputs": []
    },
    {
     "cell_type": "code",
     "collapsed": false,
     "input": [
      "# Find the start codon of a gene\n",
      "dna = 'CTGTTGACATGCATTCACGCTACGCTAGCT'\n",
      "dna.find('ATG')"
     ],
     "language": "python",
     "metadata": {},
     "outputs": []
    },
    {
     "cell_type": "code",
     "collapsed": false,
     "input": [
      "question = '%H%ow%z%d%@d%z%th%ez$%@p%ste%rzb%ur%nz%$%@szt%on%gue%?%'\n",
      "question = question.replace('%', '')\n",
      "question = question.replace('@', 'i')\n",
      "question = question.replace('$', 'h')\n",
      "question = question.replace('z', ' ')\n",
      "print question"
     ],
     "language": "python",
     "metadata": {},
     "outputs": []
    },
    {
     "cell_type": "code",
     "collapsed": false,
     "input": [
      "answer = '=H=&!dr=a=nk!c=~ff&&!be=f~r&=!i=t!w=as!c=~~l.='\n",
      "print answer.replace('=', '').replace('&', 'e').replace('~', 'o').replace('!', ' ')"
     ],
     "language": "python",
     "metadata": {},
     "outputs": []
    },
    {
     "cell_type": "heading",
     "level": 1,
     "metadata": {},
     "source": [
      "Short Exercise: Calculate GC content of DNA"
     ]
    },
    {
     "cell_type": "markdown",
     "metadata": {},
     "source": [
      "Because the binding strength of guanine (G) to cytosine (C) is different from the binding strength of adenine (A) to thymine (T) (and many other differences), it is often useful to know the fraction of a DNA sequence that is G's or C's. Go to the string method section of the Python documentation and find the string method that will allow you to calculate this fraction."
     ]
    },
    {
     "cell_type": "code",
     "collapsed": false,
     "input": [
      "# Calculate the fraction of G's and C's in this DNA sequence\n",
      "\n",
      "seq1 = 'ACGTACGTAGCTAGTAGCTACGTAGCTACGTA'\n",
      "\n",
      "gc = "
     ],
     "language": "python",
     "metadata": {},
     "outputs": []
    },
    {
     "cell_type": "code",
     "collapsed": false,
     "input": [
      "#answer\n",
      "gc = float(seq1.count('G') + seq1.count('C')) / len(seq1)"
     ],
     "language": "python",
     "metadata": {},
     "outputs": []
    },
    {
     "cell_type": "markdown",
     "metadata": {},
     "source": [
      "Check your work:"
     ]
    },
    {
     "cell_type": "code",
     "collapsed": false,
     "input": [
      "round(gc, ndigits = 2) == .47"
     ],
     "language": "python",
     "metadata": {},
     "outputs": []
    },
    {
     "cell_type": "markdown",
     "metadata": {},
     "source": [
      "A variable is just a name for a value&mdash;something we can use\n",
      "to refer to that value later in the program.\n",
      "Python creates a variable whenever we assign a value to a name using `=`,\n",
      "and we can use the variable's value after that\n",
      "just by using the variable name:"
     ]
    },
    {
     "cell_type": "code",
     "collapsed": false,
     "input": [
      "mass = 90\n",
      "age = 50\n",
      "name = 'Subject #1'\n",
      "print name, ':', age, '/', mass"
     ],
     "language": "python",
     "metadata": {},
     "outputs": [
      {
       "output_type": "stream",
       "stream": "stdout",
       "text": [
        "Subject #1 : 50 / 90\n"
       ]
      }
     ],
     "prompt_number": 38
    },
    {
     "cell_type": "markdown",
     "metadata": {},
     "source": [
      "To change a variable's value,\n",
      "we just assign it a new one:"
     ]
    },
    {
     "cell_type": "code",
     "collapsed": false,
     "input": [
      "age = 45 # correcting subject age\n",
      "print name, ':', age, '/', mass"
     ],
     "language": "python",
     "metadata": {},
     "outputs": [
      {
       "output_type": "stream",
       "stream": "stdout",
       "text": [
        "Subject #1 : 45 / 90\n"
       ]
      }
     ],
     "prompt_number": 39
    },
    {
     "cell_type": "markdown",
     "metadata": {},
     "source": [
      "New values can be calculated from old:"
     ]
    },
    {
     "cell_type": "code",
     "collapsed": false,
     "input": [
      "mass_pounds = mass * 2.2\n",
      "print 'mass in pounds:', mass_pounds"
     ],
     "language": "python",
     "metadata": {},
     "outputs": [
      {
       "output_type": "stream",
       "stream": "stdout",
       "text": [
        "mass in pounds: 198.0\n"
       ]
      }
     ],
     "prompt_number": 40
    },
    {
     "cell_type": "markdown",
     "metadata": {},
     "source": [
      "We can even calculate a new value based on an old one.\n",
      "In this case,\n",
      "Python reads the values of everything on the right side of the assignment\n",
      "before changing the variable on the left:"
     ]
    },
    {
     "cell_type": "code",
     "collapsed": false,
     "input": [
      "mass = mass * 2.2 # converting mass to pounds in place\n",
      "print name, ':', age, '/', mass"
     ],
     "language": "python",
     "metadata": {},
     "outputs": [
      {
       "output_type": "stream",
       "stream": "stdout",
       "text": [
        "Subject #1 : 45 / 198.0\n"
       ]
      }
     ],
     "prompt_number": 41
    },
    {
     "cell_type": "markdown",
     "metadata": {},
     "source": [
      "And of course,\n",
      "we can use one variable to calculate a value for another:"
     ]
    },
    {
     "cell_type": "code",
     "collapsed": false,
     "input": [
      "ratio = mass / age\n",
      "print 'pounds per year:', ratio"
     ],
     "language": "python",
     "metadata": {},
     "outputs": [
      {
       "output_type": "stream",
       "stream": "stdout",
       "text": [
        "pounds per year: 4.4\n"
       ]
      }
     ],
     "prompt_number": 42
    },
    {
     "cell_type": "markdown",
     "metadata": {},
     "source": [
      "What we *can't* do is use a variable that we haven't assigned a value.\n",
      "For example,\n",
      "suppose we try to print `mas` with one 's' instead of `mass`:"
     ]
    },
    {
     "cell_type": "code",
     "collapsed": false,
     "input": [
      "print 'Subject mass:', mas # only one 's'"
     ],
     "language": "python",
     "metadata": {},
     "outputs": [
      {
       "ename": "NameError",
       "evalue": "name 'mas' is not defined",
       "output_type": "pyerr",
       "traceback": [
        "\u001b[0;31m---------------------------------------------------------------------------\u001b[0m\n\u001b[0;31mNameError\u001b[0m                                 Traceback (most recent call last)",
        "\u001b[0;32m<ipython-input-43-0da7ce60de93>\u001b[0m in \u001b[0;36m<module>\u001b[0;34m()\u001b[0m\n\u001b[0;32m----> 1\u001b[0;31m \u001b[0;32mprint\u001b[0m \u001b[0;34m'Subject mass:'\u001b[0m\u001b[0;34m,\u001b[0m \u001b[0mmas\u001b[0m \u001b[0;31m# only one 's'\u001b[0m\u001b[0;34m\u001b[0m\u001b[0m\n\u001b[0m",
        "\u001b[0;31mNameError\u001b[0m: name 'mas' is not defined"
       ]
      },
      {
       "output_type": "stream",
       "stream": "stdout",
       "text": [
        "Subject mass:"
       ]
      }
     ],
     "prompt_number": 43
    },
    {
     "cell_type": "markdown",
     "metadata": {},
     "source": [
      "Other languages,\n",
      "such as Perl,\n",
      "do let programmers use variables they haven't defined,\n",
      "and automatically give those variables default values like zero.\n",
      "This occasionally saves a bit of typing,\n",
      "but it can also cause hard-to-find errors,\n",
      "since human eyes can all-too-easily mis-read `mas` as `mass`\n",
      "or `temperatrue` as `temperature`."
     ]
    },
    {
     "cell_type": "markdown",
     "metadata": {},
     "source": [
      "<hr/>\n",
      "\n",
      "### *Arithmetic*\n",
      "\n",
      "<em>\n",
      "The table below shows some commonly-used [arithmetic operators](glossary.html#arithmetic_operator) in Python.\n",
      "<table>\n",
      "<tr><th>Operation</th><th>Symbol</th><th>Example</th><th>Result</th></tr>\n",
      "<tr><td>Addition</td><td>+</td><td>2+3</td><td>5</td></tr>\n",
      "<tr><td>Subtraction</td><td>-</td><td>2-3</td><td>-1</td></tr>\n",
      "<tr><td>Multiplication</td><td>*</td><td>2*3</td><td>6</td></tr>\n",
      "<tr><td>Division</td><td>/</td><td>2/3</td><td>0</td></tr>\n",
      "<tr><td></td><td></td><td>2.0/3</td><td>0.66666666666</td></tr>\n",
      "<tr><td>Remainder</td><td>%</td><td>15%6</td><td>3</td></tr>\n",
      "<tr><td>Exponentiation</td><td>**</td><td>2**3</td><td>8</td></tr>\n",
      "</table>\n",
      "</em>\n",
      "<hr/>"
     ]
    },
    {
     "cell_type": "code",
     "collapsed": false,
     "input": [
      "There are operations that can be done with strings."
     ],
     "language": "python",
     "metadata": {},
     "outputs": []
    },
    {
     "cell_type": "markdown",
     "metadata": {},
     "source": [
      "firstname = \"Johann\"\n",
      "\n",
      "lastname = \"Gambolputty\""
     ]
    },
    {
     "cell_type": "markdown",
     "metadata": {},
     "source": [
      "When concatenating strings, we must explicitly use the concatenation operator + which takes two strings and creates one longer string."
     ]
    },
    {
     "cell_type": "code",
     "collapsed": false,
     "input": [
      "fullname = firstname + lastname\n",
      "\n",
      "print fullname\n",
      "\n",
      "fullname = firstname + \" \" + lastname"
     ],
     "language": "python",
     "metadata": {},
     "outputs": []
    },
    {
     "cell_type": "code",
     "collapsed": false,
     "input": [
      "print fullname"
     ],
     "language": "python",
     "metadata": {},
     "outputs": []
    },
    {
     "cell_type": "markdown",
     "metadata": {},
     "source": [
      "There are other operations defined on string data. Use the dir command to find them. One example I'll show is the .upper() method. Lets take a look at the documentation."
     ]
    },
    {
     "cell_type": "code",
     "collapsed": false,
     "input": [
      "str.upper?"
     ],
     "language": "python",
     "metadata": {},
     "outputs": []
    },
    {
     "cell_type": "markdown",
     "metadata": {},
     "source": [
      "So we can use it to upper-caseify a string"
     ]
    },
    {
     "cell_type": "code",
     "collapsed": false,
     "input": [
      "fullname.upper()"
     ],
     "language": "python",
     "metadata": {},
     "outputs": []
    },
    {
     "cell_type": "markdown",
     "metadata": {},
     "source": [
      "You have to use the parenthesis at the end because upper is a method of the string class.\n",
      "\n",
      "For what its worth, you don't need to have a variable to use the .upper() method, you could use it on the string itself\n"
     ]
    },
    {
     "cell_type": "code",
     "collapsed": false,
     "input": [
      "\"Johann Gambolputty\".upper()"
     ],
     "language": "python",
     "metadata": {},
     "outputs": []
    },
    {
     "cell_type": "markdown",
     "metadata": {},
     "source": [
      "\n",
      "What do you think should happen when you take upper of an int? What about a string representation of an int?\n",
      "\n",
      "That wraps up this lesson. We tried out the IPython shell and got some experience with ints, floats, and strings. Along the way we talked about some philosophy and how programming is like hammering. "
     ]
    },
    {
     "cell_type": "heading",
     "level": 1,
     "metadata": {},
     "source": [
      "*Insert arithmetic problem here*"
     ]
    },
    {
     "cell_type": "heading",
     "level": 2,
     "metadata": {},
     "source": [
      "Floats vs. integers"
     ]
    },
    {
     "cell_type": "markdown",
     "metadata": {},
     "source": [
      "*Insert problem to explain floats and integers. \n",
      "There's no such things as a fraction of a pixel,\n",
      "so we have to decide whether we want to round off to the nearest whole number,\n",
      "or throw away the fractional part (which in this case means rounding down).\n",
      "The former seems more sensible,\n",
      "and Python has a built-in function called `round` to round things off,\n",
      "so we'll do that.\n",
      "Here's a quick test:"
     ]
    },
    {
     "cell_type": "code",
     "collapsed": false,
     "input": [
      "print 'rounding off 2/3 should give 1:', round(2/3)"
     ],
     "language": "python",
     "metadata": {},
     "outputs": [
      {
       "output_type": "stream",
       "stream": "stdout",
       "text": [
        " rounding off 2/3 should give 1: 0.0\n"
       ]
      }
     ],
     "prompt_number": 44
    },
    {
     "cell_type": "markdown",
     "metadata": {},
     "source": [
      "Whoops: why is the result 0?\n",
      "And why is the result printed as 0.0 rather than 0?\n",
      "\n",
      "The answer to both questions is that computers can store numbers\n",
      "as [integers](glossary.html#integer)\n",
      "or [floating point numbers](glossary.html#floating_point_number)\n",
      "(usually just called \"floats\").\n",
      "Integers are the familiar values 1, 2, 3, 97, -6, and so on;\n",
      "floats have fractional parts,\n",
      "like 2.5 or -7.172483921748.\n",
      "In many cases,\n",
      "the difference isn't important&mdash;2&times;3 and 2.0&times;3.0 give the same answer:"
     ]
    },
    {
     "cell_type": "code",
     "collapsed": false,
     "input": [
      "print 'using integers:', 2*3\n",
      "print 'using floats:', 2.0*3.0"
     ],
     "language": "python",
     "metadata": {},
     "outputs": [
      {
       "output_type": "stream",
       "stream": "stdout",
       "text": [
        "using integers: 6\n",
        "using floats: 6.0\n"
       ]
      }
     ],
     "prompt_number": 45
    },
    {
     "cell_type": "markdown",
     "metadata": {},
     "source": [
      "However,\n",
      "if we divide one integer by another,\n",
      "Python only keeps the integer portion of the result,\n",
      "so 5/2 is 2 rather than 2.5,\n",
      "and 2/5 is 0 rather than 0.4:"
     ]
    },
    {
     "cell_type": "code",
     "collapsed": false,
     "input": [
      "print '5/2:', 5/2\n",
      "print '2/5:', 2/5"
     ],
     "language": "python",
     "metadata": {},
     "outputs": [
      {
       "output_type": "stream",
       "stream": "stdout",
       "text": [
        "5/2: 2\n",
        "2/5: 0\n"
       ]
      }
     ],
     "prompt_number": 46
    },
    {
     "cell_type": "markdown",
     "metadata": {},
     "source": [
      "If either [argument](glossary.html#argument) of the division is a float,\n",
      "on the other hand,\n",
      "Python keeps the fraction when doing the calculation:"
     ]
    },
    {
     "cell_type": "code",
     "collapsed": false,
     "input": [
      "print '5.0/2:', 5.0/2\n",
      "print '2/5.0:', 2/5.0"
     ],
     "language": "python",
     "metadata": {},
     "outputs": [
      {
       "output_type": "stream",
       "stream": "stdout",
       "text": [
        "5.0/2: 2.5\n",
        "2/5.0: 0.4\n"
       ]
      }
     ],
     "prompt_number": 47
    },
    {
     "cell_type": "markdown",
     "metadata": {},
     "source": [
      "This is why `round(2/3)` produced 0.0:\n",
      "2/3 is the integer 0,\n",
      "which `round` turned into the float 0.0.\n",
      "To get the answer we expected,\n",
      "we can either use constant values:"
     ]
    },
    {
     "cell_type": "code",
     "collapsed": false,
     "input": [
      "print 'nearest whole number to 2/3:', round(2.0/3.0)"
     ],
     "language": "python",
     "metadata": {},
     "outputs": [
      {
       "output_type": "stream",
       "stream": "stdout",
       "text": [
        "nearest whole number to 2/3: 1.0\n"
       ]
      }
     ],
     "prompt_number": 48
    },
    {
     "cell_type": "markdown",
     "metadata": {},
     "source": [
      "or use another built-in function called `float`\n",
      "to turn one or the other argument of the division into a float:"
     ]
    },
    {
     "cell_type": "code",
     "collapsed": false,
     "input": [
      "print 'nearest whole number to 2/3:', round(float(2)/3)"
     ],
     "language": "python",
     "metadata": {},
     "outputs": [
      {
       "output_type": "stream",
       "stream": "stdout",
       "text": [
        "nearest whole number to 2/3: 1.0\n"
       ]
      }
     ],
     "prompt_number": 49
    },
    {
     "cell_type": "markdown",
     "metadata": {},
     "source": [
      "There is another built-in function,\n",
      "`int`,\n",
      "which turns floats into integers,\n",
      "but unlike `round`,\n",
      "it truncates (just like division):"
     ]
    },
    {
     "cell_type": "code",
     "collapsed": false,
     "input": [
      "print 'int(0.66666666):', int(0.66666666)"
     ],
     "language": "python",
     "metadata": {},
     "outputs": [
      {
       "output_type": "stream",
       "stream": "stdout",
       "text": [
        "int(0.66666666): 0\n"
       ]
      }
     ],
     "prompt_number": 50
    },
    {
     "cell_type": "markdown",
     "metadata": {},
     "source": [
      "<hr/>\n",
      "### *Why Two Kinds of Numbers?*\n",
      "\n",
      "<em>\n",
      "    There are two reasons why computers have two ways to represent numbers.\n",
      "    The first is historical:\n",
      "    for several decades,\n",
      "    operations on integers were faster than operations on floats,\n",
      "    so it made sense to let programmers use whichever they wanted.\n",
      "    The other reason is that they really are different:\n",
      "    integers are for counting things,\n",
      "    while floats are for measuring quantitites.\n",
      "</em>\n",
      "<hr/>"
     ]
    },
    {
     "cell_type": "markdown",
     "metadata": {},
     "source": [
      "We have now accomplished our original task for one picture,\n",
      "but what if we had to create thumbnails for a dozen?\n",
      "Or for several thousand?\n",
      "Typing in same four lines a thousand times would be very tedious,\n",
      "and we would almost certainly make a mistake.\n",
      "In fact,\n",
      "we *did* make a mistake several times while writing this lesson:\n",
      "we called the variable referring to the second copy of the image `flower`,\n",
      "then used `picture.width` in the calculation that resized it.\n",
      "To solve these problems,\n",
      "we'll need to take a look at how functions are created,\n",
      "and at how to tell a computer to do something many times over."
     ]
    },
    {
     "cell_type": "heading",
     "level": 2,
     "metadata": {},
     "source": [
      "Key Points"
     ]
    },
    {
     "cell_type": "markdown",
     "metadata": {},
     "source": [
      "- Use `import library`, `import library as nickname`, and `from library import thing` to load code from libraries.\n",
      "- Use `variable = value` to assign a value to a variable.\n",
      "    - This creates `variable` if it does not already exist.\n",
      "    - And assigns it a new value if it does.\n",
      "- Use meaningful names for variables to make programs easier for people to understand.\n",
      "- Use integers to count, and floats to measure."
     ]
    }
   ],
   "metadata": {}
  }
 ]
}