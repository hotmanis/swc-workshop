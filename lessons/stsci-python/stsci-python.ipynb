{
 "metadata": {
  "name": "stsci-python"
 },
 "nbformat": 3,
 "nbformat_minor": 0,
 "worksheets": [
  {
   "cells": [
    {
     "cell_type": "markdown",
     "metadata": {},
     "source": [
      "---\n",
      "\n",
      "#Intro to Python\n",
      "\n",
      "---"
     ]
    },
    {
     "cell_type": "markdown",
     "metadata": {},
     "source": [
      "###Why Python?  \n",
      "1.  Readibility  \n",
      "2.  Built with coder psychology in mind\n",
      "3.  Language interoperability  \n",
      "4.  Object Oriented  \n",
      "5.  It does EVERYTHING  "
     ]
    },
    {
     "cell_type": "markdown",
     "metadata": {},
     "source": [
      "![alt text](http://imgs.xkcd.com/comics/python.png \"Title\")"
     ]
    },
    {
     "cell_type": "markdown",
     "metadata": {},
     "source": [
      "## And simply diving in:  \n",
      "Let's quick look at an example of python showing  \n",
      "\n",
      " *  using libraries  \n",
      " *  using comments  \n",
      " *  variable assignment  \n",
      " *  using functions  \n",
      " *  printing results  \n",
      "  \n",
      "Then we'll go through things more slowly"
     ]
    },
    {
     "cell_type": "code",
     "collapsed": false,
     "input": [
      "# This is a comment, i'm sure you are familiar with it\n",
      "\n",
      "# You import libraries (also called packages)\n",
      "# with the import statement\n",
      "import math\n",
      "\n",
      "\n",
      "# You'll notice you don't have to declare the variable type\n",
      "x = 2 * math.pi\n",
      "message = 'Math is fun:'\n",
      "result = math.cos( x )\n",
      "\n",
      "# Sending the results to the screen is simple with print\n",
      "print x\n",
      "\n",
      "# You can print multiple things by separating them with \",\"\n",
      "print message, result"
     ],
     "language": "python",
     "metadata": {},
     "outputs": []
    },
    {
     "cell_type": "markdown",
     "metadata": {},
     "source": [
      "  \n",
      "---\n",
      "  \n",
      "# Variables  \n",
      "  \n",
      "---  \n",
      "  \n",
      "*  No need to declare variable types  \n",
      "*  ANYTHING can be put in a variable  \n",
      "    +  numbers  \n",
      "    +  strings  \n",
      "    +  functions  \n",
      "    +  file-handles\n",
      "    +  etc, etc  \n",
      "\n",
      "Variables are just containers to put stuff in, they don't much care what!"
     ]
    },
    {
     "cell_type": "code",
     "collapsed": false,
     "input": [
      "x = 'good morning'\n",
      "print x"
     ],
     "language": "python",
     "metadata": {},
     "outputs": []
    },
    {
     "cell_type": "code",
     "collapsed": false,
     "input": [
      "x = 5\n",
      "print x"
     ],
     "language": "python",
     "metadata": {},
     "outputs": []
    },
    {
     "cell_type": "code",
     "collapsed": false,
     "input": [
      "x = math.cos\n",
      "print x( math.pi )"
     ],
     "language": "python",
     "metadata": {},
     "outputs": []
    },
    {
     "cell_type": "markdown",
     "metadata": {},
     "source": [
      "---\n",
      "\n",
      "# Simple data types/containers in python  \n",
      "  \n",
      "---\n",
      "\n",
      "These are the basic building blocks of any python code.  More types are available,  \n",
      "both in standard python and by using additional libraries, which we will go into later.  \n",
      "\n",
      "For now:  \n",
      "  \n",
      "*  integer  \n",
      "*  float  \n",
      "*  string  \n",
      "*  list  \n"
     ]
    },
    {
     "cell_type": "markdown",
     "metadata": {},
     "source": [
      "### Numbers: ints and floats"
     ]
    },
    {
     "cell_type": "code",
     "collapsed": false,
     "input": [
      "# Integer numbers simply don't have decimal points\n",
      "2"
     ],
     "language": "python",
     "metadata": {},
     "outputs": []
    },
    {
     "cell_type": "code",
     "collapsed": false,
     "input": [
      "# To make an int a float, just add a decimal\n",
      "2.0"
     ],
     "language": "python",
     "metadata": {},
     "outputs": []
    },
    {
     "cell_type": "markdown",
     "metadata": {},
     "source": [
      "## *Excercise:*  \n",
      "\n",
      "Do some basic arithmetic with floats and integers.  \n",
      "\n",
      "*  addition:        +  \n",
      "*  subtraction:     -  \n",
      "*  multiplication:  *  \n",
      "*  division:        /  \n",
      "*  exponentiataion: **\n",
      "*  modulo:          %"
     ]
    },
    {
     "cell_type": "code",
     "collapsed": false,
     "input": [
      "# Do some basic arithmetic on some numbers\n",
      "# mix and match integers and floats and see what happens"
     ],
     "language": "python",
     "metadata": {},
     "outputs": []
    },
    {
     "cell_type": "markdown",
     "metadata": {},
     "source": [
      "### Strings"
     ]
    },
    {
     "cell_type": "code",
     "collapsed": false,
     "input": [
      "# To say somthing is a string, just enclose it in quotes\n",
      "'two'"
     ],
     "language": "python",
     "metadata": {},
     "outputs": []
    },
    {
     "cell_type": "code",
     "collapsed": false,
     "input": [
      "# You can index and slice strings using square brackets\n",
      "word = 'hello'\n",
      "print word\n",
      "print word[1]\n",
      "print word[1:4]"
     ],
     "language": "python",
     "metadata": {},
     "outputs": []
    },
    {
     "cell_type": "markdown",
     "metadata": {},
     "source": [
      "### Lists\n",
      "\n",
      "This is NOT the python equivalent to an IDL array.  This is a list, which serves a different purpose.  Azalee will be doing arrays later."
     ]
    },
    {
     "cell_type": "code",
     "collapsed": false,
     "input": [
      "# bulding a list is easy!\n",
      "# Just use square brackets: []\n"
     ],
     "language": "python",
     "metadata": {},
     "outputs": []
    },
    {
     "cell_type": "code",
     "collapsed": false,
     "input": [
      "# Just like strings, lists can also be indexed and sliced\n"
     ],
     "language": "python",
     "metadata": {},
     "outputs": []
    },
    {
     "cell_type": "code",
     "collapsed": false,
     "input": [
      "# Lists can have a hetergeneous mix of values\n"
     ],
     "language": "python",
     "metadata": {},
     "outputs": []
    },
    {
     "cell_type": "markdown",
     "metadata": {},
     "source": [
      "---\n",
      "\n",
      "# Operations...but not only with numbers?\n",
      "\n",
      "---"
     ]
    },
    {
     "cell_type": "markdown",
     "metadata": {},
     "source": [
      "## *Excercise:*  \n",
      "\n",
      "1.  Make a string containing \"luminiferous ether\" 10 times.\n",
      "\n",
      "2.  Then make a list of that string 100 times."
     ]
    },
    {
     "cell_type": "code",
     "collapsed": false,
     "input": [
      "# This doesn't sound like fun"
     ],
     "language": "python",
     "metadata": {},
     "outputs": []
    },
    {
     "cell_type": "markdown",
     "metadata": {},
     "source": [
      "### Why is this?  \n",
      "What reasons are there for this kind of behavior?  \n",
      "\n",
      "*  "
     ]
    },
    {
     "cell_type": "markdown",
     "metadata": {},
     "source": [
      "---\n",
      "\n",
      "# Everything is an object\n",
      "\n",
      "---\n",
      "\n",
      "**Everthing** really is an object in python.  Lists, functions, strings, even numbers.\n",
      "\n",
      "This is important as we start to manipulate these data types."
     ]
    },
    {
     "cell_type": "code",
     "collapsed": false,
     "input": [
      "#  You can look at what any object contains with the dir() function\n",
      "#  This tells the functions (called methods)\n",
      "#  and simple values/strings (called attributes) that are available.\n",
      "\n",
      "x = 5\n",
      "dir( x )"
     ],
     "language": "python",
     "metadata": {},
     "outputs": []
    },
    {
     "cell_type": "code",
     "collapsed": false,
     "input": [
      "# methods and attributes are accessed with the \".\"\n",
      "print x.real\n",
      "print x.imag"
     ],
     "language": "python",
     "metadata": {},
     "outputs": []
    },
    {
     "cell_type": "markdown",
     "metadata": {},
     "source": [
      "## *Excercise:*  \n",
      "\n",
      "1.  Put your favorite astronomical target in a variable  \n",
      "2.  Use the dir() function to find out how to:  \n",
      "    *  make everything in caps\n",
      "    *  count the occurance of each vowel, 'a','e','i','o','u'\n"
     ]
    },
    {
     "cell_type": "code",
     "collapsed": false,
     "input": [],
     "language": "python",
     "metadata": {},
     "outputs": []
    },
    {
     "cell_type": "markdown",
     "metadata": {},
     "source": [
      "## *Excercise:*  \n",
      "\n",
      "1.  Make a list of your five favorite foods  \n",
      "2.  Oops, you realized that you forgot about \"anchovies\".  Use dir() to find the method that can append a value to a list."
     ]
    },
    {
     "cell_type": "code",
     "collapsed": false,
     "input": [],
     "language": "python",
     "metadata": {},
     "outputs": []
    },
    {
     "cell_type": "markdown",
     "metadata": {},
     "source": [
      "---\n",
      "\n",
      "# The Traceback\n",
      "\n",
      "---\n",
      "\n",
      "This is the built-in debugger for python"
     ]
    },
    {
     "cell_type": "code",
     "collapsed": false,
     "input": [
      "# we know this won't work, but that's ok because we want a traceback\n",
      "\n",
      "# can anyone give me something that won't work mathematically?"
     ],
     "language": "python",
     "metadata": {},
     "outputs": []
    },
    {
     "cell_type": "code",
     "collapsed": false,
     "input": [
      "# extra space\n",
      "\n",
      "math.cos( 2 )\n",
      "\n",
      "math.log10( -1 )\n",
      "\n",
      "print 'I finished the math'"
     ],
     "language": "python",
     "metadata": {},
     "outputs": []
    },
    {
     "cell_type": "markdown",
     "metadata": {},
     "source": [
      "This doesn't just work for math, it also works for incorrect syntax, missing variables, etc"
     ]
    },
    {
     "cell_type": "code",
     "collapsed": false,
     "input": [
      "# Lets spot the errors:\n",
      "\n",
      "first_name = 'justin\n",
      "last_name = 'ely'\n",
      "\n",
      "print first_name, ' ', middle_name, ' ', last_name\n",
      "\n",
      "age = 25 + 0j\n",
      "print 'And I am ', age.real_part, ' old'\n",
      "\n"
     ],
     "language": "python",
     "metadata": {},
     "outputs": []
    },
    {
     "cell_type": "markdown",
     "metadata": {},
     "source": [
      "Remember: the traceback is your friend!  \n",
      "  \n",
      "  "
     ]
    },
    {
     "cell_type": "markdown",
     "metadata": {},
     "source": [
      "---\n",
      "\n",
      "# Other data types/containers in python  \n",
      "  \n",
      "---\n",
      "\n",
      "*  tuple  \n",
      "*  set  \n",
      "*  dictionary  "
     ]
    },
    {
     "cell_type": "markdown",
     "metadata": {},
     "source": [
      "### Tuples  \n",
      "\n",
      "Unchangeable data containers"
     ]
    },
    {
     "cell_type": "code",
     "collapsed": false,
     "input": [
      "# Tuples are like lists, but unchangeable\n",
      "# This works, for the list\n",
      "sample_list = [ 1, 2, 3, 4 ]\n",
      "sample_list[0] = 99\n",
      "\n",
      "print sample_list"
     ],
     "language": "python",
     "metadata": {},
     "outputs": []
    },
    {
     "cell_type": "code",
     "collapsed": false,
     "input": [
      "# But this doesn't work for the tuple\n",
      "# You make a tuple with parenthesis ()\n",
      "sample_tuple = ( 1, 2, 3, 4 )\n",
      "sample_tuple[0] = 99\n",
      "\n",
      "print sample_tuple"
     ],
     "language": "python",
     "metadata": {},
     "outputs": []
    },
    {
     "cell_type": "markdown",
     "metadata": {},
     "source": [
      "### Sets  \n",
      "\n",
      "Python has built in support for mathematical sets."
     ]
    },
    {
     "cell_type": "code",
     "collapsed": false,
     "input": [
      "# You can make a set either with the curly braces {} \n",
      "# or by explicitly calling set(), and passing in a list\n",
      "\n",
      "a = { 1, 1, 2, 3, 4, 5, 5 }\n",
      "b = set( [4, 5, 6, 6, 6, 6, 7, 8, 9] )\n",
      "\n",
      "print a\n",
      "print b"
     ],
     "language": "python",
     "metadata": {},
     "outputs": []
    },
    {
     "cell_type": "markdown",
     "metadata": {},
     "source": [
      "## *Excercise:*\n",
      "\n",
      "1. What mathematical operations would you like a set to be able to do?  Use the dir() function again to find out what operations sets can do.  Try to produce the union and difference of the two sets given above"
     ]
    },
    {
     "cell_type": "markdown",
     "metadata": {},
     "source": [
      "### Dictionaries\n",
      "\n",
      "Dictionaries are linked key, value pairs.  A key can be *mostly* anything, and keys can be anything.\n"
     ]
    },
    {
     "cell_type": "markdown",
     "metadata": {},
     "source": [
      "---\n",
      "\n",
      "# Loops and conditionals\n",
      "\n",
      "---\n",
      "\n",
      "Loops let you repeat things, which is pretty useful if you are lazy - or every want to get things done."
     ]
    },
    {
     "cell_type": "code",
     "collapsed": false,
     "input": [
      "# lets try a for loop\n",
      "\n",
      "# this is a built-in function to create a list of integers\n",
      "all_values = range( 10 )"
     ],
     "language": "python",
     "metadata": {},
     "outputs": []
    },
    {
     "cell_type": "code",
     "collapsed": false,
     "input": [
      "# Is this different from what you are used to?\n",
      "all_values = 'lets do something different'\n",
      "\n",
      "# Can i loop over this variable?\n"
     ],
     "language": "python",
     "metadata": {},
     "outputs": []
    },
    {
     "cell_type": "code",
     "collapsed": false,
     "input": [
      "# What else can I loop over?\n"
     ],
     "language": "python",
     "metadata": {},
     "outputs": []
    },
    {
     "cell_type": "markdown",
     "metadata": {},
     "source": [
      "Conditionals check the truth or falsity of a statement:\n",
      "\n",
      "a == b   \n",
      "a <= b  \n",
      "a >= b  \n",
      "a != b  "
     ]
    },
    {
     "cell_type": "code",
     "collapsed": false,
     "input": [
      "print 3 == 3\n",
      "print 3 == 4\n",
      "print 3 >= 4\n",
      "print 3 != 4"
     ],
     "language": "python",
     "metadata": {},
     "outputs": []
    },
    {
     "cell_type": "markdown",
     "metadata": {},
     "source": [
      "This works for many things"
     ]
    },
    {
     "cell_type": "code",
     "collapsed": false,
     "input": [
      "a = [1, 2, 3, 4]\n",
      "b = [3, 4, 5]\n",
      "print a == b"
     ],
     "language": "python",
     "metadata": {},
     "outputs": []
    },
    {
     "cell_type": "markdown",
     "metadata": {},
     "source": [
      "\n",
      "## *Excercise:*\n",
      "\n",
      "1.  Loop over a list of 20 values, but only print the last half  \n",
      "2.  Loop over a list of 20 values, but print only the odd numbers  \n",
      "3.  Loop over a list of ['apple', 'pear', 'pineapple', 'blueberry', 'nectarine'] printint out only those that startwith the letter 'p'  (use dir() to find the method)"
     ]
    },
    {
     "cell_type": "code",
     "collapsed": false,
     "input": [
      "# 1. How did you do it?\n"
     ],
     "language": "python",
     "metadata": {},
     "outputs": []
    },
    {
     "cell_type": "code",
     "collapsed": false,
     "input": [
      "# 2. How did you do it?\n"
     ],
     "language": "python",
     "metadata": {},
     "outputs": []
    },
    {
     "cell_type": "code",
     "collapsed": false,
     "input": [
      "# 3. How did you do it?\n"
     ],
     "language": "python",
     "metadata": {},
     "outputs": []
    },
    {
     "cell_type": "markdown",
     "metadata": {},
     "source": [
      "---\n",
      "\n",
      "# Opening files\n",
      "\n",
      "---\n",
      "\n",
      "You can open files with the built in open() function.\n",
      "\n",
      "There are other, faster ways, to open txt tables and the like, but this is instructive and sometimes useful."
     ]
    },
    {
     "cell_type": "code",
     "collapsed": false,
     "input": [
      "#  You open a file with open()\n",
      "\n",
      "handle = open('ufo_sightings_aug.txt')\n",
      "\n",
      "print handle"
     ],
     "language": "python",
     "metadata": {},
     "outputs": []
    },
    {
     "cell_type": "code",
     "collapsed": false,
     "input": [
      "print handle.readlines()"
     ],
     "language": "python",
     "metadata": {},
     "outputs": []
    },
    {
     "cell_type": "code",
     "collapsed": false,
     "input": [
      "print handle.readlines()"
     ],
     "language": "python",
     "metadata": {},
     "outputs": []
    },
    {
     "cell_type": "markdown",
     "metadata": {},
     "source": [
      "Why does this happen?"
     ]
    },
    {
     "cell_type": "markdown",
     "metadata": {},
     "source": [
      "---\n",
      "\n",
      "# Python is a general purpose scripting language\n",
      "\n",
      "---\n",
      "\n",
      "This means it can do things like copy files, make directories, check if files/directories exist, etc\n"
     ]
    },
    {
     "cell_type": "code",
     "collapsed": false,
     "input": [
      "import os\n",
      "import shutil\n",
      "import glob"
     ],
     "language": "python",
     "metadata": {},
     "outputs": [],
     "prompt_number": 28
    },
    {
     "cell_type": "code",
     "collapsed": false,
     "input": [
      "# Let's print everything in the directory\n"
     ],
     "language": "python",
     "metadata": {},
     "outputs": []
    },
    {
     "cell_type": "code",
     "collapsed": false,
     "input": [
      "# Let's make copies of all the .txt files in our directory.\n"
     ],
     "language": "python",
     "metadata": {},
     "outputs": []
    },
    {
     "cell_type": "code",
     "collapsed": false,
     "input": [
      "# Let's write a new file\n"
     ],
     "language": "python",
     "metadata": {},
     "outputs": []
    },
    {
     "cell_type": "code",
     "collapsed": false,
     "input": [
      "# Let's delete that file, it was a bad idea\n"
     ],
     "language": "python",
     "metadata": {},
     "outputs": []
    }
   ],
   "metadata": {}
  }
 ]
}