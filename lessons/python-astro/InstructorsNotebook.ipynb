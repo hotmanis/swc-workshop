{
 "metadata": {
  "name": "InstructorsNotebook"
 },
 "nbformat": 3,
 "nbformat_minor": 0,
 "worksheets": [
  {
   "cells": [
    {
     "cell_type": "markdown",
     "metadata": {},
     "source": [
      "#Astronomy Examples in Python"
     ]
    },
    {
     "cell_type": "markdown",
     "metadata": {},
     "source": [
      "##An intro to <code>numpy</code> and <code>astropy</code>"
     ]
    },
    {
     "cell_type": "markdown",
     "metadata": {},
     "source": [
      "###What is NumPy?\n",
      "\n",
      "NumPy is a Python package implementing efficient collections of specific\n",
      "types of data (generally numerical), similar to the standard array\n",
      "module (but with many more features). NumPy arrays differ from lists and\n",
      "tuples in that the data is contiguous in memory. A Python **list**, \n",
      "```[0, 1, 2]```, in contrast, is actually an array of pointers to Python\n",
      "objects representing each number. This allows NumPy arrays to be\n",
      "considerably faster for numerical operations than Python lists/tuples.\n",
      "\n"
     ]
    },
    {
     "cell_type": "markdown",
     "metadata": {},
     "source": [
      "###Why NumPy--a motivating example\n",
      "\n",
      "Python was never designed originally for scientific computing, and contains many high-level abstractions necessary to enable its enormously flexible object-oriented interface.  In Python, storing most integers requires more than just 4-8 bytes.  It also requires at least a couple pointers per-integer.  Performing a calculation on two numbers requires one or two bytecode operations, each of which can take dozens of CPU instructions for each pass through the Python eval loop.  And when it comes to looping and index operations of Python lists the situation is even more dire.\n",
      "\n",
      "A basic example:\n",
      "\n",
      "`Z = A + B * C`\n",
      "\n",
      "In pure Python:"
     ]
    },
    {
     "cell_type": "code",
     "collapsed": false,
     "input": [
      "# Create 3 lists of a million ints\n",
      "A = range(1000000)\n",
      "B = range(1000000)\n",
      "C = range(1000000)"
     ],
     "language": "python",
     "metadata": {},
     "outputs": []
    },
    {
     "cell_type": "code",
     "collapsed": false,
     "input": [
      "# Time doing the operation with a for loop\n",
      "import time\n",
      "\n",
      "start_time = time.time()\n",
      "\n",
      "Z = []\n",
      "for idx in xrange(len(A)):\n",
      "    Z.append(A[idx] + B[idx] * C[idx])\n",
      "    \n",
      "print 'Took', time.time() - start_time, 'seconds'\n",
      "    \n",
      "# print Z  # DON'T DO THIS!  It will print all 10000 array items"
     ],
     "language": "python",
     "metadata": {},
     "outputs": []
    },
    {
     "cell_type": "code",
     "collapsed": false,
     "input": [
      "# Create 3 Numpy arrays with a million ints\n",
      "\n",
      "import numpy as np\n",
      "\n",
      "A = np.arange(1000000)\n",
      "B = np.arange(1000000)\n",
      "C = np.arange(1000000)"
     ],
     "language": "python",
     "metadata": {},
     "outputs": []
    },
    {
     "cell_type": "code",
     "collapsed": false,
     "input": [
      "# Time the operation with Numpy\n",
      "start_time = time.time()\n",
      "\n",
      "Z = A + B * C\n",
      "\n",
      "print 'Took', time.time() - start_time, 'seconds'"
     ],
     "language": "python",
     "metadata": {},
     "outputs": []
    },
    {
     "cell_type": "code",
     "collapsed": false,
     "input": [
      "# Print the result\n",
      "Z = A + B * C\n",
      "print Z"
     ],
     "language": "python",
     "metadata": {},
     "outputs": []
    },
    {
     "cell_type": "markdown",
     "metadata": {},
     "source": [
      "In addition to just *looking* simpler, the Numpy version is significantly faster. The for loop disappears completely and is replaced by vectorized array operations.\n",
      "\n",
      "#### Memory Usage\n",
      "3 x 1000000 lists of Python ints: ~96 MB\n",
      "\n",
      "3 x 1000000 Numpy arrays of 64-bit ints: ~32 MB"
     ]
    },
    {
     "cell_type": "markdown",
     "metadata": {},
     "source": [
      "### More human-friendly interfaces to numerical libraries\n",
      "\n",
      "<img src=\"https://raw.github.com/swcarpentry/2013-09-16-stsci/students/lessons/python-astro/caxpy.png\" />"
     ]
    },
    {
     "cell_type": "markdown",
     "metadata": {},
     "source": [
      "###<code>numpy</code> arrays"
     ]
    },
    {
     "cell_type": "code",
     "collapsed": false,
     "input": [
      "import numpy as np"
     ],
     "language": "python",
     "metadata": {},
     "outputs": [],
     "prompt_number": 129
    },
    {
     "cell_type": "code",
     "collapsed": false,
     "input": [
      "#Convert list to an array\n",
      "xlist = range(10)\n",
      "print xlist"
     ],
     "language": "python",
     "metadata": {},
     "outputs": [
      {
       "output_type": "stream",
       "stream": "stdout",
       "text": [
        "[0, 1, 2, 3, 4, 5, 6, 7, 8, 9]\n"
       ]
      }
     ],
     "prompt_number": 130
    },
    {
     "cell_type": "code",
     "collapsed": false,
     "input": [
      "xarray = np.array(xlist)\n",
      "print xarray"
     ],
     "language": "python",
     "metadata": {},
     "outputs": [
      {
       "output_type": "stream",
       "stream": "stdout",
       "text": [
        "[0 1 2 3 4 5 6 7 8 9]\n"
       ]
      }
     ],
     "prompt_number": 131
    },
    {
     "cell_type": "code",
     "collapsed": false,
     "input": [
      "print type(xlist)\n",
      "print type(xarray)"
     ],
     "language": "python",
     "metadata": {},
     "outputs": [
      {
       "output_type": "stream",
       "stream": "stdout",
       "text": [
        "<type 'list'>\n",
        "<type 'numpy.ndarray'>\n"
       ]
      }
     ],
     "prompt_number": 132
    },
    {
     "cell_type": "code",
     "collapsed": false,
     "input": [
      "#or \n",
      "xarray = np.arange(10)\n",
      "print xarray\n",
      "type(xarray)"
     ],
     "language": "python",
     "metadata": {},
     "outputs": [
      {
       "output_type": "stream",
       "stream": "stdout",
       "text": [
        "[0 1 2 3 4 5 6 7 8 9]\n"
       ]
      },
      {
       "output_type": "pyout",
       "prompt_number": 133,
       "text": [
        "numpy.ndarray"
       ]
      }
     ],
     "prompt_number": 133
    },
    {
     "cell_type": "code",
     "collapsed": false,
     "input": [
      "#multiplication\n",
      "print \"this is what happens when you multiply an array by 2\"\n",
      "print 2*xarray\n",
      "print \"this is what happens when you multiply a list by 2\"\n",
      "print 2 * xlist"
     ],
     "language": "python",
     "metadata": {},
     "outputs": [
      {
       "output_type": "stream",
       "stream": "stdout",
       "text": [
        "this is what happens when you multiply an array by 2\n",
        "[ 0  2  4  6  8 10 12 14 16 18]\n",
        "this is what happens when you multiply a list by 2\n",
        "[0, 1, 2, 3, 4, 5, 6, 7, 8, 9, 0, 1, 2, 3, 4, 5, 6, 7, 8, 9]\n"
       ]
      }
     ],
     "prompt_number": 134
    },
    {
     "cell_type": "code",
     "collapsed": false,
     "input": [
      "#Multiplication of arrays of the same size is performed pair-wise, not at matrix multiplication\n",
      "print xarray*xarray"
     ],
     "language": "python",
     "metadata": {},
     "outputs": [
      {
       "output_type": "stream",
       "stream": "stdout",
       "text": [
        "[ 0  1  4  9 16 25 36 49 64 81]\n"
       ]
      }
     ],
     "prompt_number": 135
    },
    {
     "cell_type": "code",
     "collapsed": false,
     "input": [
      "#Addition\n",
      "print xarray + 3\n",
      "print xarray + xarray"
     ],
     "language": "python",
     "metadata": {},
     "outputs": [
      {
       "output_type": "stream",
       "stream": "stdout",
       "text": [
        "[ 3  4  5  6  7  8  9 10 11 12]\n",
        "[ 0  2  4  6  8 10 12 14 16 18]\n"
       ]
      }
     ],
     "prompt_number": 136
    },
    {
     "cell_type": "markdown",
     "metadata": {},
     "source": [
      "####array methods and functions"
     ]
    },
    {
     "cell_type": "code",
     "collapsed": false,
     "input": [
      "#max\n",
      "array_max = xarray.max()\n",
      "print array_max\n",
      "#min\n",
      "array_min = xarray.min()\n",
      "print array_min\n",
      "#mean\n",
      "array_mean = xarray.mean()\n",
      "print array_mean"
     ],
     "language": "python",
     "metadata": {},
     "outputs": [
      {
       "output_type": "stream",
       "stream": "stdout",
       "text": [
        "9\n",
        "0\n",
        "4.5\n"
       ]
      }
     ],
     "prompt_number": 137
    },
    {
     "cell_type": "code",
     "collapsed": false,
     "input": [
      "#sort\n",
      "new_array = np.array([3, 1, 6, 2, 8])\n",
      "sorted_array = np.sort(new_array)\n",
      "print sorted_array"
     ],
     "language": "python",
     "metadata": {},
     "outputs": [
      {
       "output_type": "stream",
       "stream": "stdout",
       "text": [
        "[1 2 3 6 8]\n"
       ]
      }
     ],
     "prompt_number": 138
    },
    {
     "cell_type": "code",
     "collapsed": false,
     "input": [
      "#Get index to sort array\n",
      "indx = np.argsort(new_array)\n",
      "print new_array\n",
      "print indx"
     ],
     "language": "python",
     "metadata": {},
     "outputs": [
      {
       "output_type": "stream",
       "stream": "stdout",
       "text": [
        "[3 1 6 2 8]\n",
        "[1 3 0 2 4]\n"
       ]
      }
     ],
     "prompt_number": 139
    },
    {
     "cell_type": "code",
     "collapsed": false,
     "input": [
      "print new_array[indx[0]]"
     ],
     "language": "python",
     "metadata": {},
     "outputs": [
      {
       "output_type": "stream",
       "stream": "stdout",
       "text": [
        "1\n"
       ]
      }
     ],
     "prompt_number": 140
    },
    {
     "cell_type": "markdown",
     "metadata": {},
     "source": [
      "###Reading text files"
     ]
    },
    {
     "cell_type": "code",
     "collapsed": false,
     "input": [
      "from astropy.io import ascii"
     ],
     "language": "python",
     "metadata": {},
     "outputs": [],
     "prompt_number": 2
    },
    {
     "cell_type": "code",
     "collapsed": false,
     "input": [
      "solar_system_data = ascii.read('../../data/astro/solarsystem.txt', data_start = 5, names = ['Name', '#', 'Orbits', 'Distance', 'period', 'Incl', 'Eccen'])\n",
      "print solar_system_data"
     ],
     "language": "python",
     "metadata": {},
     "outputs": [
      {
       "output_type": "stream",
       "stream": "stdout",
       "text": [
        "  Name    #   Orbits Distance  period  Incl Eccen\n",
        "-------- --- ------- -------- ------- ----- -----\n",
        "   Venus   2     Sun   108200   224.7  3.39  0.01\n",
        "   Earth   3     Sun   149600  365.26   0.0  0.02\n",
        "    Mars   4     Sun   227940  686.98  1.85  0.09\n",
        " Jupiter   5     Sun   778330 4332.71  1.31  0.05\n",
        "  Saturn   6     Sun  1429400 10759.5  2.49  0.06\n",
        "  Uranus   7     Sun  2870990 30685.0  0.77  0.05\n",
        " Neptune   8     Sun  4504300 60190.0  1.77  0.01\n",
        "   Pluto   9     Sun  5913520 90550.0 17.15  0.25\n",
        "    Moon   1   Earth      384   27.32  5.14  0.05\n",
        "  Phobos   1    Mars        9    0.32   1.0  0.02\n",
        "  Deimos   2    Mars       23    1.26   1.8   0.0\n",
        "     ... ...     ...      ...     ...   ...   ...\n",
        "Prospero  18  Uranus    16568 -2019.0 152.0  0.44\n",
        " Setebos  19  Uranus    17681 -2239.0 158.0  0.57\n",
        "   Naiad   3 Neptune       48    0.29   0.0   0.0\n",
        "Thalassa   4 Neptune       50    0.31   4.5   0.0\n",
        " Despina   5 Neptune       53    0.33   0.0   0.0\n",
        " Galatea   6 Neptune       62    0.43   0.0   0.0\n",
        " Larissa   7 Neptune       74    0.55   0.0   0.0\n",
        " Proteus   8 Neptune      118    1.12   0.0   0.0\n",
        "  Triton   1 Neptune      355   -5.88 157.0   0.0\n",
        "  Nereid   2 Neptune     5513  360.13  29.0  0.75\n",
        "  Charon   1   Pluto       20    6.39  98.8   0.0\n"
       ]
      }
     ],
     "prompt_number": 3
    },
    {
     "cell_type": "code",
     "collapsed": false,
     "input": [
      "solar_system_data.colnames"
     ],
     "language": "python",
     "metadata": {},
     "outputs": []
    },
    {
     "cell_type": "code",
     "collapsed": false,
     "input": [
      "print solar_system_data['Name']"
     ],
     "language": "python",
     "metadata": {},
     "outputs": []
    },
    {
     "cell_type": "code",
     "collapsed": false,
     "input": [
      "####Find which planets orbit the Sun"
     ],
     "language": "python",
     "metadata": {},
     "outputs": []
    },
    {
     "cell_type": "code",
     "collapsed": false,
     "input": [
      "orbits_sun_indx = np.where(solar_system_data['Orbits'] == 'Sun')\n",
      "print orbits_sun_indx\n",
      "print solar_system_data['Name'][orbits_sun_indx]"
     ],
     "language": "python",
     "metadata": {},
     "outputs": [
      {
       "output_type": "stream",
       "stream": "stdout",
       "text": [
        "(array([0, 1, 2, 3, 4, 5, 6, 7]),)\n",
        "  Name \n",
        "-------\n",
        "  Venus\n",
        "  Earth\n",
        "   Mars\n",
        "Jupiter\n",
        " Saturn\n",
        " Uranus\n",
        "Neptune\n",
        "  Pluto\n"
       ]
      }
     ],
     "prompt_number": 143
    },
    {
     "cell_type": "markdown",
     "metadata": {},
     "source": [
      "##Exercise:\n",
      "1. Find the max, min, and mean orbital distance of the moons of Neptune\n",
      "2. Which of Neptune's moons orbits closest to Neptune?"
     ]
    },
    {
     "cell_type": "code",
     "collapsed": false,
     "input": [
      "#Solution:\n",
      "solar_system_data = ascii.read('../../data/astro/solarsystem.txt', data_start = 5, names = ['Name', '#', 'Orbits', 'Distance', 'period', 'Incl', 'Eccen'])\n",
      "\n",
      "#1\n",
      "neptune_obj_indx = np.where(solar_system_data['Orbits'] == 'Neptune')\n",
      "print 'mean orbital distance = ', np.mean(solar_system_data['Distance'][neptune_obj_indx])\n",
      "print 'max orbital distance = ', np.max(solar_system_data['Distance'][neptune_obj_indx])\n",
      "print 'min orbital distance = ', np.min(solar_system_data['Distance'][neptune_obj_indx])\n",
      "\n",
      "#2\n",
      "min_indx = solar_system_data['Distance'][neptune_obj_indx].argmin()\n",
      "print 'Closest moon to Neptune = ', solar_system_data['Name'][neptune_obj_indx][min_indx]"
     ],
     "language": "python",
     "metadata": {},
     "outputs": [
      {
       "output_type": "stream",
       "stream": "stdout",
       "text": [
        "mean orbital distance =  784.125\n",
        "max orbital distance =  5513\n",
        "min orbital distance =  48\n",
        "Closest moon to Neptune =  Naiad\n"
       ]
      }
     ],
     "prompt_number": 144
    },
    {
     "cell_type": "markdown",
     "metadata": {},
     "source": [
      "##Example 2: Reading, writing and Displaying Images"
     ]
    },
    {
     "cell_type": "code",
     "collapsed": false,
     "input": [
      "from astropy.io import fits as pyfits\n",
      "from matplotlib import pyplot"
     ],
     "language": "python",
     "metadata": {},
     "outputs": [],
     "prompt_number": 3
    },
    {
     "cell_type": "markdown",
     "metadata": {},
     "source": [
      "###Reading imaging data"
     ]
    },
    {
     "cell_type": "code",
     "collapsed": false,
     "input": [
      "#Open the file and read in the data\n",
      "ofile = pyfits.open('../../data/astro/o8k801030_flt.fits')\n",
      "img = ofile[1].data\n",
      "hdr = ofile[0].header"
     ],
     "language": "python",
     "metadata": {},
     "outputs": [],
     "prompt_number": 4
    },
    {
     "cell_type": "code",
     "collapsed": false,
     "input": [
      "ofile.info()"
     ],
     "language": "python",
     "metadata": {},
     "outputs": [
      {
       "output_type": "stream",
       "stream": "stdout",
       "text": [
        "Filename: ../../data/astro/o8k801030_flt.fits\n",
        "No.    Name         Type      Cards   Dimensions   Format\n",
        "0    PRIMARY     PrimaryHDU     215   ()           int16   \n",
        "1    SCI         ImageHDU       107   (1024, 1024)   float32   \n",
        "2    ERR         ImageHDU        71   (1024, 1024)   float32   \n",
        "3    DQ          ImageHDU        71   (1024, 1024)   int16   \n",
        "4    SCI         ImageHDU       107   (1024, 1024)   float32   \n",
        "5    ERR         ImageHDU        71   (1024, 1024)   float32   \n",
        "6    DQ          ImageHDU        71   (1024, 1024)   int16   \n",
        "7    SCI         ImageHDU       107   (1024, 1024)   float32   \n",
        "8    ERR         ImageHDU        71   (1024, 1024)   float32   \n",
        "9    DQ          ImageHDU        71   (1024, 1024)   int16   \n",
        "10   SCI         ImageHDU       107   (1024, 1024)   float32   \n",
        "11   ERR         ImageHDU        71   (1024, 1024)   float32   \n",
        "12   DQ          ImageHDU        71   (1024, 1024)   int16   \n",
        "13   SCI         ImageHDU       107   (1024, 1024)   float32   \n",
        "14   ERR         ImageHDU        71   (1024, 1024)   float32   \n",
        "15   DQ          ImageHDU        71   (1024, 1024)   int16   \n",
        "16   SCI         ImageHDU       107   (1024, 1024)   float32   \n",
        "17   ERR         ImageHDU        71   (1024, 1024)   float32   \n",
        "18   DQ          ImageHDU        71   (1024, 1024)   int16   \n",
        "19   SCI         ImageHDU       107   (1024, 1024)   float32   \n",
        "20   ERR         ImageHDU        71   (1024, 1024)   float32   \n",
        "21   DQ          ImageHDU        71   (1024, 1024)   int16   \n"
       ]
      }
     ],
     "prompt_number": 5
    },
    {
     "cell_type": "code",
     "collapsed": false,
     "input": [
      "#investigate header\n",
      "print hdr['aperture']\n",
      "print hdr['targname']"
     ],
     "language": "python",
     "metadata": {},
     "outputs": [
      {
       "output_type": "stream",
       "stream": "stdout",
       "text": [
        "25MAMA\n",
        "JUPITER-NORTH-SPOT-LONGVISIT\n"
       ]
      }
     ],
     "prompt_number": 147
    },
    {
     "cell_type": "code",
     "collapsed": false,
     "input": [
      "#Investigate img\n",
      "print np.shape(img)\n",
      "#note this is [y, x]\n",
      "print img[0:5, 0:4]"
     ],
     "language": "python",
     "metadata": {},
     "outputs": [
      {
       "output_type": "stream",
       "stream": "stdout",
       "text": [
        "(1024, 1024)\n",
        "[[  2.02994900e+01   4.06988001e+00   3.05230594e+00  -9.16477118e-04]\n",
        " [  1.72954197e+01   1.52611847e+01   8.13920498e+00   5.08686876e+00]\n",
        " [  1.62743740e+01   1.42405519e+01   4.06824255e+00   4.06841040e+00]\n",
        " [  1.42368050e+01   1.32203712e+01   6.10146904e+00   2.03329682e+00]\n",
        " [  6.09961081e+00   1.01670513e+01   5.08327866e+00   7.11725235e+00]]\n"
       ]
      }
     ],
     "prompt_number": 148
    },
    {
     "cell_type": "markdown",
     "metadata": {},
     "source": [
      "###Displaying imaging data"
     ]
    },
    {
     "cell_type": "code",
     "collapsed": false,
     "input": [
      "#Display the image without interpolation\n",
      "pyplot.imshow(img, interpolation = 'nearest')"
     ],
     "language": "python",
     "metadata": {},
     "outputs": [
      {
       "output_type": "pyout",
       "prompt_number": 149,
       "text": [
        "<matplotlib.image.AxesImage at 0x1130267d0>"
       ]
      }
     ],
     "prompt_number": 149
    },
    {
     "cell_type": "markdown",
     "metadata": {},
     "source": [
      "###Pause, take a minute to expore:\n",
      "\n",
      "* zooming\n",
      "* home\n",
      "* panning\n",
      "* save figure"
     ]
    },
    {
     "cell_type": "code",
     "collapsed": false,
     "input": [
      "#Display the image specifically assigning a color map\n",
      "pyplot.imshow(img, interpolation = 'nearest', cmap = 'bone')"
     ],
     "language": "python",
     "metadata": {},
     "outputs": [
      {
       "output_type": "pyout",
       "prompt_number": 150,
       "text": [
        "<matplotlib.image.AxesImage at 0x11f6030d0>"
       ]
      }
     ],
     "prompt_number": 150
    },
    {
     "cell_type": "code",
     "collapsed": false,
     "input": [
      "#Close the plotting window\n",
      "pyplot.close()"
     ],
     "language": "python",
     "metadata": {},
     "outputs": [],
     "prompt_number": 151
    },
    {
     "cell_type": "code",
     "collapsed": false,
     "input": [
      "#Create an image object\n",
      "plt_img = pyplot.imshow(img, interpolation = 'nearest', cmap = 'bone')"
     ],
     "language": "python",
     "metadata": {},
     "outputs": [],
     "prompt_number": 152
    },
    {
     "cell_type": "code",
     "collapsed": false,
     "input": [
      "#Change the color map without replotting\n",
      "plt_img.set_cmap('hot')"
     ],
     "language": "python",
     "metadata": {},
     "outputs": [],
     "prompt_number": 153
    },
    {
     "cell_type": "code",
     "collapsed": false,
     "input": [
      "#Find the contrast limits from the image object\n",
      "print plt_img.get_clim()"
     ],
     "language": "python",
     "metadata": {},
     "outputs": [
      {
       "output_type": "stream",
       "stream": "stdout",
       "text": [
        "(-0.34891507, 176.52896)\n"
       ]
      }
     ],
     "prompt_number": 154
    },
    {
     "cell_type": "code",
     "collapsed": false,
     "input": [
      "#Set the contrast limits on the image object\n",
      "plt_img.set_clim(0, 50)"
     ],
     "language": "python",
     "metadata": {},
     "outputs": [],
     "prompt_number": 155
    },
    {
     "cell_type": "code",
     "collapsed": false,
     "input": [
      "#For python to write all changes to the plotting window, then return the cursor to you\n",
      "#Note: pyplot.show() does not return the cursor and you have to close the plotting window \n",
      "#      before you can do anything else\n",
      "pyplot.draw()"
     ],
     "language": "python",
     "metadata": {},
     "outputs": [],
     "prompt_number": 156
    },
    {
     "cell_type": "code",
     "collapsed": false,
     "input": [
      "#Find pixels which do not have enough counts to be the aurora and mask them out\n",
      "not_aurora_indx = np.where(img <= 5*np.mean(img))\n",
      "img[not_aurora_indx] = 0.0\n",
      "pyplot.imshow(img)"
     ],
     "language": "python",
     "metadata": {},
     "outputs": [
      {
       "output_type": "pyout",
       "prompt_number": 157,
       "text": [
        "<matplotlib.image.AxesImage at 0x10edd1b90>"
       ]
      }
     ],
     "prompt_number": 157
    },
    {
     "cell_type": "code",
     "collapsed": false,
     "input": [
      "#Python will guess the file format from the suffix\n",
      "#common suffixes: pdf, png, ps, eps\n",
      "pyplot.savefig('aurora_mask.pdf')"
     ],
     "language": "python",
     "metadata": {},
     "outputs": [],
     "prompt_number": 158
    },
    {
     "cell_type": "markdown",
     "metadata": {},
     "source": [
      "###Exercise 2:\n",
      "\n",
      "1. read in the fits file '../../data/astro/o8k801050_flt.fits'\n",
      "2. Display the image with the spectral color map\n",
      "3. Find the indexes of the aurora pixels\n",
      "4. Find the average value of the aurora pixels\n",
      "5. Save your figure"
     ]
    },
    {
     "cell_type": "code",
     "collapsed": false,
     "input": [
      "#Solutions:\n",
      "#1\n",
      "ofile = pyfits.open('../../data/astro/o8k801030_flt.fits')\n",
      "img = ofile[1].data\n",
      "\n",
      "#2\n",
      "plt_img = pyplot.imshow(img, interpolation = 'nearest', cmap = 'spectral')\n",
      "\n",
      "#3\n",
      "aurora_indx = np.where(img > 5*np.mean(img))\n",
      "\n",
      "#4\n",
      "print np.median(img[aurora_indx]), np.mean(img[aurora_indx])\n",
      "\n",
      "#5\n",
      "pyplot.savefig('exercise2_aurora.pdf')"
     ],
     "language": "python",
     "metadata": {},
     "outputs": [
      {
       "output_type": "stream",
       "stream": "stdout",
       "text": [
        "37.545753479 44.2127095588\n"
       ]
      }
     ],
     "prompt_number": 159
    },
    {
     "cell_type": "code",
     "collapsed": false,
     "input": [
      "pyplot.close()"
     ],
     "language": "python",
     "metadata": {},
     "outputs": [],
     "prompt_number": 160
    },
    {
     "cell_type": "markdown",
     "metadata": {},
     "source": [
      "##Plotting Spectra\n",
      "\n",
      "In this section you normalize a COS spectrum by the continuum and write a new fits file"
     ]
    },
    {
     "cell_type": "markdown",
     "metadata": {},
     "source": [
      "###Read in table data"
     ]
    },
    {
     "cell_type": "code",
     "collapsed": false,
     "input": [
      "###Table Data\n",
      "ofile = pyfits.open('../../data/astro/lbxm1b010_x1dsum.fits')\n",
      "tbdata = ofile[1].data"
     ],
     "language": "python",
     "metadata": {},
     "outputs": [],
     "prompt_number": 220
    },
    {
     "cell_type": "code",
     "collapsed": false,
     "input": [
      "print tbdata"
     ],
     "language": "python",
     "metadata": {},
     "outputs": [
      {
       "output_type": "stream",
       "stream": "stdout",
       "text": [
        "[ ('FUVA', 760.06399999999996, 16384, array([ 1287.84198537,  1287.85195217,  1287.86191896, ...,  1451.10804659,\n",
        "        1451.11801338,  1451.12798018]), array([ 0.,  0.,  0., ...,  0.,  0.,  0.], dtype=float32), array([ 0.,  0.,  0., ...,  0.,  0.,  0.], dtype=float32), array([ 0.,  0.,  0., ...,  0.,  0.,  0.], dtype=float32), array([ 0.,  0.,  0., ...,  0.,  0.,  0.], dtype=float32), array([ 0.,  0.,  0., ...,  0.,  0.,  0.], dtype=float32), array([ 0.,  0.,  0., ...,  0.,  0.,  0.], dtype=float32), array([  0, 128, 128, ..., 128, 128,   0], dtype=int16), array([ 0.,  0.,  0., ...,  0.,  0.,  0.], dtype=float32))\n",
        " ('FUVB', 760.06399999999996, 16384, array([ 1134.56425751,  1134.57422121,  1134.5841849 , ...,  1297.77953029,\n",
        "        1297.78949398,  1297.79945768]), array([ 0.,  0.,  0., ...,  0.,  0.,  0.], dtype=float32), array([ 0.,  0.,  0., ...,  0.,  0.,  0.], dtype=float32), array([ 0.,  0.,  0., ...,  0.,  0.,  0.], dtype=float32), array([ 0.,  0.,  0., ...,  0.,  0.,  0.], dtype=float32), array([ 0.,  0.,  0., ...,  0.,  0.,  0.], dtype=float32), array([ 0.,  0.,  0., ...,  0.,  0.,  0.], dtype=float32), array([  0, 128, 128, ..., 128, 128,   0], dtype=int16), array([ 0.,  0.,  0., ...,  0.,  0.,  0.], dtype=float32))]\n"
       ]
      }
     ],
     "prompt_number": 221
    },
    {
     "cell_type": "code",
     "collapsed": false,
     "input": [
      "print tbdata.names"
     ],
     "language": "python",
     "metadata": {},
     "outputs": [
      {
       "output_type": "stream",
       "stream": "stdout",
       "text": [
        "['SEGMENT', 'EXPTIME', 'NELEM', 'WAVELENGTH', 'FLUX', 'ERROR', 'GROSS', 'GCOUNTS', 'NET', 'BACKGROUND', 'DQ', 'DQ_WGT']\n"
       ]
      }
     ],
     "prompt_number": 222
    },
    {
     "cell_type": "code",
     "collapsed": false,
     "input": [
      "print tbdata.columns"
     ],
     "language": "python",
     "metadata": {},
     "outputs": [
      {
       "output_type": "stream",
       "stream": "stdout",
       "text": [
        "ColDefs(\n",
        "    name = 'SEGMENT'; format = '4A'\n",
        "    name = 'EXPTIME'; format = 'D'; unit = 's'; disp = 'F8.3'\n",
        "    name = 'NELEM'; format = 'J'; disp = 'I6'\n",
        "    name = 'WAVELENGTH'; format = '16384D'; unit = 'angstrom'\n",
        "    name = 'FLUX'; format = '16384E'; unit = 'erg /s /cm**2 /angstrom'\n",
        "    name = 'ERROR'; format = '16384E'; unit = 'erg /s /cm**2 /angstrom'\n",
        "    name = 'GROSS'; format = '16384E'; unit = 'count /s'\n",
        "    name = 'GCOUNTS'; format = '16384E'; unit = 'count'\n",
        "    name = 'NET'; format = '16384E'; unit = 'count /s'\n",
        "    name = 'BACKGROUND'; format = '16384E'; unit = 'count /s'\n",
        "    name = 'DQ'; format = '16384I'\n",
        "    name = 'DQ_WGT'; format = '16384E'\n",
        ")\n"
       ]
      }
     ],
     "prompt_number": 223
    },
    {
     "cell_type": "code",
     "collapsed": false,
     "input": [
      "wl = tbdata['wavelength']\n",
      "flux = tbdata['flux']"
     ],
     "language": "python",
     "metadata": {},
     "outputs": [],
     "prompt_number": 224
    },
    {
     "cell_type": "markdown",
     "metadata": {},
     "source": [
      "###Plot data"
     ]
    },
    {
     "cell_type": "code",
     "collapsed": false,
     "input": [
      "#plot Segment A (row 1)\n",
      "pyplot.plot(wl[0], flux[0])\n",
      "\n",
      "#plot Segment B (row 2)\n",
      "pyplot.plot(wl[1], flux[1])"
     ],
     "language": "python",
     "metadata": {},
     "outputs": [
      {
       "output_type": "pyout",
       "prompt_number": 225,
       "text": [
        "[<matplotlib.lines.Line2D at 0x143e22950>]"
       ]
      }
     ],
     "prompt_number": 225
    },
    {
     "cell_type": "code",
     "collapsed": false,
     "input": [
      "#Boxcar smooth with a box of 25\n",
      "from stsci.convolve import boxcar\n",
      "#plot Segment A (row 1)\n",
      "pyplot.plot(wl[0], boxcar(flux[0], (25,)))"
     ],
     "language": "python",
     "metadata": {},
     "outputs": [
      {
       "output_type": "pyout",
       "prompt_number": 226,
       "text": [
        "[<matplotlib.lines.Line2D at 0x143e12310>]"
       ]
      }
     ],
     "prompt_number": 226
    },
    {
     "cell_type": "code",
     "collapsed": false,
     "input": [
      "#Label our plot\n",
      "pyplot.xlabel('Wavelength $\\AA$')\n",
      "pyplot.ylabel('Flux')\n",
      "pyplot.title('WD0308-565')"
     ],
     "language": "python",
     "metadata": {},
     "outputs": [
      {
       "output_type": "pyout",
       "prompt_number": 227,
       "text": [
        "<matplotlib.text.Text at 0x140d9a150>"
       ]
      }
     ],
     "prompt_number": 227
    },
    {
     "cell_type": "markdown",
     "metadata": {},
     "source": [
      "###Fit continuum"
     ]
    },
    {
     "cell_type": "code",
     "collapsed": false,
     "input": [
      "#Fit a first order polynomial\n",
      "coeff = np.polyfit(wl[0], flux[0], 1)\n",
      "print coeff"
     ],
     "language": "python",
     "metadata": {},
     "outputs": [
      {
       "output_type": "stream",
       "stream": "stdout",
       "text": [
        "[ -5.16921370e-17   2.51746030e-13]\n"
       ]
      }
     ],
     "prompt_number": 228
    },
    {
     "cell_type": "code",
     "collapsed": false,
     "input": [
      "yfit = np.polyval(coeff, wl[0])\n",
      "pyplot.plot(wl[0], yfit)"
     ],
     "language": "python",
     "metadata": {},
     "outputs": [
      {
       "output_type": "pyout",
       "prompt_number": 229,
       "text": [
        "[<matplotlib.lines.Line2D at 0x144aaec90>]"
       ]
      }
     ],
     "prompt_number": 229
    },
    {
     "cell_type": "code",
     "collapsed": false,
     "input": [
      "#Use Data quality flags to avoid areas of 0 flux\n",
      "dq = tbdata['dq']\n",
      "good_data_indx_a = np.where(dq[0] == 0)\n",
      "coeff_a = np.polyfit(wl[0][good_data_indx_a], flux[0][good_data_indx_a], 1)\n",
      "yfit_a = np.polyval(coeff_a, wl[0])\n",
      "pyplot.plot(wl[0], yfit_a)"
     ],
     "language": "python",
     "metadata": {},
     "outputs": [
      {
       "output_type": "pyout",
       "prompt_number": 230,
       "text": [
        "[<matplotlib.lines.Line2D at 0x13b681bd0>]"
       ]
      }
     ],
     "prompt_number": 230
    },
    {
     "cell_type": "code",
     "collapsed": false,
     "input": [
      "#Use Data quality flags to avoid areas of 0 flux\n",
      "dq = tbdata['dq']\n",
      "good_data_indx_b = np.where(dq[1] == 0)\n",
      "coeff_b = np.polyfit(wl[1][good_data_indx_b], flux[1][good_data_indx_b], 1)\n",
      "yfit_b = np.polyval(coeff_b, wl[1])\n",
      "pyplot.plot(wl[1], yfit_b)"
     ],
     "language": "python",
     "metadata": {},
     "outputs": [
      {
       "output_type": "pyout",
       "prompt_number": 231,
       "text": [
        "[<matplotlib.lines.Line2D at 0x13b683210>]"
       ]
      }
     ],
     "prompt_number": 231
    },
    {
     "cell_type": "code",
     "collapsed": false,
     "input": [
      "#using bitwise and in a where statement\n",
      "good_data_indx_b = np.where((dq[1] == 0) & ((wl[1]< 1214) | (wl[1] > 1218)))\n",
      "coeff_b = np.polyfit(wl[1][good_data_indx_b], flux[1][good_data_indx_b], 1)\n",
      "yfit_b = np.polyval(coeff_b, wl[1])\n",
      "pyplot.plot(wl[1], yfit_b)"
     ],
     "language": "python",
     "metadata": {},
     "outputs": [
      {
       "output_type": "pyout",
       "prompt_number": 232,
       "text": [
        "[<matplotlib.lines.Line2D at 0x13b681210>]"
       ]
      }
     ],
     "prompt_number": 232
    },
    {
     "cell_type": "code",
     "collapsed": false,
     "input": [
      "#Add a legend\n",
      "pyplot.legend(['Segment A', 'Segment B', 'Smoothed segment A', 'Fit with all pixels segment A', \\\n",
      "                'Fit with good pixels segment A', 'Fit with good pixels segment B', 'Fit with good pixels segment B avoid Ly-A'], \\\n",
      "                 loc = 'best')"
     ],
     "language": "python",
     "metadata": {},
     "outputs": [
      {
       "output_type": "pyout",
       "prompt_number": 233,
       "text": [
        "<matplotlib.legend.Legend at 0x13b681890>"
       ]
      }
     ],
     "prompt_number": 233
    },
    {
     "cell_type": "markdown",
     "metadata": {},
     "source": [
      "###Useful plotting options\n",
      "\n",
      "* linestyle - ':', '--', '-', ':-', ':--'\n",
      "\n",
      "* linewidth\n",
      "\n",
      "* marker - '.', 'o', 'v', '^', '*', 's', 'p', 'd'\n",
      "\n",
      "* color - default colors it cycles through or you can specify with name or hexidecimal ('b', 'g', 'r', 'c', 'm', 'y', 'k')"
     ]
    },
    {
     "cell_type": "code",
     "collapsed": false,
     "input": [
      "pyplot.plot(wl[1], yfit_b, linestyle = ':', linewidth = 4, color = 'r', marker = 'o')"
     ],
     "language": "python",
     "metadata": {},
     "outputs": [
      {
       "output_type": "pyout",
       "prompt_number": 234,
       "text": [
        "[<matplotlib.lines.Line2D at 0x13b68d050>]"
       ]
      }
     ],
     "prompt_number": 234
    },
    {
     "cell_type": "code",
     "collapsed": false,
     "input": [
      "#update legend\n",
      "pyplot.legend(['Segment A', 'Segment B', 'Smoothed segment A', 'Fit with all pixels segment A', \\\n",
      "                'Fit with good pixels segment A', 'Fit with good pixels segment B',  'Fit with good pixels segment B avoid Ly-A', 'Fit with good pixels segment B, points'], \\\n",
      "                 loc = 'best')"
     ],
     "language": "python",
     "metadata": {},
     "outputs": [
      {
       "output_type": "pyout",
       "prompt_number": 236,
       "text": [
        "<matplotlib.legend.Legend at 0x13b68d410>"
       ]
      }
     ],
     "prompt_number": 236
    },
    {
     "cell_type": "markdown",
     "metadata": {},
     "source": [
      "###Normalize Spectrum"
     ]
    },
    {
     "cell_type": "code",
     "collapsed": false,
     "input": [
      "#Normalize\n",
      "flux[0] = flux[0] / yfit_a\n",
      "flux[1] = flux[1] / yfit_b\n",
      "\n",
      "#Make a new plot window and plot\n",
      "pyplot.figure()\n",
      "pyplot.plot(wl[0], flux[0])\n",
      "pyplot.plot(wl[1], flux[1])"
     ],
     "language": "python",
     "metadata": {},
     "outputs": [
      {
       "output_type": "pyout",
       "prompt_number": 200,
       "text": [
        "[<matplotlib.lines.Line2D at 0x140dcba50>]"
       ]
      }
     ],
     "prompt_number": 200
    },
    {
     "cell_type": "markdown",
     "metadata": {},
     "source": [
      "###Write out normalized spectrum"
     ]
    },
    {
     "cell_type": "code",
     "collapsed": false,
     "input": [
      "#update HDU object\n",
      "ofile[1].data['flux'][0] = flux[0]\n",
      "ofile[1].data['flux'][1] = flux[1]\n",
      "#Write HDU object to a file\n",
      "ofile.writeto('lbxm1b010_x1dsum_norm.fits', clobber = True)\n",
      "#Note: this is more complicated (but well documented) when you are creating your own table rather than updating an existing table"
     ],
     "language": "python",
     "metadata": {},
     "outputs": [],
     "prompt_number": 202
    },
    {
     "cell_type": "markdown",
     "metadata": {},
     "source": [
      "##Exercise 3\n",
      "\n",
      "1. Read in the file ../../data/astro/lbp507070_x1dsum.fits\n",
      "2. Plot the Flux of Segments A and B in green and magenta respectively\n",
      "3. Normalize Segment B (the short wavelength segment) to the continuum excluding regions you think may confuse the continuum fit\n",
      "4. Plot your normalized spectrum in a new plot\n",
      "5. Write your normalized output to a fits file"
     ]
    },
    {
     "cell_type": "code",
     "collapsed": false,
     "input": [
      "#Solution\n",
      "#1\n",
      "ofile = pyfits.open('../../data/astro/lbp507070_x1dsum.fits')\n",
      "tbdata = ofile[1].data\n",
      "\n",
      "#2\n",
      "pyplot.plot(tbdata['wavelength'][0], tbdata['Flux'][0], color = 'g')\n",
      "pyplot.plot(tbdata['wavelength'][1], tbdata['Flux'][1], color = 'm')\n",
      "\n",
      "#3\n",
      "cont_indx = np.where((tbdata['wavelength'][1] > 1414) & (tbdata['wavelength'][1] < 1523))\n",
      "coeff_b = np.polyfit(tbdata['wavelength'][1][cont_indx], tbdata['flux'][1][cont_indx], 1)\n",
      "yfit_b = np.polyval(coeff_b, tbdata['wavelength'][1])\n",
      "pyplot.plot(tbdata['wavelength'][1], yfit_b)\n",
      "\n",
      "tbdata['flux'][1] = tbdata['flux'][1] / yfit_b\n",
      "\n",
      "#4\n",
      "pyplot.figure()\n",
      "pyplot.plot(tbdata['wavelength'][1], tbdata['Flux'][1], color = 'g')\n",
      "\n",
      "#5\n",
      "ofile[1].data['flux'][1] = tbdata['flux'][1]\n",
      "ofile.writeto('ostar_norm_b.fits', clobber = True)\n"
     ],
     "language": "python",
     "metadata": {},
     "outputs": [],
     "prompt_number": 204
    },
    {
     "cell_type": "markdown",
     "metadata": {},
     "source": [
      "##Convienence Commands\n",
      "* pyfits.getdata(filename, ext)\n",
      "* pyfits.getval(filename, keyword, ext)\n",
      "* pyfits.getheader(filename, ext)\n",
      "* pyfits.setval(filename, keyword, value = value, ext = ext)"
     ]
    },
    {
     "cell_type": "code",
     "collapsed": false,
     "input": [],
     "language": "python",
     "metadata": {},
     "outputs": []
    }
   ],
   "metadata": {}
  }
 ]
}