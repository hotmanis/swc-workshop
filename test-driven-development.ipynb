{
 "metadata": {
  "name": ""
 },
 "nbformat": 3,
 "nbformat_minor": 0,
 "worksheets": [
  {
   "cells": [
    {
     "cell_type": "code",
     "collapsed": false,
     "input": [
      "import ears"
     ],
     "language": "python",
     "metadata": {},
     "outputs": [],
     "prompt_number": 1
    },
    {
     "cell_type": "code",
     "collapsed": false,
     "input": [
      "def test_1():\n",
      "    assert moka([]) == []\n",
      "\n",
      "def test_2():\n",
      "    assert moka([1]) == [1]\n",
      "\n",
      "def test_3():\n",
      "    assert moka([1, 2]) == [1, 3]\n",
      "\n",
      "def test_4():\n",
      "    assert moka([1, 2, 3]) == [1, 3, 6]\n",
      "\n",
      "def test_5():\n",
      "    assert moka([1, 2, 3, 1, 2, 3]) == [1, 3, 6, 1, 3, 6]\n",
      "\n",
      "def test_6():\n",
      "    assert moka([1, 1, 2]) == [1, 1, 3]\n",
      "\n",
      "def test_7():\n",
      "    assert moka([1, 3, 6, 2, 5]) == [1, 4, 10, 2, 7]\n",
      "\n",
      "def test_8():\n",
      "    assert moka([1, 3, 3, 5]) == [1, 4, 3, 8]"
     ],
     "language": "python",
     "metadata": {},
     "outputs": [],
     "prompt_number": 3
    },
    {
     "cell_type": "code",
     "collapsed": false,
     "input": [
      "def moka(values):\n",
      "    return []\n",
      "\n",
      "ears.run()"
     ],
     "language": "python",
     "metadata": {},
     "outputs": [
      {
       "output_type": "stream",
       "stream": "stdout",
       "text": [
        "ffffff.f\n",
        "1 pass, 7 fail, 0 error\n",
        "----------------------------------------\n",
        "fail: test_7\n",
        "Traceback (most recent call last):\n",
        "  File \"ears.py\", line 43, in run\n",
        "    test()\n",
        "  File \"<ipython-input-3-4dd012451ea6>\", line 20, in test_7\n",
        "    assert moka([1, 3, 6, 2, 5]) == [1, 4, 10, 2, 7]\n",
        "AssertionError\n",
        "\n",
        "----------------------------------------\n",
        "fail: test_6\n",
        "Traceback (most recent call last):\n",
        "  File \"ears.py\", line 43, in run\n",
        "    test()\n",
        "  File \"<ipython-input-3-4dd012451ea6>\", line 17, in test_6\n",
        "    assert moka([1, 1, 2]) == [1, 1, 3]\n",
        "AssertionError\n",
        "\n",
        "----------------------------------------\n",
        "fail: test_5\n",
        "Traceback (most recent call last):\n",
        "  File \"ears.py\", line 43, in run\n",
        "    test()\n",
        "  File \"<ipython-input-3-4dd012451ea6>\", line 14, in test_5\n",
        "    assert moka([1, 2, 3, 1, 2, 3]) == [1, 3, 6, 1, 3, 6]\n",
        "AssertionError\n",
        "\n",
        "----------------------------------------\n",
        "fail: test_4\n",
        "Traceback (most recent call last):\n",
        "  File \"ears.py\", line 43, in run\n",
        "    test()\n",
        "  File \"<ipython-input-3-4dd012451ea6>\", line 11, in test_4\n",
        "    assert moka([1, 2, 3]) == [1, 3, 6]\n",
        "AssertionError\n",
        "\n",
        "----------------------------------------\n",
        "fail: test_3\n",
        "Traceback (most recent call last):\n",
        "  File \"ears.py\", line 43, in run\n",
        "    test()\n",
        "  File \"<ipython-input-3-4dd012451ea6>\", line 8, in test_3\n",
        "    assert moka([1, 2]) == [1, 3]\n",
        "AssertionError\n",
        "\n",
        "----------------------------------------\n",
        "fail: test_2\n",
        "Traceback (most recent call last):\n",
        "  File \"ears.py\", line 43, in run\n",
        "    test()\n",
        "  File \"<ipython-input-3-4dd012451ea6>\", line 5, in test_2\n",
        "    assert moka([1]) == [1]\n",
        "AssertionError\n",
        "\n",
        "----------------------------------------\n",
        "fail: test_8\n",
        "Traceback (most recent call last):\n",
        "  File \"ears.py\", line 43, in run\n",
        "    test()\n",
        "  File \"<ipython-input-3-4dd012451ea6>\", line 23, in test_8\n",
        "    assert moka([1, 3, 3, 5]) == [1, 4, 3, 8]\n",
        "AssertionError\n",
        "\n"
       ]
      }
     ],
     "prompt_number": 4
    },
    {
     "cell_type": "code",
     "collapsed": false,
     "input": [],
     "language": "python",
     "metadata": {},
     "outputs": []
    }
   ],
   "metadata": {}
  }
 ]
}